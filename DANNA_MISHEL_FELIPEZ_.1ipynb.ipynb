{
  "nbformat": 4,
  "nbformat_minor": 0,
  "metadata": {
    "colab": {
      "provenance": []
    },
    "kernelspec": {
      "name": "python3",
      "display_name": "Python 3"
    },
    "language_info": {
      "name": "python"
    }
  },
  "cells": [
    {
      "cell_type": "markdown",
      "source": [
        "PREGUNTA 1"
      ],
      "metadata": {
        "id": "oyPQntgODmB8"
      }
    },
    {
      "cell_type": "markdown",
      "source": [
        ":$$\n",
        "\\int_-0.6^1.4 1+e^{x^2} dx = \n",
        "$$       "
      ],
      "metadata": {
        "id": "V2Jy1Yn0Feqx"
      }
    },
    {
      "cell_type": "code",
      "source": [
        "import numpy as np\n",
        "import matplotlib.pyplot as plt"
      ],
      "metadata": {
        "id": "nYs8Hj_CFqDH"
      },
      "execution_count": null,
      "outputs": []
    },
    {
      "cell_type": "markdown",
      "source": [
        "GRAFICO"
      ],
      "metadata": {
        "id": "i6W6Vrm1GtLE"
      }
    },
    {
      "cell_type": "code",
      "source": [
        "plt.axvline(0, color='r')   # Eje de las ordenadas\n",
        "plt.axhline(0, color='r')   # Eje de las abscisas\n",
        "\n",
        "x = np.linspace(-0.5, 1.5, 200)\n",
        "y = np.exp(x**2)\n",
        "plt.plot(x, y)\n",
        "\n",
        "plt.grid()\n",
        "plt.show()"
      ],
      "metadata": {
        "colab": {
          "base_uri": "https://localhost:8080/",
          "height": 265
        },
        "id": "qRyNkbxgGIw3",
        "outputId": "6088ded4-fbee-4a46-f03c-88831ac39dc0"
      },
      "execution_count": null,
      "outputs": [
        {
          "output_type": "display_data",
          "data": {
            "text/plain": [
              "<Figure size 432x288 with 1 Axes>"
            ],
            "image/png": "[encoded data removed]"
          },
          "metadata": {
            "needs_background": "light"
          }
        }
      ]
    },
    {
      "cell_type": "markdown",
      "source": [
        "METODO RECTAGULO"
      ],
      "metadata": {
        "id": "alNITPLDIWRe"
      }
    },
    {
      "cell_type": "code",
      "source": [
        "x = np.linspace(-0.6,1.4,120)\n",
        "print(x)\n",
        "print(type(x))\n",
        "y = np.exp(x**2)\n",
        "print(y)\n",
        "y1 = y[0:-1]\n",
        "dx = x[1] - x[0]                        # Ancho de cada rectángulo\n",
        "print(dx)\n",
        "fArea = dx*np.sum(y1)                    # Rectángulo ancho * alto, luego suma\n",
        "print(\"Integral area:\",fArea)"
      ],
      "metadata": {
        "colab": {
          "base_uri": "https://localhost:8080/"
        },
        "id": "Uo4yBTr-H6sK",
        "outputId": "0fbdcdb7-a860-4a91-9bc3-dd1fbe66b945"
      },
      "execution_count": null,
      "outputs": [
        {
          "output_type": "stream",
          "name": "stdout",
          "text": [
            "[-0.6        -0.58319328 -0.56638655 -0.54957983 -0.53277311 -0.51596639\n",
            " -0.49915966 -0.48235294 -0.46554622 -0.4487395  -0.43193277 -0.41512605\n",
            " -0.39831933 -0.38151261 -0.36470588 -0.34789916 -0.33109244 -0.31428571\n",
            " -0.29747899 -0.28067227 -0.26386555 -0.24705882 -0.2302521  -0.21344538\n",
            " -0.19663866 -0.17983193 -0.16302521 -0.14621849 -0.12941176 -0.11260504\n",
            " -0.09579832 -0.0789916  -0.06218487 -0.04537815 -0.02857143 -0.01176471\n",
            "  0.00504202  0.02184874  0.03865546  0.05546218  0.07226891  0.08907563\n",
            "  0.10588235  0.12268908  0.1394958   0.15630252  0.17310924  0.18991597\n",
            "  0.20672269  0.22352941  0.24033613  0.25714286  0.27394958  0.2907563\n",
            "  0.30756303  0.32436975  0.34117647  0.35798319  0.37478992  0.39159664\n",
            "  0.40840336  0.42521008  0.44201681  0.45882353  0.47563025  0.49243697\n",
            "  0.5092437   0.52605042  0.54285714  0.55966387  0.57647059  0.59327731\n",
            "  0.61008403  0.62689076  0.64369748  0.6605042   0.67731092  0.69411765\n",
            "  0.71092437  0.72773109  0.74453782  0.76134454  0.77815126  0.79495798\n",
            "  0.81176471  0.82857143  0.84537815  0.86218487  0.8789916   0.89579832\n",
            "  0.91260504  0.92941176  0.94621849  0.96302521  0.97983193  0.99663866\n",
            "  1.01344538  1.0302521   1.04705882  1.06386555  1.08067227  1.09747899\n",
            "  1.11428571  1.13109244  1.14789916  1.16470588  1.18151261  1.19831933\n",
            "  1.21512605  1.23193277  1.2487395   1.26554622  1.28235294  1.29915966\n",
            "  1.31596639  1.33277311  1.34957983  1.36638655  1.38319328  1.4       ]\n",
            "<class 'numpy.ndarray'>\n",
            "[1.43332941 1.40510832 1.37822126 1.35261261 1.32822994 1.30502384\n",
            " 1.28294776 1.26195784 1.24201279 1.22307372 1.20510406 1.1880694\n",
            " 1.17193741 1.15667773 1.14226186 1.12866309 1.11585642 1.10381848\n",
            " 1.09252742 1.08196293 1.07210609 1.06293937 1.05444655 1.04661268\n",
            " 1.03942405 1.03286813 1.02693354 1.02161003 1.01688843 1.01276063\n",
            " 1.00921956 1.00625918 1.00387444 1.0020613  1.00081666 1.00013842\n",
            " 1.00002542 1.00047748 1.00149536 1.00308079 1.00523646 1.00796603\n",
            " 1.01127415 1.01516647 1.01964964 1.02473135 1.03042033 1.03672642\n",
            " 1.04366053 1.05123472 1.05946224 1.06835753 1.07793629 1.08821553\n",
            " 1.0992136  1.11095025 1.12344672 1.13672573 1.15081166 1.1657305\n",
            " 1.18151003 1.19817985 1.2157715  1.23431854 1.25385667 1.27442382\n",
            " 1.29606032 1.31880898 1.34271526 1.3678274  1.39419661 1.4218772\n",
            " 1.4509268  1.48140657 1.51338134 1.54691991 1.58209527 1.61898484\n",
            " 1.65767076 1.69824021 1.74078569 1.7854054  1.83220358 1.88129091\n",
            " 1.93278494 1.98681055 2.0435004  2.1029955  2.16544574 2.23101052\n",
            " 2.29985934 2.37217256 2.44814214 2.52797239 2.61188091 2.70009946\n",
            " 2.79287501 2.89047079 2.99316747 3.1012644  3.215081   3.33495817\n",
            " 3.46125989 3.59437492 3.73471862 3.88273496 4.03889862 4.20371732\n",
            " 4.37773435 4.5615312  4.75573058 4.96099949 5.17805274 5.40765657\n",
            " 5.65063275 5.90786291 6.18029326 6.46893971 6.77489347 7.09932707]\n",
            "0.01680672268907568\n",
            "Integral area: 3.8742811882464316\n"
          ]
        }
      ]
    },
    {
      "cell_type": "code",
      "source": [
        "x = np.linspace(-0.6,1.4,120)\n",
        "y = np.exp(x**2)\n",
        "y1 = y[0:-1]\n",
        "dx = x[1] - x[0]                        # Ancho de cada rectángulo\n",
        "fArea = dx*np.sum(y1)                    # Rectángulo ancho * alto, luego suma\n",
        "print(\"Integral area:\",fArea)"
      ],
      "metadata": {
        "id": "15UfzJ4II-Dd",
        "colab": {
          "base_uri": "https://localhost:8080/"
        },
        "outputId": "2993b940-2fa2-4bed-cbbf-01ade95256a0"
      },
      "execution_count": null,
      "outputs": [
        {
          "output_type": "stream",
          "name": "stdout",
          "text": [
            "Integral area: 3.8742811882464316\n"
          ]
        }
      ]
    },
    {
      "cell_type": "markdown",
      "source": [
        "METODO TRAPECIO"
      ],
      "metadata": {
        "id": "NZdzS9J6avVq"
      }
    },
    {
      "cell_type": "code",
      "source": [
        "x = np.linspace(-0.6,1.4,120 )\n",
        "y = np.exp(x**2)\n",
        "y1 = y[1:-1]\n",
        "dx = x[1] - x[0]        # Ancho de cada trapecio\n",
        "fsum1 = np.sum(2*y1)\n",
        "fsum = fsum1 + y[0] + y[-1]\n",
        "fArea = (dx/2)*fsum     # suma de areas del trapecio\n",
        "print(fArea)"
      ],
      "metadata": {
        "colab": {
          "base_uri": "https://localhost:8080/"
        },
        "id": "8NZt8rVPakAI",
        "outputId": "7691abd3-0b55-4e12-ea6d-cd37bc2ead01"
      },
      "execution_count": null,
      "outputs": [
        {
          "output_type": "stream",
          "name": "stdout",
          "text": [
            "3.9218946138816944\n"
          ]
        }
      ]
    },
    {
      "cell_type": "markdown",
      "source": [
        "PREGUNTA 2"
      ],
      "metadata": {
        "id": "yZ2eYgIkc35a"
      }
    },
    {
      "cell_type": "code",
      "source": [],
      "metadata": {
        "id": "mqlSzgK0byNQ"
      },
      "execution_count": null,
      "outputs": []
    }
  ]
}