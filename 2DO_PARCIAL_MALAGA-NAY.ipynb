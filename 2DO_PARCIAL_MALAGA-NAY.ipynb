{
  "nbformat": 4,
  "nbformat_minor": 0,
  "metadata": {
    "colab": {
      "provenance": [],
      "collapsed_sections": []
    },
    "kernelspec": {
      "name": "python3",
      "display_name": "Python 3"
    },
    "language_info": {
      "name": "python"
    }
  },
  "cells": [
    {
      "cell_type": "markdown",
      "source": [
        "**PREGUNTA 1**"
      ],
      "metadata": {
        "id": "OQ1rqQSRgubQ"
      }
    },
    {
      "cell_type": "code",
      "source": [
        "import numpy as np\n",
        "import matplotlib.pyplot as plt"
      ],
      "metadata": {
        "id": "aB0I6p1xhWKE"
      },
      "execution_count": 1,
      "outputs": []
    },
    {
      "cell_type": "code",
      "source": [
        "plt.axvline(0, color='r')   \n",
        "plt.axhline(0, color='r')   \n",
        "\n",
        "x = np.linspace(-4, 4, 100)\n",
        "y = x*np.sqrt(x*2 + 9)\n",
        "plt.plot(x, y)\n",
        "\n",
        "plt.grid()\n",
        "plt.show()"
      ],
      "metadata": {
        "colab": {
          "base_uri": "https://localhost:8080/",
          "height": 265
        },
        "id": "ASwbDwfuhdnu",
        "outputId": "cbb47ed5-7bab-4061-9537-57ef7e25ddff"
      },
      "execution_count": 16,
      "outputs": [
        {
          "output_type": "display_data",
          "data": {
            "text/plain": [
              "<Figure size 432x288 with 1 Axes>"
            ],
            "image/png": "[encoded data removed]"
          },
          "metadata": {
            "needs_background": "light"
          }
        }
      ]
    },
    {
      "cell_type": "markdown",
      "source": [
        "a) Metodos de Rectangulos "
      ],
      "metadata": {
        "id": "c9crxHiZjmqp"
      }
    },
    {
      "cell_type": "code",
      "source": [
        "x = np.linspace(-1,1,20)\n",
        "y = x*np.sqrt(x**2 + 9)\n",
        "y1 = y[0:-1]\n",
        "dx = x[1] - x[0]                        \n",
        "fArea = dx*np.sum(y1)                   \n",
        "print(\"Integral area:\",fArea)"
      ],
      "metadata": {
        "colab": {
          "base_uri": "https://localhost:8080/"
        },
        "id": "laDNq37TjhMm",
        "outputId": "36c23a06-6c0c-4f34-88cc-1e3a25f5e730"
      },
      "execution_count": 27,
      "outputs": [
        {
          "output_type": "stream",
          "name": "stdout",
          "text": [
            "Integral area: -0.33287133264930346\n"
          ]
        }
      ]
    },
    {
      "cell_type": "markdown",
      "source": [
        "b) Metodos de Trapecios"
      ],
      "metadata": {
        "id": "uVZ1zxQXlYmG"
      }
    },
    {
      "cell_type": "code",
      "source": [
        "x = np.linspace(-1,1,20)\n",
        "y = x*np.sqrt(x**2 + 9)\n",
        "y1 = y[1:-1]\n",
        "dx = x[1] - x[0]        \n",
        "fsum1 = np.sum(2*y1)\n",
        "fsum = fsum1 + y[0] + y[-1]\n",
        "fArea = (dx/2)*fsum     \n",
        "print(fArea)"
      ],
      "metadata": {
        "colab": {
          "base_uri": "https://localhost:8080/"
        },
        "id": "S_U6YeA4hdeK",
        "outputId": "8b8bdb91-71ab-4aad-bdf3-8f969ceed2b7"
      },
      "execution_count": 28,
      "outputs": [
        {
          "output_type": "stream",
          "name": "stdout",
          "text": [
            "-2.8047739569477637e-16\n"
          ]
        }
      ]
    },
    {
      "cell_type": "markdown",
      "source": [
        "**PREGUNTA 2**"
      ],
      "metadata": {
        "id": "l3kKdZKnl9BF"
      }
    },
    {
      "cell_type": "code",
      "source": [
        "N = 255165\n",
        "a = 1\n",
        "b = np.sqrt(3)\n",
        "x = np.random.uniform(a, b, N)\n",
        "\n",
        "y = 1/(1+x*2)\n",
        "\n",
        "sumfx = np.sum(y)\n",
        "farea = ((b - a) / N) * sumfx\n",
        "print(\"El área es: \", farea)"
      ],
      "metadata": {
        "colab": {
          "base_uri": "https://localhost:8080/"
        },
        "id": "Jyv0dXSamCzT",
        "outputId": "7719eb2a-2fda-4ed9-824e-939f64e46575"
      },
      "execution_count": 22,
      "outputs": [
        {
          "output_type": "stream",
          "name": "stdout",
          "text": [
            "El área es:  0.19880297166366495\n"
          ]
        }
      ]
    },
    {
      "cell_type": "markdown",
      "source": [
        "**PREGUNTA 3**"
      ],
      "metadata": {
        "id": "x1x2dUEUmppY"
      }
    },
    {
      "cell_type": "code",
      "source": [
        "from numpy import array, zeros, diag, diagflat, dot"
      ],
      "metadata": {
        "id": "sjPpc4Ajmsqe"
      },
      "execution_count": 20,
      "outputs": []
    },
    {
      "cell_type": "code",
      "source": [
        "def jacobi(A,b,N=5,x=None):\n",
        "    if x is None:\n",
        "        x = zeros(len(A[0]))\n",
        "\n",
        "    D = diag(A)\n",
        "    R = A - diagflat(D)\n",
        "\n",
        "    for i in range(N):\n",
        "        x = (b - dot(R,x)) / D\n",
        "    return x"
      ],
      "metadata": {
        "id": "fpkikFsym3s0"
      },
      "execution_count": 29,
      "outputs": []
    },
    {
      "cell_type": "code",
      "source": [
        "A = array([[3, -1, 1],[2, 5, -2], [1, -1, -3]])\n",
        "b = array([4, -6, 6])\n",
        "\n",
        "sol = jacobi(A,b,N=5)\n",
        "print(\"x:\")\n",
        "print(sol)"
      ],
      "metadata": {
        "colab": {
          "base_uri": "https://localhost:8080/"
        },
        "id": "HTD5jdwfoKrP",
        "outputId": "bfeaed7a-ad8c-49de-8be5-6a4e853b50f8"
      },
      "execution_count": 30,
      "outputs": [
        {
          "output_type": "stream",
          "name": "stdout",
          "text": [
            "x:\n",
            "[ 1.04757202 -1.88582716 -1.14271605]\n"
          ]
        }
      ]
    }
  ]
}