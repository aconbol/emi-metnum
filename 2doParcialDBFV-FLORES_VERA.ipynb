{
  "nbformat": 4,
  "nbformat_minor": 0,
  "metadata": {
    "colab": {
      "provenance": []
    },
    "kernelspec": {
      "name": "python3",
      "display_name": "Python 3"
    },
    "language_info": {
      "name": "python"
    }
  },
  "cells": [
    {
      "cell_type": "markdown",
      "source": [
        "### HALLAR INTEGRALES CON 3 METODOS"
      ],
      "metadata": {
        "id": "ioVCXA3cwHos"
      }
    },
    {
      "cell_type": "code",
      "execution_count": null,
      "metadata": {
        "id": "XN--lHjOfw69"
      },
      "outputs": [],
      "source": [
        "import matplotlib.pyplot as plt  #para graficar\n",
        "import numpy as np"
      ]
    },
    {
      "cell_type": "code",
      "source": [
        "plt.axvline(0, color=\"red\")\n",
        "plt.axhline(0, color=\"red\")\n",
        "\n",
        "x = np.linspace(-0.1, 4.1, 100)\n",
        "y = np.cos(2*np.pi*x)*np.exp(-x) + 1.2\n",
        "\n",
        "plt.plot(x, y)\n",
        "plt.grid()\n",
        "plt.show()\n"
      ],
      "metadata": {
        "colab": {
          "base_uri": "https://localhost:8080/",
          "height": 265
        },
        "id": "BuMwJ_f8kRoN",
        "outputId": "365443cf-08ea-42d9-bc4a-40c80257e95c"
      },
      "execution_count": null,
      "outputs": [
        {
          "output_type": "display_data",
          "data": {
            "text/plain": [
              "<Figure size 432x288 with 1 Axes>"
            ],
            "image/png": "[encoded data removed]"
          },
          "metadata": {
            "needs_background": "light"
          }
        }
      ]
    },
    {
      "cell_type": "code",
      "source": [
        "# hallar la integral del area debajo de 0.7 y 4\n",
        "# metodo del rectangulo\n",
        "x = np.linspace(0.7, 4, 1000)\n",
        "y = np.cos(2*np.pi*x)*np.exp(-x) + 1.2\n",
        "y1 = y[0 : -1]\n",
        "dx = x[1] - x[0]\n",
        "farea = dx*np.sum(y1)\n",
        "print(\"la integral es:\", farea)"
      ],
      "metadata": {
        "colab": {
          "base_uri": "https://localhost:8080/"
        },
        "id": "HY0WJ9fxncHW",
        "outputId": "1ad6dc44-4133-4212-a84d-ddc7fbc5b092"
      },
      "execution_count": null,
      "outputs": [
        {
          "output_type": "stream",
          "name": "stdout",
          "text": [
            "la integral es: 4.028778844147208\n"
          ]
        }
      ]
    },
    {
      "cell_type": "code",
      "source": [
        "#hallar la integral del area debajo de 0.7 y 4\n",
        "# metodo del trapecio\n",
        "x = np.linspace(0.7, 4, 1000)\n",
        "y = np.cos(2*np.pi*x)*np.exp(-x) + 1.2\n",
        "y1 = y[1:-1]\n",
        "dx = x[1] - x[0]\n",
        "fsum1 = np.sum(2*y1)\n",
        "fsumagral = fsum1 + y[0] + y[-1]\n",
        "farea = (dx/2)*fsumagral\n",
        "print(\"la integral es:\",farea)"
      ],
      "metadata": {
        "colab": {
          "base_uri": "https://localhost:8080/"
        },
        "id": "sh1lhnH2plh1",
        "outputId": "97bc847e-1e53-49a6-ce24-6739ca1df075"
      },
      "execution_count": null,
      "outputs": [
        {
          "output_type": "stream",
          "name": "stdout",
          "text": [
            "la integral es: 4.029062546595569\n"
          ]
        }
      ]
    },
    {
      "cell_type": "code",
      "source": [
        "#hallar la integral del area debajo de 0.7 y 4\n",
        "# metodo de montecarlo\n",
        "N = 1000000\n",
        "#limite inferior\n",
        "a = 0.7\n",
        "#limite superior\n",
        "b = 4\n",
        "x = np.random.uniform(a, b, N)\n",
        "y = np.cos(2*np.pi*x)*np.exp(-x) + 1.2\n",
        "sumfx = np.sum(y)\n",
        "farea = ((b -a)/ N)*sumfx\n",
        "print(\"la integral es:\", farea)"
      ],
      "metadata": {
        "colab": {
          "base_uri": "https://localhost:8080/"
        },
        "id": "RcVP2pdes7HH",
        "outputId": "04f48a73-387a-40fb-a791-e062fd5e78ba"
      },
      "execution_count": null,
      "outputs": [
        {
          "output_type": "stream",
          "name": "stdout",
          "text": [
            "la integral es: 4.029874794078343\n"
          ]
        }
      ]
    },
    {
      "cell_type": "markdown",
      "source": [
        "### HALLAR EL AREA ENTRE DOS FUNCIONES"
      ],
      "metadata": {
        "id": "ZFjrMWMZwQkn"
      }
    },
    {
      "cell_type": "code",
      "source": [
        "import matplotlib.pyplot as plt\n",
        "import numpy as np\n",
        "import scipy.optimize as op"
      ],
      "metadata": {
        "id": "Bg1hzvGgwXsE"
      },
      "execution_count": null,
      "outputs": []
    },
    {
      "cell_type": "code",
      "source": [
        "\n",
        "plt.axvline(0, color=\"red\")\n",
        "plt.axhline(0, color=\"red\")\n",
        "y0 = x**2/3\n",
        "y1 = -x**2 + 4*x\n",
        "x = np.linspace(-0.1, 5.1, 100)\n",
        "plt.plot(x, y0, \"green\")\n",
        "plt.plot(x, y1, \"yellow\")\n",
        "plt.grid()\n",
        "plt.show()"
      ],
      "metadata": {
        "colab": {
          "base_uri": "https://localhost:8080/",
          "height": 265
        },
        "id": "GQesTm96wzLH",
        "outputId": "48bd4c57-5014-4567-af3c-eb15bb573ba6"
      },
      "execution_count": null,
      "outputs": [
        {
          "output_type": "display_data",
          "data": {
            "text/plain": [
              "<Figure size 432x288 with 1 Axes>"
            ],
            "image/png": "[encoded data removed]"
          },
          "metadata": {
            "needs_background": "light"
          }
        }
      ]
    },
    {
      "cell_type": "code",
      "source": [
        "#hallar puntos de interseccion\n",
        "f = lambda x: x**2/3 + x**2 - 4*x\n",
        "x0 = np.array([0.0, 3.0])\n",
        "raiz = op.newton(f, x0, maxiter=1000, tol = 1.e-8)\n",
        "raiz"
      ],
      "metadata": {
        "colab": {
          "base_uri": "https://localhost:8080/"
        },
        "id": "Td6L-P6N0mEK",
        "outputId": "a78cfe0e-9e36-4ee4-ddb6-be629e9409cd"
      },
      "execution_count": null,
      "outputs": [
        {
          "output_type": "execute_result",
          "data": {
            "text/plain": [
              "array([0., 3.])"
            ]
          },
          "metadata": {},
          "execution_count": 41
        }
      ]
    },
    {
      "cell_type": "code",
      "source": [
        "#hallar el area entre las funciones por metodo del trapecio"
      ],
      "metadata": {
        "id": "45Y1SSWl28RR"
      },
      "execution_count": null,
      "outputs": []
    },
    {
      "cell_type": "code",
      "source": [
        "x = np.linspace(0, 3, 1000)\n",
        "y = -x**2 + 4*x\n",
        "dx = x[1] - x[0]\n",
        "y1 = y[1:-1]\n",
        "suma1 = np.sum(2*y1)\n",
        "suma2 = suma1 + y[0] + y[-1]\n",
        "AREA1 = (dx/2)*suma2\n",
        "print(\"El area 1 es:\", AREA1)"
      ],
      "metadata": {
        "colab": {
          "base_uri": "https://localhost:8080/"
        },
        "id": "9VUdsrgH3hmK",
        "outputId": "fe1ec772-2d29-4813-fd47-40f20b3c19ce"
      },
      "execution_count": null,
      "outputs": [
        {
          "output_type": "stream",
          "name": "stdout",
          "text": [
            "El area 1 es: 8.999995490986482\n"
          ]
        }
      ]
    },
    {
      "cell_type": "code",
      "source": [
        "x = np.linspace(0, 3, 1000)\n",
        "y = x**2/3\n",
        "dx = x[1] - x[0]\n",
        "y1 = y[1:-1]\n",
        "suma3 = np.sum(2*y1)\n",
        "suma4 = suma3 + y[0] + y[-1]\n",
        "AREA2 = (dx/2)*suma4\n",
        "print(\"El area 2 es:\", AREA2)"
      ],
      "metadata": {
        "colab": {
          "base_uri": "https://localhost:8080/"
        },
        "id": "zaJrCLIS5-CT",
        "outputId": "05f0f77b-4cfa-4269-bb9e-9d661e447585"
      },
      "execution_count": null,
      "outputs": [
        {
          "output_type": "stream",
          "name": "stdout",
          "text": [
            "El area 2 es: 3.0000015030045057\n"
          ]
        }
      ]
    },
    {
      "cell_type": "code",
      "source": [
        "print(AREA1)\n",
        "print(AREA2)\n",
        "TOTAL = AREA1 - AREA2\n",
        "print(\"EL area total es:\", TOTAL)"
      ],
      "metadata": {
        "colab": {
          "base_uri": "https://localhost:8080/"
        },
        "id": "5xjGiZZP9-pt",
        "outputId": "3e1bb178-c840-4671-c277-e9c483edffdd"
      },
      "execution_count": null,
      "outputs": [
        {
          "output_type": "stream",
          "name": "stdout",
          "text": [
            "8.999995490986482\n",
            "3.0000015030045057\n",
            "EL area total es: 5.999993987981976\n"
          ]
        }
      ]
    },
    {
      "cell_type": "markdown",
      "source": [
        "### ITERACION POR JACOBI"
      ],
      "metadata": {
        "id": "dIrrBOYHPl5e"
      }
    },
    {
      "cell_type": "code",
      "source": [
        "from numpy import zeros, diag, diagflat, dot, array\n"
      ],
      "metadata": {
        "id": "dbxjadw6SXs3"
      },
      "execution_count": null,
      "outputs": []
    },
    {
      "cell_type": "code",
      "source": [
        "def jacobi(A, b, N=3, x=None):\n",
        "  if x is None:\n",
        "    x = zeros(len(A[0]))\n",
        "  D = diag(A)\n",
        "  R = A - diagflat(D)\n",
        "  for i in range(N):\n",
        "    x = (b - dot(R, x)) / D\n",
        "  return x \n"
      ],
      "metadata": {
        "id": "gE8zVUbdPq1s"
      },
      "execution_count": null,
      "outputs": []
    },
    {
      "cell_type": "code",
      "source": [],
      "metadata": {
        "id": "u4u3Qp9Endzb"
      },
      "execution_count": null,
      "outputs": []
    },
    {
      "cell_type": "code",
      "source": [],
      "metadata": {
        "id": "d-RzKpCQnduQ"
      },
      "execution_count": null,
      "outputs": []
    },
    {
      "cell_type": "code",
      "source": [
        "A = array([[3, -1, 1], [2, 5, -2], [1, -1, -3]])   # ordenada con dominantes\n",
        "b = array([4, -6, 6])                                 \n",
        "\n",
        "sol = jacobi(A,b,N=3)\n"
      ],
      "metadata": {
        "id": "JPe_d28sSPkA"
      },
      "execution_count": null,
      "outputs": []
    },
    {
      "cell_type": "markdown",
      "source": [
        "METODOS RECTANGULOS INCISO a"
      ],
      "metadata": {
        "id": "mhX8-DO5phHP"
      }
    },
    {
      "cell_type": "code",
      "source": [
        "x = np.linspace(0,1,20)\n",
        "y = x*np.sqrt(x**2+9)\n",
        "y1 = y[1:-1]\n",
        "dx = x[1] - x[0]        # Ancho de cada trapecio\n",
        "fsum1 = np.sum(2*y1)\n",
        "fsum = fsum1 + y[-1] + y[1]\n",
        "fArea = (dx/2)*fsum     # suma de areas del trapecio\n",
        "print(fArea)\n"
      ],
      "metadata": {
        "colab": {
          "base_uri": "https://localhost:8080/"
        },
        "id": "dXD_k8kcpUXs",
        "outputId": "c0c75996-b0c4-4544-d94b-d29cb103cab0"
      },
      "execution_count": 7,
      "outputs": [
        {
          "output_type": "stream",
          "name": "stdout",
          "text": [
            "1.545191758730352\n"
          ]
        }
      ]
    },
    {
      "cell_type": "markdown",
      "source": [
        "METODO DE TRAPECIOS INCISO b"
      ],
      "metadata": {
        "id": "V_thoVRDpu4o"
      }
    },
    {
      "cell_type": "code",
      "source": [
        "x = np.linspace(-1,1,20)    #delta x\n",
        "print(x)\n",
        "print(type(x))\n",
        "y =  x*np.sqrt(x**2+9)\n",
        " #funcion\n",
        "print(y) \n",
        "y1 = y[0:-1] #hallar altura   termina en el penultimo numero\n",
        "dx = x[1] - x[0]                        # Ancho de cada rectángulo\n",
        "print(dx)\n",
        "fArea = dx*np.sum(y1)                    # Rectángulo ancho * alto, luego suma\n",
        "print(\"Integral area:\",fArea)\n"
      ],
      "metadata": {
        "colab": {
          "base_uri": "https://localhost:8080/"
        },
        "id": "Ddj5ElExpYg4",
        "outputId": "498ea6ea-5fbb-4433-f61c-3a0bd29fdd7d"
      },
      "execution_count": 8,
      "outputs": [
        {
          "output_type": "stream",
          "name": "stdout",
          "text": [
            "[-1.         -0.89473684 -0.78947368 -0.68421053 -0.57894737 -0.47368421\n",
            " -0.36842105 -0.26315789 -0.15789474 -0.05263158  0.05263158  0.15789474\n",
            "  0.26315789  0.36842105  0.47368421  0.57894737  0.68421053  0.78947368\n",
            "  0.89473684  1.        ]\n",
            "<class 'numpy.ndarray'>\n",
            "[-3.16227766 -2.80104853 -2.4490574  -2.1053397  -1.7688884  -1.43865753\n",
            " -1.11356652 -0.79250524 -0.47433983 -0.15791903  0.15791903  0.47433983\n",
            "  0.79250524  1.11356652  1.43865753  1.7688884   2.1053397   2.4490574\n",
            "  2.80104853  3.16227766]\n",
            "0.10526315789473684\n",
            "Integral area: -0.33287133264930346\n"
          ]
        }
      ]
    },
    {
      "cell_type": "code",
      "source": [
        "import numpy as np\n",
        "import matplotlib.pyplot as plt"
      ],
      "metadata": {
        "id": "T98uczylqHDp"
      },
      "execution_count": 5,
      "outputs": []
    },
    {
      "cell_type": "markdown",
      "source": [
        "MONTE CARLO"
      ],
      "metadata": {
        "id": "HH1HLXLaqzrB"
      }
    },
    {
      "cell_type": "code",
      "source": [
        "N = 8729\n",
        "\n",
        "a = 1\n",
        "\n",
        "b = np.sqrt(3)\n",
        "x = np.random.uniform(a, b, N)\n",
        "\n",
        "y = 1/(1+x**2)\n",
        "\n",
        "sumfx = np.sum(y)\n",
        "farea = ((b - a) / N) * sumfx\n",
        "print(\"El área es: \", farea)\n"
      ],
      "metadata": {
        "colab": {
          "base_uri": "https://localhost:8080/"
        },
        "id": "jUw8LLe1q1M3",
        "outputId": "f1d2b879-1344-48b4-8aed-5ecd96ba94d3"
      },
      "execution_count": 6,
      "outputs": [
        {
          "output_type": "stream",
          "name": "stdout",
          "text": [
            "El área es:  0.2622703263077841\n"
          ]
        }
      ]
    },
    {
      "cell_type": "markdown",
      "source": [
        "JACOBI"
      ],
      "metadata": {
        "id": "AtdgBkh8rIP0"
      }
    },
    {
      "cell_type": "code",
      "source": [
        "A = array([[1, -1, -3],[3, -1, 1], [2, 5, -2]])\n",
        "b = array([-56.4, 20.2, -18.9])\n",
        "\n",
        "sol = jacobi(A,b,N=3)"
      ],
      "metadata": {
        "id": "OY6PGz2orMRP"
      },
      "execution_count": null,
      "outputs": []
    }
  ]
}