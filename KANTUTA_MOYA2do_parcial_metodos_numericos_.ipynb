{
  "nbformat": 4,
  "nbformat_minor": 0,
  "metadata": {
    "colab": {
      "provenance": []
    },
    "kernelspec": {
      "name": "python3",
      "display_name": "Python 3"
    },
    "language_info": {
      "name": "python"
    }
  },
  "cells": [
    {
      "cell_type": "markdown",
      "source": [
        "###1)  \n",
        "a) metodo rectangulo"
      ],
      "metadata": {
        "id": "Az27wf3nfCl2"
      }
    },
    {
      "cell_type": "code",
      "execution_count": 4,
      "metadata": {
        "id": "lta5nY20dlUv"
      },
      "outputs": [],
      "source": [
        "import numpy as np\n",
        "import matplotlib.pyplot as plt"
      ]
    },
    {
      "cell_type": "code",
      "source": [
        "plt.axvline(0, color='r')   # Eje de las ordenadas\n",
        "plt.axhline(0, color='r')   # Eje de las abscisas\n",
        "\n",
        "x = np.linspace(-1.2, 1.2, 400)               #Donde empieza(SIEMPRE DECIMALES  ANTES DEL NUMERO) ; Donde acabca(SIEMPRE DECIMALES DESPUES DE DONDE ACABA)  ; Cantidad de Segmentos que tendra               \n",
        "y = x*np.sqrt(x**2+9)                              #Funcion \"Aqui se cambia\"\n",
        "plt.plot(x, y)\n",
        "\n",
        "plt.grid()\n",
        "plt.show()"
      ],
      "metadata": {
        "colab": {
          "base_uri": "https://localhost:8080/",
          "height": 265
        },
        "id": "5jqwuXLshZa-",
        "outputId": "e95868fa-ecdb-4338-e3d1-11fac753d001"
      },
      "execution_count": 7,
      "outputs": [
        {
          "output_type": "display_data",
          "data": {
            "text/plain": [
              "<Figure size 432x288 with 1 Axes>"
            ],
            "image/png": "[encoded data removed]"
          },
          "metadata": {
            "needs_background": "light"
          }
        }
      ]
    },
    {
      "cell_type": "code",
      "source": [
        "x = np.linspace(-1,1,20)                     \n",
        "y = x*np.sqrt(x**2+9)         \n",
        "y1 = y[0:-1]\n",
        "dx = x[1] - x[0]                             \n",
        "fArea = dx*np.sum(y1)                        \n",
        "print(\"Integral area:\",fArea)"
      ],
      "metadata": {
        "colab": {
          "base_uri": "https://localhost:8080/"
        },
        "id": "Unrds7JwgDWe",
        "outputId": "32a5ec6b-4e23-4cc5-efe4-59f2c077976f"
      },
      "execution_count": 6,
      "outputs": [
        {
          "output_type": "stream",
          "name": "stdout",
          "text": [
            "Integral area: -0.33287133264930346\n"
          ]
        }
      ]
    },
    {
      "cell_type": "markdown",
      "source": [
        "##b) metodo trapecio"
      ],
      "metadata": {
        "id": "fZAtiJWmiC13"
      }
    },
    {
      "cell_type": "code",
      "source": [
        "import numpy as np\n",
        "import matplotlib.pyplot as plt"
      ],
      "metadata": {
        "id": "pwT_JXmGiLQe"
      },
      "execution_count": 8,
      "outputs": []
    },
    {
      "cell_type": "code",
      "source": [
        "x = np.linspace(-1,1,20)                    #Donde inicia; Donde acaba ; Cantidad de Trapecios para exactitud\n",
        "y = x*np.sqrt(x**2+9)        #\"Cambiar Funcion\"\n",
        "y1 = y[1:-1]\n",
        "dx = x[1] - x[0]                            # Ancho de cada trapecio\n",
        "fsum1 = np.sum(2*y1)                        #Solo multiplica los internos y por eso agarra solo la parte de \"y1\"\n",
        "fsum = fsum1 + y[0] + y[-1]                 #Suman los valores de \"a\" y la imagen de \"f(b)\"\"\n",
        "fArea = (dx/2)*fsum                         # suma de areas del trapecio\n",
        "print(\"Integral Area:\" ,fArea)"
      ],
      "metadata": {
        "colab": {
          "base_uri": "https://localhost:8080/"
        },
        "id": "PZdmTl5BiP8m",
        "outputId": "a18745c0-839a-4a0a-ab50-9696febc1865"
      },
      "execution_count": 9,
      "outputs": [
        {
          "output_type": "stream",
          "name": "stdout",
          "text": [
            "Integral Area: -2.8047739569477637e-16\n"
          ]
        }
      ]
    },
    {
      "cell_type": "markdown",
      "source": [
        "c)ERROR"
      ],
      "metadata": {
        "id": "kcMjkg8Vi8cY"
      }
    },
    {
      "cell_type": "markdown",
      "source": [
        "###2) MONTE CARLO"
      ],
      "metadata": {
        "id": "7BERa03Oi-Zu"
      }
    },
    {
      "cell_type": "code",
      "source": [
        "import numpy as np\n",
        "import matplotlib.pyplot as plt"
      ],
      "metadata": {
        "id": "eYWDroNYjCl3"
      },
      "execution_count": 10,
      "outputs": []
    },
    {
      "cell_type": "code",
      "source": [
        "plt.axvline(0, color='r')   # Eje de las ordenadas\n",
        "plt.axhline(0, color='r')   # Eje de las abscisas\n",
        "\n",
        "x = np.linspace(0.8, np.sqrt(3.2), 400)               #Donde empieza(SIEMPRE DECIMALES  ANTES DEL NUMERO) ; Donde acabca(SIEMPRE DECIMALES DESPUES DE DONDE ACABA)  ; Cantidad de Segmentos que tendra               \n",
        "y = 1/(1+x**2)                            #Funcion \"Aqui se cambia\"\n",
        "plt.plot(x, y)\n",
        "\n",
        "plt.grid()\n",
        "plt.show()"
      ],
      "metadata": {
        "colab": {
          "base_uri": "https://localhost:8080/",
          "height": 265
        },
        "id": "nfJZ9mRNjtyu",
        "outputId": "7806b112-3207-4534-c356-0f27b14dde1d"
      },
      "execution_count": 13,
      "outputs": [
        {
          "output_type": "display_data",
          "data": {
            "text/plain": [
              "<Figure size 432x288 with 1 Axes>"
            ],
            "image/png": "[encoded data removed]"
          },
          "metadata": {
            "needs_background": "light"
          }
        }
      ]
    },
    {
      "cell_type": "code",
      "source": [
        "#Monte Carlos es un metodo computacional\n",
        "\n",
        "N = 86819                                        #Este metodo necesita que uno ponga numeros grandes, para que tenga mas exactitud\n",
        "# limite inferior\n",
        "a = 1                                              #\"Cambia el limite inferior de la Integral\"                   \n",
        "# limite superior\n",
        "b = np.sqrt(3)                                              #\"Cambia el Limite superior de la Integral\"\n",
        "x = np.random.uniform(a, b, N)                      #El punto es aleatorio, en cualquier lugar / Es un elemento probabilistico \n",
        "                                                    #Saca una distribucion uniforme, como una campana de GAUSS\n",
        "y = 1/(1+x**2)                   #\"Cambia la Funcion de la Integral\"\n",
        "\n",
        "sumfx = np.sum(y)\n",
        "farea = ((b - a) / N) * sumfx\n",
        "print(\"El área es: \", farea)"
      ],
      "metadata": {
        "colab": {
          "base_uri": "https://localhost:8080/"
        },
        "id": "1WZZOrcrjJv3",
        "outputId": "7880dd7d-34f9-482a-edc1-b331a920d3b1"
      },
      "execution_count": 14,
      "outputs": [
        {
          "output_type": "stream",
          "name": "stdout",
          "text": [
            "El área es:  0.2619120705473443\n"
          ]
        }
      ]
    },
    {
      "cell_type": "markdown",
      "source": [
        "###3)SISTEMA DE ECUACIONES JACOBI"
      ],
      "metadata": {
        "id": "AfvOat0mlBcf"
      }
    },
    {
      "cell_type": "code",
      "source": [
        "from numpy import array, zeros, diag, diagflat, dot"
      ],
      "metadata": {
        "id": "ej1gCHiAlMH6"
      },
      "execution_count": 15,
      "outputs": []
    },
    {
      "cell_type": "code",
      "source": [
        "def jacobi(A,b,N=25,x=None):                                  #En JACOBI ya esta hecho esto y no se debe de cambiar nada de aqui....\n",
        "    \"\"\" AX=B - Jacobi Método Iterativo. \"\"\"\n",
        "    # Crear la conjetura (hipótesis, supuesto) inicial\n",
        "    # Si se necesita\n",
        "    if x is None:\n",
        "        x = zeros(len(A[0]))                                  #len=pide la longitud del vector / Genera una matriz de ceros [0. , 0. , 0., ]\n",
        "\n",
        "    # Crear una matriz diagonalizada de A\n",
        "    D = diag(A)                                              #diag = agarra los elementos de la diagonal\n",
        "    R = A - diagflat(D)                                      #diagdlat = genera una matriz diagonal con esos elmentos \n",
        "                                                             #Le resta A para que asi sea con zeros y seia la matriz R\n",
        "    # Iteración por N veces \n",
        "    for i in range(N):\n",
        "        x = (b - dot(R,x)) / D                                #dot = es el producto o la multiplicacion \n",
        "    return x"
      ],
      "metadata": {
        "id": "OPav0-vJlj9I"
      },
      "execution_count": 16,
      "outputs": []
    },
    {
      "cell_type": "code",
      "source": [
        "#Lo Unico que se Cambia en JACOBI\n",
        "A = array([[3, -1, 1], [2, 5, -2], [1, -1, -3]])                     #Tenemos que Ordenadar con la matriz dominante /#\"Se Cambia\"\n",
        "b = array([4, -6, 6])                                                   #Lado derecho de lo que es igualado la matriz  /#\"Se Cambia\"\n",
        " \n",
        "sol = jacobi(A,b,N=21)  "
      ],
      "metadata": {
        "id": "G7M9SnWClot4"
      },
      "execution_count": 67,
      "outputs": []
    },
    {
      "cell_type": "code",
      "source": [
        "#Imprime los Resultados de Jacobi (NO SE CAMBIA NADA)\n",
        "print(\"A:\")\n",
        "print(A)\n",
        "print(\"b:\")\n",
        "print(b)\n",
        "print(\"x:\")\n",
        "print(sol)"
      ],
      "metadata": {
        "colab": {
          "base_uri": "https://localhost:8080/"
        },
        "id": "hme50-ObmfqG",
        "outputId": "ebfcd8a7-9b4d-471a-cdd8-c94e839c103e"
      },
      "execution_count": 68,
      "outputs": [
        {
          "output_type": "stream",
          "name": "stdout",
          "text": [
            "A:\n",
            "[[ 3 -1  1]\n",
            " [ 2  5 -2]\n",
            " [ 1 -1 -3]]\n",
            "b:\n",
            "[ 4 -6  6]\n",
            "x:\n",
            "[ 1.00001974 -1.99995264 -1.00005921]\n"
          ]
        }
      ]
    }
  ]
}