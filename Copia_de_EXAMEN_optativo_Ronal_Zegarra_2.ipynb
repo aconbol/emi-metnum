{
  "nbformat": 4,
  "nbformat_minor": 0,
  "metadata": {
    "colab": {
      "provenance": [],
      "collapsed_sections": []
    },
    "kernelspec": {
      "name": "python3",
      "display_name": "Python 3"
    },
    "language_info": {
      "name": "python"
    }
  },
  "cells": [
    {
      "cell_type": "markdown",
      "source": [
        " PREGUNTA 1 parcial"
      ],
      "metadata": {
        "id": "bRGNEHslcGsF"
      }
    },
    {
      "cell_type": "markdown",
      "source": [],
      "metadata": {
        "id": "_i5aVUetfnwJ"
      }
    },
    {
      "cell_type": "code",
      "source": [
        "import numpy as np\n",
        "import matplotlib.pyplot as plt"
      ],
      "metadata": {
        "id": "y2epZWoCJYaz"
      },
      "execution_count": null,
      "outputs": []
    },
    {
      "cell_type": "markdown",
      "source": [
        "Gráfica "
      ],
      "metadata": {
        "id": "tZ4JAaG0G8rb"
      }
    },
    {
      "cell_type": "code",
      "source": [],
      "metadata": {
        "id": "JZK8F3QKsk9q"
      },
      "execution_count": null,
      "outputs": []
    },
    {
      "cell_type": "code",
      "source": [
        "plt.axvline(0, color='r')   # Eje de las ordenadas\n",
        "plt.axhline(0, color='r')   # Eje de las abscisas\n",
        "\n",
        "x = np.linspace(-0,6, 1.4, 121)\n",
        "plt.plot(1+ np.exp(x**-x)cos(3x))\n",
        "plt.grid()\n",
        "plt.show()"
      ],
      "metadata": {
        "colab": {
          "base_uri": "https://localhost:8080/",
          "height": 135
        },
        "id": "_UREc1-PoKQY",
        "outputId": "70c5abab-9828-46d4-9355-ea83f5463a79"
      },
      "execution_count": null,
      "outputs": [
        {
          "output_type": "error",
          "ename": "SyntaxError",
          "evalue": "ignored",
          "traceback": [
            "\u001b[0;36m  File \u001b[0;32m\"<ipython-input-2-b90d5cb0061c>\"\u001b[0;36m, line \u001b[0;32m5\u001b[0m\n\u001b[0;31m    plt.plot(1+ np.exp(x**-x)cos(3x))\u001b[0m\n\u001b[0m                               ^\u001b[0m\n\u001b[0;31mSyntaxError\u001b[0m\u001b[0;31m:\u001b[0m invalid syntax\n"
          ]
        }
      ]
    },
    {
      "cell_type": "markdown",
      "source": [
        "metodo de rectangulo"
      ],
      "metadata": {
        "id": "ODpciEK1-prM"
      }
    },
    {
      "cell_type": "code",
      "source": [
        "def f(x):\n",
        "    return  (1+ np.exp(x**-x)cos(3x))\n",
        "\n",
        "n = 120  # numero de rectángulos\n",
        "suma = 0\n",
        "a = -0.6\n",
        "b = 1.4\n",
        "dx = (b - a) / n\n",
        "\n",
        "# sumar las áreas\n",
        "for i in range(n):\n",
        "    altura = f(a)\n",
        "    area = dx * altura\n",
        "    suma = suma + area\n",
        "    a = a + dx\n",
        "\n",
        "print('El área es: ', suma)"
      ],
      "metadata": {
        "colab": {
          "base_uri": "https://localhost:8080/",
          "height": 135
        },
        "id": "qn8MxZe7K-fM",
        "outputId": "6b680696-36f8-4f76-9122-836609f3a215"
      },
      "execution_count": null,
      "outputs": [
        {
          "output_type": "error",
          "ename": "SyntaxError",
          "evalue": "ignored",
          "traceback": [
            "\u001b[0;36m  File \u001b[0;32m\"<ipython-input-3-1c7264d5733b>\"\u001b[0;36m, line \u001b[0;32m2\u001b[0m\n\u001b[0;31m    return  (1+ np.exp(x**-x)cos(3x))\u001b[0m\n\u001b[0m                               ^\u001b[0m\n\u001b[0;31mSyntaxError\u001b[0m\u001b[0;31m:\u001b[0m invalid syntax\n"
          ]
        }
      ]
    },
    {
      "cell_type": "markdown",
      "source": [
        "metodo de trapecio\n"
      ],
      "metadata": {
        "id": "WIE7Vrhg-uOD"
      }
    },
    {
      "cell_type": "code",
      "source": [
        "x = np.linspace(-0.6,1.4,121)\n",
        "y =  (1+ np.exp(x**-x)cos(3x))\n",
        "y = y[0:-1]\n",
        "dx = x[1] - x[0]                        # Ancho de cada rectángulo\n",
        "fArea = np.sum(y*dx)                    # Rectángulo ancho * alto, luego suma\n",
        "print(\"Integral area:\",fArea)"
      ],
      "metadata": {
        "colab": {
          "base_uri": "https://localhost:8080/",
          "height": 135
        },
        "id": "lZ7vFf_3rY1i",
        "outputId": "743be24f-04bc-4f2c-eff8-415d0f99960a"
      },
      "execution_count": null,
      "outputs": [
        {
          "output_type": "error",
          "ename": "SyntaxError",
          "evalue": "ignored",
          "traceback": [
            "\u001b[0;36m  File \u001b[0;32m\"<ipython-input-4-52a5c568cc41>\"\u001b[0;36m, line \u001b[0;32m2\u001b[0m\n\u001b[0;31m    y =  (1+ np.exp(x**-x)cos(3x))\u001b[0m\n\u001b[0m                            ^\u001b[0m\n\u001b[0;31mSyntaxError\u001b[0m\u001b[0;31m:\u001b[0m invalid syntax\n"
          ]
        }
      ]
    },
    {
      "cell_type": "markdown",
      "source": [
        "\n",
        "método trapecio"
      ],
      "metadata": {
        "id": "Nvtlm2PTtTAZ"
      }
    },
    {
      "cell_type": "code",
      "source": [
        "x = np.linspace(-0.6,1.4,21)\n",
        "print(x)\n",
        "y = (1+ np.exp(x**-x)cos(3x))\n",
        "print(y)\n",
        "y1 = y[0:-1]\n",
        "print(y1)\n",
        "dx = x[1] - x[0]                     # Ancho de cada trapecio\n",
        "print(dx)                    \n",
        "fsum1 = np.sum(2*y1)\n",
        "fsum = fsum1 + y[0] + y[-1]\n",
        "fArea = (dx/2)*fsum      #  suma de area del trapecio\n",
        "print(fArea)"
      ],
      "metadata": {
        "colab": {
          "base_uri": "https://localhost:8080/",
          "height": 135
        },
        "id": "tL84WTYW9OP4",
        "outputId": "8ccb109e-3db7-46b7-e54f-9472df274b3c"
      },
      "execution_count": null,
      "outputs": [
        {
          "output_type": "error",
          "ename": "SyntaxError",
          "evalue": "ignored",
          "traceback": [
            "\u001b[0;36m  File \u001b[0;32m\"<ipython-input-5-621cb4e901a4>\"\u001b[0;36m, line \u001b[0;32m3\u001b[0m\n\u001b[0;31m    y = (1+ np.exp(x**-x)cos(3x))\u001b[0m\n\u001b[0m                           ^\u001b[0m\n\u001b[0;31mSyntaxError\u001b[0m\u001b[0;31m:\u001b[0m invalid syntax\n"
          ]
        }
      ]
    },
    {
      "cell_type": "markdown",
      "source": [
        "PREGUNTA 2 parcial"
      ],
      "metadata": {
        "id": "3_sKWBpr-DsM"
      }
    },
    {
      "cell_type": "code",
      "source": [
        "import numpy as np\n",
        "import matplotlib.pyplot as plt"
      ],
      "metadata": {
        "id": "lvWf77Hn5dCn"
      },
      "execution_count": null,
      "outputs": []
    },
    {
      "cell_type": "markdown",
      "source": [],
      "metadata": {
        "id": "jhJOKSz45Vo3"
      }
    },
    {
      "cell_type": "markdown",
      "source": [
        " metodo de Monte Carlo"
      ],
      "metadata": {
        "id": "Fd9AQW93LbOv"
      }
    },
    {
      "cell_type": "code",
      "source": [
        "N = 80004\n",
        "# limite inferior\n",
        "a = -1000\n",
        "# limite superior\n",
        "b = 1000\n",
        "x = np.random.uniform(a, b, N)\n",
        "\n",
        "y =  np.exp((1/1+x**2)\n",
        "\n",
        "sumfx = np.sum(y)\n",
        "farea = ((b - a) / N) * sumfx\n",
        "print(\"El área es: \", farea)"
      ],
      "metadata": {
        "colab": {
          "base_uri": "https://localhost:8080/",
          "height": 135
        },
        "id": "sqGKXDCZozvp",
        "outputId": "ff03e223-1923-471c-92ad-fbcbaea34a37"
      },
      "execution_count": null,
      "outputs": [
        {
          "output_type": "error",
          "ename": "SyntaxError",
          "evalue": "ignored",
          "traceback": [
            "\u001b[0;36m  File \u001b[0;32m\"<ipython-input-6-138365d275a9>\"\u001b[0;36m, line \u001b[0;32m10\u001b[0m\n\u001b[0;31m    sumfx = np.sum(y)\u001b[0m\n\u001b[0m        ^\u001b[0m\n\u001b[0;31mSyntaxError\u001b[0m\u001b[0;31m:\u001b[0m invalid syntax\n"
          ]
        }
      ]
    }
  ]
}