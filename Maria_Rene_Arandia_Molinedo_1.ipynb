{
  "nbformat": 4,
  "nbformat_minor": 0,
  "metadata": {
    "colab": {
      "provenance": []
    },
    "kernelspec": {
      "name": "python3",
      "display_name": "Python 3"
    },
    "language_info": {
      "name": "python"
    }
  },
  "cells": [
    {
      "cell_type": "markdown",
      "source": [
        "###PREGUNTA 1\n",
        "- - - "
      ],
      "metadata": {
        "id": "0FXBhiPaZdpy"
      }
    },
    {
      "cell_type": "code",
      "source": [
        "import numpy as np\n",
        "import matplotlib.pyplot as plt"
      ],
      "metadata": {
        "id": "ksEdAZk_Y01m"
      },
      "execution_count": null,
      "outputs": []
    },
    {
      "cell_type": "markdown",
      "source": [
        "Rectangulos"
      ],
      "metadata": {
        "id": "kuhIGw5lYwg9"
      }
    },
    {
      "cell_type": "code",
      "source": [
        "x = np.linspace(-0.6,1.4,120)      \n",
        "y = 1+np.cos(3*x)*np.exp(-x)           \n",
        "y1 = y[0:-1]\n",
        "dx = x[1] - x[0]                   \n",
        "fArea = dx*np.sum(y1)              \n",
        "print(\"Integral area:\",fArea)"
      ],
      "metadata": {
        "colab": {
          "base_uri": "https://localhost:8080/"
        },
        "id": "IlB7jC3OZy3f",
        "outputId": "eaf17c66-8800-4e61-c38a-6a3ac9498b67"
      },
      "execution_count": null,
      "outputs": [
        {
          "output_type": "stream",
          "name": "stdout",
          "text": [
            "Integral area: 2.4359722102066876\n"
          ]
        }
      ]
    },
    {
      "cell_type": "markdown",
      "source": [
        "Trapecios"
      ],
      "metadata": {
        "id": "WfwvMckubmIh"
      }
    },
    {
      "cell_type": "code",
      "source": [
        "x = np.linspace(-0.6,1.4,100)        \n",
        "y = 1+np.cos(3*x)*np.exp(-x)                \n",
        "y1 = y[1:-1] \n",
        "dx = x[1] - x[0]                \n",
        "fsum1 = np.sum(2*y1)\n",
        "fsum = fsum1 + y[0] + y[-1]\n",
        "fArea = (dx/2)*fsum             \n",
        "print(fArea)"
      ],
      "metadata": {
        "colab": {
          "base_uri": "https://localhost:8080/"
        },
        "id": "4FkTzee8boQj",
        "outputId": "30a76d64-5a93-4231-a8ed-5fe10b7f7a4f"
      },
      "execution_count": null,
      "outputs": [
        {
          "output_type": "stream",
          "name": "stdout",
          "text": [
            "2.4383831067940376\n"
          ]
        }
      ]
    },
    {
      "cell_type": "markdown",
      "source": [
        "###PREGUNTA 2\n",
        "- - - "
      ],
      "metadata": {
        "id": "33s8xK3CZryU"
      }
    },
    {
      "cell_type": "code",
      "source": [],
      "metadata": {
        "id": "H2yzSs_AZ0IW"
      },
      "execution_count": null,
      "outputs": []
    },
    {
      "cell_type": "markdown",
      "source": [
        "###PREGUNTA 3\n",
        "- - - "
      ],
      "metadata": {
        "id": "meXrZXibZwRM"
      }
    },
    {
      "cell_type": "code",
      "source": [],
      "metadata": {
        "id": "IYK_-PAIZ0k6"
      },
      "execution_count": null,
      "outputs": []
    }
  ]
}