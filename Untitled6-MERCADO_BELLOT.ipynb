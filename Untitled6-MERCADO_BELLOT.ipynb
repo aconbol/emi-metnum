{
  "nbformat": 4,
  "nbformat_minor": 0,
  "metadata": {
    "colab": {
      "provenance": []
    },
    "kernelspec": {
      "name": "python3",
      "display_name": "Python 3"
    },
    "language_info": {
      "name": "python"
    }
  },
  "cells": [
    {
      "cell_type": "markdown",
      "source": [
        "##2do parcial\n"
      ],
      "metadata": {
        "id": "Sq1NO-uMfeRe"
      }
    },
    {
      "cell_type": "code",
      "source": [
        "import numpy as np\n"
      ],
      "metadata": {
        "id": "i6OHXB0Vhmj-"
      },
      "execution_count": null,
      "outputs": []
    },
    {
      "cell_type": "code",
      "execution_count": null,
      "metadata": {
        "colab": {
          "base_uri": "https://localhost:8080/"
        },
        "id": "-27m9DNafTnz",
        "outputId": "ee6e61e4-993c-45f0-f663-ab297e2ee134"
      },
      "outputs": [
        {
          "output_type": "stream",
          "name": "stdout",
          "text": [
            "[0.         0.05263158 0.10526316 0.15789474 0.21052632 0.26315789\n",
            " 0.31578947 0.36842105 0.42105263 0.47368421 0.52631579 0.57894737\n",
            " 0.63157895 0.68421053 0.73684211 0.78947368 0.84210526 0.89473684\n",
            " 0.94736842 1.        ]\n",
            "<class 'numpy.ndarray'>\n",
            "[0.         0.15791903 0.31598381 0.47433983 0.63313217 0.79250524\n",
            " 0.95260254 1.11356652 1.2755383  1.43865753 1.60306219 1.7688884\n",
            " 1.93627026 2.1053397  2.27622635 2.4490574  2.62395747 2.80104853\n",
            " 2.9804498  3.16227766]\n",
            "-0.9473684210526316\n",
            "Integral area: -26.240726907302093\n"
          ]
        }
      ],
      "source": [
        "#PREGUNTA 1 INCISO A\n",
        "x = np.linspace(0,1,20)\n",
        "print(x)\n",
        "print(type(x))\n",
        "y = x* np.sqrt(x**2+9)\n",
        "print(y)\n",
        "y1 = y[0:-1]\n",
        "dx = x[1] - x[-1]                        # Ancho de cada rectángulo\n",
        "print(dx)\n",
        "fArea = dx*np.sum(y1)                    # Rectángulo ancho * alto, luego suma\n",
        "print(\"Integral area:\",fArea)"
      ]
    },
    {
      "cell_type": "code",
      "source": [
        "#PREGUNTA 1 INCISO B\n",
        "x = np.linspace(0,1,20)\n",
        "y = x* np.sqrt(x**2+9)\n",
        "y1 = y[1:-1]\n",
        "dx = x[1] - x[-1]        # Ancho de cada trapecio\n",
        "fsum1 = np.sum(2*y1)\n",
        "fsum = fsum1 + y[0] + y[-1]\n",
        "fArea = (dx/2)*fsum     # suma de areas del trapecio\n",
        "print(fArea)"
      ],
      "metadata": {
        "colab": {
          "base_uri": "https://localhost:8080/"
        },
        "id": "377UY1pbiOgL",
        "outputId": "f77bd194-5836-4b2b-e9bf-a234dbcfe314"
      },
      "execution_count": null,
      "outputs": [
        {
          "output_type": "stream",
          "name": "stdout",
          "text": [
            "-27.73864790422396\n"
          ]
        }
      ]
    },
    {
      "cell_type": "code",
      "source": [
        "import scipy.integrate as integrate\n",
        "import math"
      ],
      "metadata": {
        "id": "UfI9k5R3i4j5"
      },
      "execution_count": null,
      "outputs": []
    },
    {
      "cell_type": "code",
      "source": [
        "#PREGUNTA 1 INCISO C #NO SE HACE\n",
        "res = integrate.quad(lambda x: x* np.sqrt(x**2+9), 0, 1)\n",
        "print(\"El área es {0}, con un error de {1}\".format(res[0], res[1]))"
      ],
      "metadata": {
        "colab": {
          "base_uri": "https://localhost:8080/"
        },
        "id": "WUAWqvpNjXpv",
        "outputId": "ec795e18-b3c2-45eb-fc1e-bbf110e7d291"
      },
      "execution_count": null,
      "outputs": [
        {
          "output_type": "stream",
          "name": "stdout",
          "text": [
            "El área es 1.5409255338945977, con un error de 1.7107710069625944e-14\n"
          ]
        }
      ]
    },
    {
      "cell_type": "code",
      "source": [
        "# PREGUNTA 2 METODO MONTE CARLO\n",
        "N = 100000\n",
        "# limite inferior\n",
        "a = np.sqrt(3)\n",
        "# limite superior\n",
        "b = 1\n",
        "x = np.random.uniform(a, b, N)\n",
        "\n",
        "y = 1 / 1 + x**2\n",
        "\n",
        "sumfx = np.sum(y)\n",
        "farea = ((b - a) / N) * sumfx\n",
        "print(\"El área es: \", farea)"
      ],
      "metadata": {
        "colab": {
          "base_uri": "https://localhost:8080/"
        },
        "id": "76UpiEhvk9Ta",
        "outputId": "b33ad3a2-8fdb-4317-96c4-646742fe2434"
      },
      "execution_count": null,
      "outputs": [
        {
          "output_type": "stream",
          "name": "stdout",
          "text": [
            "El área es:  -2.1265420655952165\n"
          ]
        }
      ]
    },
    {
      "cell_type": "code",
      "source": [
        "#PREGUNTA 3 SISTEMA DE ECUACIONES\n",
        "from numpy import array, zeros, diag, diagflat, dot"
      ],
      "metadata": {
        "id": "BLS3mrUHmX6V"
      },
      "execution_count": null,
      "outputs": []
    },
    {
      "cell_type": "code",
      "source": [
        "def jacobi(A,b,N=25,x=None):\n",
        "    \"\"\" AX=B - Jacobi Método Iterativo. \"\"\"\n",
        "    # Crear la conjetura (hipótesis, supuesto) inicial\n",
        "    # Si se necesita\n",
        "    if x is None:\n",
        "        x = zeros(len(A[0]))\n",
        "\n",
        "    # Crear una matriz diagonalizada de A\n",
        "    D = diag(A)\n",
        "    R = A - diagflat(D)\n",
        "\n",
        "    # Iteración por N veces \n",
        "    for i in range(N):\n",
        "        x = (b - dot(R,x)) / D\n",
        "    return x"
      ],
      "metadata": {
        "id": "3piCEJHumpe_"
      },
      "execution_count": null,
      "outputs": []
    },
    {
      "cell_type": "code",
      "source": [
        "A = array([[3, -1, 1],[2, 5, -2], [1, -1, -3]])\n",
        "b = array([4, -6, 6])\n",
        "\n",
        "sol = jacobi(A,b,N=25)"
      ],
      "metadata": {
        "id": "ZYt4dbncnn9b"
      },
      "execution_count": null,
      "outputs": []
    },
    {
      "cell_type": "code",
      "source": [
        "print(\"A:\")\n",
        "print(A)\n",
        "print(\"b:\")\n",
        "print(b)\n",
        "print(\"x:\")\n",
        "print(sol)"
      ],
      "metadata": {
        "colab": {
          "base_uri": "https://localhost:8080/"
        },
        "id": "GXZ3FFcHo10n",
        "outputId": "cd258e4e-8bab-48b2-a818-8a5066c209c8"
      },
      "execution_count": null,
      "outputs": [
        {
          "output_type": "stream",
          "name": "stdout",
          "text": [
            "A:\n",
            "[[ 3 -1  1]\n",
            " [ 2  5 -2]\n",
            " [ 1 -1 -3]]\n",
            "b:\n",
            "[ 4 -6  6]\n",
            "x:\n",
            "[ 1.00000282 -1.99999324 -1.00000845]\n"
          ]
        }
      ]
    }
  ]
}