{
  "nbformat": 4,
  "nbformat_minor": 0,
  "metadata": {
    "colab": {
      "provenance": []
    },
    "kernelspec": {
      "name": "python3",
      "display_name": "Python 3"
    },
    "language_info": {
      "name": "python"
    }
  },
  "cells": [
    {
      "cell_type": "markdown",
      "source": [
        "# Ejemplo 1"
      ],
      "metadata": {
        "id": "bRGNEHslcGsF"
      }
    },
    {
      "cell_type": "code",
      "source": [],
      "metadata": {
        "id": "5SLZSZmZj9b0"
      },
      "execution_count": null,
      "outputs": []
    },
    {
      "cell_type": "markdown",
      "source": [
        ":$$\n",
        "\\int_0^1 e^{x^2} dx = \n",
        "$$"
      ],
      "metadata": {
        "id": "_i5aVUetfnwJ"
      }
    },
    {
      "cell_type": "code",
      "source": [
        "import numpy as np\n",
        "import matplotlib.pyplot as plt\n",
        "from numpy import array, zeros, diag, diagflat, dot\n",
        "\n"
      ],
      "metadata": {
        "id": "y2epZWoCJYaz"
      },
      "execution_count": 26,
      "outputs": []
    },
    {
      "cell_type": "markdown",
      "source": [
        "### Gráfica 1"
      ],
      "metadata": {
        "id": "tZ4JAaG0G8rb"
      }
    },
    {
      "cell_type": "code",
      "source": [
        "plt.axvline(0, color='r')   # Eje de las ordenadas\n",
        "plt.axhline(0, color='r')   # Eje de las abscisas\n",
        "\n",
        "x = np.linspace(-0.1, 1.1, 100)\n",
        "y = x*np.sqrt(x**2+9)\n",
        "plt.plot(x, y)\n",
        "\n",
        "plt.grid()\n",
        "plt.show()"
      ],
      "metadata": {
        "colab": {
          "base_uri": "https://localhost:8080/",
          "height": 265
        },
        "id": "_UREc1-PoKQY",
        "outputId": "647b9dcf-0a53-44ab-e2eb-dec3ceb98684"
      },
      "execution_count": 21,
      "outputs": [
        {
          "output_type": "display_data",
          "data": {
            "text/plain": [
              "<Figure size 432x288 with 1 Axes>"
            ],
            "image/png": "[encoded data removed]"
          },
          "metadata": {
            "needs_background": "light"
          }
        }
      ]
    },
    {
      "cell_type": "markdown",
      "source": [
        "### Solución - Método de Rectángulos"
      ],
      "metadata": {
        "id": "sW_ecUjTHfQQ"
      }
    },
    {
      "cell_type": "code",
      "source": [
        "x = np.linspace(-1,1,20)    #delta x\n",
        "print(x)\n",
        "print(type(x))\n",
        "y =  x*np.sqrt(x**2+9)\n",
        " #funcion\n",
        "print(y) \n",
        "y1 = y[0:-1] #hallar altura   termina en el penultimo numero\n",
        "dx = x[1] - x[0]                        # Ancho de cada rectángulo\n",
        "print(dx)\n",
        "fArea = dx*np.sum(y1)                    # Rectángulo ancho * alto, luego suma\n",
        "print(\"Integral area:\",fArea)"
      ],
      "metadata": {
        "colab": {
          "base_uri": "https://localhost:8080/"
        },
        "id": "gCZQa7gVnq2R",
        "outputId": "44ad6e24-589b-4612-86d3-6b94c6270386"
      },
      "execution_count": 17,
      "outputs": [
        {
          "output_type": "stream",
          "name": "stdout",
          "text": [
            "[-1.         -0.89473684 -0.78947368 -0.68421053 -0.57894737 -0.47368421\n",
            " -0.36842105 -0.26315789 -0.15789474 -0.05263158  0.05263158  0.15789474\n",
            "  0.26315789  0.36842105  0.47368421  0.57894737  0.68421053  0.78947368\n",
            "  0.89473684  1.        ]\n",
            "<class 'numpy.ndarray'>\n",
            "[-3.16227766 -2.80104853 -2.4490574  -2.1053397  -1.7688884  -1.43865753\n",
            " -1.11356652 -0.79250524 -0.47433983 -0.15791903  0.15791903  0.47433983\n",
            "  0.79250524  1.11356652  1.43865753  1.7688884   2.1053397   2.4490574\n",
            "  2.80104853  3.16227766]\n",
            "0.10526315789473684\n",
            "Integral area: -0.33287133264930346\n"
          ]
        }
      ]
    },
    {
      "cell_type": "code",
      "source": [
        "x = np.linspace(0,1,20)  \n",
        "y = x*np.sqrt(x**2+9)\n",
        "y1 = y[0:-1]\n",
        "dx = x[1] - x[0]                     \n",
        "fArea = dx*np.sum(y1)                    \n",
        "print(\"Integral area:\",fArea)"
      ],
      "metadata": {
        "colab": {
          "base_uri": "https://localhost:8080/"
        },
        "id": "lZ7vFf_3rY1i",
        "outputId": "ef2f76c3-93de-4631-ffb5-2a29bdb362ea"
      },
      "execution_count": 19,
      "outputs": [
        {
          "output_type": "stream",
          "name": "stdout",
          "text": [
            "Integral area: 1.4578181615167827\n"
          ]
        }
      ]
    },
    {
      "cell_type": "markdown",
      "source": [
        "### Solucion método trapecio"
      ],
      "metadata": {
        "id": "Nvtlm2PTtTAZ"
      }
    },
    {
      "cell_type": "code",
      "source": [
        "x = np.linspace(0,1,20)\n",
        "y = x*np.sqrt(x**2+9)\n",
        "y1 = y[1:-1]\n",
        "dx = x[1] - x[0]        \n",
        "fsum1 = np.sum(2*y1)\n",
        "fsum = fsum1 + y[-1] + y[1]\n",
        "fArea = (dx/2)*fsum    \n",
        "print(fArea)"
      ],
      "metadata": {
        "colab": {
          "base_uri": "https://localhost:8080/"
        },
        "id": "1D1nLOIStZOU",
        "outputId": "d5c186e7-58c7-4040-b248-d0326256bd5b"
      },
      "execution_count": 15,
      "outputs": [
        {
          "output_type": "stream",
          "name": "stdout",
          "text": [
            "1.545191758730352\n"
          ]
        }
      ]
    },
    {
      "cell_type": "markdown",
      "source": [
        "### Método de Monte Carlo"
      ],
      "metadata": {
        "id": "Fd9AQW93LbOv"
      }
    },
    {
      "cell_type": "code",
      "source": [
        "N = 8498\n",
        "\n",
        "a = 1\n",
        "\n",
        "b = np.sqrt(3)\n",
        "x = np.random.uniform(a, b, N)\n",
        "\n",
        "y = 1/(1+x**2)\n",
        "\n",
        "sumfx = np.sum(y)\n",
        "farea = ((b - a) / N) * sumfx\n",
        "print(\"El área es: \", farea)"
      ],
      "metadata": {
        "colab": {
          "base_uri": "https://localhost:8080/"
        },
        "id": "sqGKXDCZozvp",
        "outputId": "fc33fcd3-7aae-4a91-bb7f-ba68e0be458d"
      },
      "execution_count": 25,
      "outputs": [
        {
          "output_type": "stream",
          "name": "stdout",
          "text": [
            "El área es:  0.2610770096999983\n"
          ]
        }
      ]
    },
    {
      "cell_type": "markdown",
      "source": [
        "Jacobi"
      ],
      "metadata": {
        "id": "_cusZbQDqYuy"
      }
    },
    {
      "cell_type": "code",
      "source": [
        "A = array([[2.0,1.0],[5.0,7.0]])\n",
        "b = array([11.0,13.0])\n",
        "x = array([1.0,1.0])\n",
        "\n",
        "sol = jacobi(A,b,x=x)"
      ],
      "metadata": {
        "id": "KMZt2hmkqX8T"
      },
      "execution_count": null,
      "outputs": []
    },
    {
      "cell_type": "code",
      "source": [
        "print(\"A:\")\n",
        "print(A)\n",
        "print(\"b:\")\n",
        "print(b)\n",
        "print(\"x:\")\n",
        "print(sol)"
      ],
      "metadata": {
        "id": "y3lj5HZeqilL"
      },
      "execution_count": null,
      "outputs": []
    }
  ]
}