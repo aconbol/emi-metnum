{
  "nbformat": 4,
  "nbformat_minor": 0,
  "metadata": {
    "colab": {
      "provenance": []
    },
    "kernelspec": {
      "name": "python3",
      "display_name": "Python 3"
    },
    "language_info": {
      "name": "python"
    }
  },
  "cells": [
    {
      "cell_type": "code",
      "execution_count": null,
      "metadata": {
        "id": "2NO84oeC2fBR"
      },
      "outputs": [],
      "source": [
        "from numpy import array, zeros, diag, diagflat, dot"
      ]
    },
    {
      "cell_type": "markdown",
      "source": [
        "### Ejemplo 1 - JACOBI"
      ],
      "metadata": {
        "id": "wKCpNh058sNn"
      }
    },
    {
      "cell_type": "code",
      "source": [
        "A = array([[2.0,1.0],[5.0,7.0]])\n",
        "b = array([11.0,13.0])\n",
        "x = array([1.0,1.0])\n",
        "\n",
        "sol = jacobi(A,b,x=x)"
      ],
      "metadata": {
        "id": "Lt8RK_E56KS7"
      },
      "execution_count": null,
      "outputs": []
    },
    {
      "cell_type": "code",
      "source": [
        "print(\"A:\")\n",
        "print(A)\n",
        "print(\"b:\")\n",
        "print(b)\n",
        "print(\"x:\")\n",
        "print(sol)"
      ],
      "metadata": {
        "colab": {
          "base_uri": "https://localhost:8080/"
        },
        "id": "XFAc6sv36v2i",
        "outputId": "dc876f9a-dc01-46ee-8866-bb0475eb4605"
      },
      "execution_count": null,
      "outputs": [
        {
          "output_type": "stream",
          "name": "stdout",
          "text": [
            "A:\n",
            "[[2. 1.]\n",
            " [5. 7.]]\n",
            "b:\n",
            "[11. 13.]\n",
            "x:\n",
            "[ 7.11110202 -3.22220342]\n"
          ]
        }
      ]
    },
    {
      "cell_type": "markdown",
      "source": [
        "### Ejemplo 2-A"
      ],
      "metadata": {
        "id": "u53kkw6L8mhn"
      }
    },
    {
      "cell_type": "code",
      "source": [
        "def jacobi(A,b,N=25,x=None):\n",
        "    \"\"\" AX=B - Jacobi Método Iterativo. \"\"\"\n",
        "    # Crear la conjetura (hipótesis, supuesto) inicial\n",
        "    # Si se necesita\n",
        "    if x is None:\n",
        "        x = zeros(len(A[0]))\n",
        "\n",
        "    # Crear una matriz diagonalizada de A\n",
        "    D = diag(A)\n",
        "    R = A - diagflat(D)\n",
        "\n",
        "    # Iteración por N veces \n",
        "    for i in range(N):\n",
        "        x = (b - dot(R,x)) / D\n",
        "    return x"
      ],
      "metadata": {
        "id": "4kpO2Nln2s66"
      },
      "execution_count": null,
      "outputs": []
    },
    {
      "cell_type": "code",
      "source": [
        "A = array([[.7, .1, -8.2],[25, -.9, -.3], [3.7, -7.3, -.1]])\n",
        "b = array([-56.4, 20.2, -18.9])\n",
        "\n",
        "sol = jacobi(A,b,N=3)"
      ],
      "metadata": {
        "id": "Bn3CpzzM7LD4"
      },
      "execution_count": null,
      "outputs": []
    },
    {
      "cell_type": "code",
      "source": [
        "print(\"A:\")\n",
        "print(A)\n",
        "print(\"b:\")\n",
        "print(b)\n",
        "print(\"x:\")\n",
        "print(sol)"
      ],
      "metadata": {
        "colab": {
          "base_uri": "https://localhost:8080/"
        },
        "id": "wI8XwR-E8XoP",
        "outputId": "a371fafb-2bd4-4465-e59e-221947722bfe"
      },
      "execution_count": null,
      "outputs": [
        {
          "output_type": "stream",
          "name": "stdout",
          "text": [
            "A:\n",
            "[[ 0.7  0.1 -8.2]\n",
            " [25.  -0.9 -0.3]\n",
            " [ 3.7 -7.3 -0.1]]\n",
            "b:\n",
            "[-56.4  20.2 -18.9]\n",
            "x:\n",
            "[-13263.39002268  59713.09171076 248862.88888889]\n"
          ]
        }
      ]
    },
    {
      "cell_type": "markdown",
      "source": [
        "### Ejemplo 2-B"
      ],
      "metadata": {
        "id": "ebwMu7J-8zuX"
      }
    },
    {
      "cell_type": "code",
      "source": [
        "A = array([[25, -.9, -.3], [3.7, -7.3, -.1], [.7, .1, -8.2]])\n",
        "b = array([20.2, -18.9, -56.4])\n",
        "\n",
        "sol = jacobi(A,b,N=3)"
      ],
      "metadata": {
        "id": "KOag_LO582GY"
      },
      "execution_count": null,
      "outputs": []
    },
    {
      "cell_type": "code",
      "source": [
        "print(\"A:\")\n",
        "print(A)\n",
        "print(\"b:\")\n",
        "print(b)\n",
        "print(\"x:\")\n",
        "print(sol)"
      ],
      "metadata": {
        "colab": {
          "base_uri": "https://localhost:8080/"
        },
        "id": "wU-s6PAM9QRo",
        "outputId": "72ab0d1b-1126-449d-f9e7-fc688459e4f1"
      },
      "execution_count": null,
      "outputs": [
        {
          "output_type": "stream",
          "name": "stdout",
          "text": [
            "A:\n",
            "[[25.  -0.9 -0.3]\n",
            " [ 3.7 -7.3 -0.1]\n",
            " [ 0.7  0.1 -8.2]]\n",
            "b:\n",
            "[ 20.2 -18.9 -56.4]\n",
            "x:\n",
            "[0.99629997 2.99205285 6.99744573]\n"
          ]
        }
      ]
    }
  ]
}