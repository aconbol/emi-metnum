{
  "nbformat": 4,
  "nbformat_minor": 0,
  "metadata": {
    "colab": {
      "provenance": []
    },
    "kernelspec": {
      "name": "python3",
      "display_name": "Python 3"
    },
    "language_info": {
      "name": "python"
    }
  },
  "cells": [
    {
      "cell_type": "markdown",
      "source": [
        "### Ejerccio Nro 1\n",
        "____"
      ],
      "metadata": {
        "id": "RqCjYeXWYboc"
      }
    },
    {
      "cell_type": "code",
      "source": [
        "import numpy as np\n",
        "import matplotlib.pyplot as plt"
      ],
      "metadata": {
        "id": "nkkRAiNXYjNt"
      },
      "execution_count": null,
      "outputs": []
    },
    {
      "cell_type": "markdown",
      "source": [
        "Grafica"
      ],
      "metadata": {
        "id": "2dho_bt6YtKN"
      }
    },
    {
      "cell_type": "code",
      "source": [
        "plt.axvline(0, color='r')  #Eje de las Cordenadas\n",
        "plt.axhline(0, color='r')  #Eje de las Abscisas\n",
        "\n",
        "x = np.linspace(-0.6, 1.4, 100)\n",
        "y = (1 + np.exp(-x) * np.cos(3x))\n",
        "plt.plot(x, y)\n",
        "\n",
        "plt.grid()\n",
        "plt.show()"
      ],
      "metadata": {
        "colab": {
          "base_uri": "https://localhost:8080/",
          "height": 131
        },
        "id": "DJ2XlyWLYvVq",
        "outputId": "dceb3f30-83c1-43a7-9e34-26c63db76809"
      },
      "execution_count": null,
      "outputs": [
        {
          "output_type": "error",
          "ename": "SyntaxError",
          "evalue": "ignored",
          "traceback": [
            "\u001b[0;36m  File \u001b[0;32m\"<ipython-input-32-ffbafca15314>\"\u001b[0;36m, line \u001b[0;32m5\u001b[0m\n\u001b[0;31m    y = (1 + np.exp(-x) * np.cos(3x))\u001b[0m\n\u001b[0m                                  ^\u001b[0m\n\u001b[0;31mSyntaxError\u001b[0m\u001b[0;31m:\u001b[0m invalid syntax\n"
          ]
        }
      ]
    },
    {
      "cell_type": "markdown",
      "source": [
        "Metodo Rectangulo"
      ],
      "metadata": {
        "id": "tvyucwC0dsLm"
      }
    },
    {
      "cell_type": "code",
      "source": [
        "x = np.linspace(-0.6,0,10)\n",
        "y = (1 + np.exp(-x) * np.cos(3x))\n",
        "y1 = y[0:-1]"
      ],
      "metadata": {
        "id": "qMHwbHLZGU72"
      },
      "execution_count": null,
      "outputs": []
    },
    {
      "cell_type": "markdown",
      "source": [
        "### Ejercicio Nr 2 (Metodo Montecarlo)\n",
        "___"
      ],
      "metadata": {
        "id": "EPgAqY3AdvB1"
      }
    },
    {
      "cell_type": "code",
      "source": [
        "import numpy as np\n",
        "import matplotlib.pyplot as plt"
      ],
      "metadata": {
        "id": "TRpKQIxtelE1"
      },
      "execution_count": null,
      "outputs": []
    },
    {
      "cell_type": "markdown",
      "source": [
        "Grafica"
      ],
      "metadata": {
        "id": "bsQK6XZrfrFE"
      }
    },
    {
      "cell_type": "code",
      "source": [
        "plt.axvline(0, color='r')   \n",
        "plt.axhline(0, color='r')   \n",
        "\n",
        "x = np.linspace(-10000.1, 10000.1, 100)\n",
        "y = 1/(1+ x**2)\n",
        "plt.plot(x, y)\n",
        "\n",
        "plt.grid()\n",
        "plt.show()"
      ],
      "metadata": {
        "colab": {
          "base_uri": "https://localhost:8080/",
          "height": 265
        },
        "id": "AAKMjbbke0Ls",
        "outputId": "2998eb41-f56f-4a41-9c34-9246f4003478"
      },
      "execution_count": null,
      "outputs": [
        {
          "output_type": "display_data",
          "data": {
            "text/plain": [
              "<Figure size 432x288 with 1 Axes>"
            ],
            "image/png": "[encoded data removed]"
          },
          "metadata": {
            "needs_background": "light"
          }
        }
      ]
    },
    {
      "cell_type": "markdown",
      "source": [
        "Metodo de Montecarlo"
      ],
      "metadata": {
        "id": "Wpm2Cc8Yf0Uc"
      }
    },
    {
      "cell_type": "code",
      "source": [
        "N = 10000000\n",
        "# limite inferior\n",
        "a = -10000\n",
        "# limite superior\n",
        "b = 10000\n",
        "x = np.random.uniform(a, b, N)\n",
        "\n",
        "y = 1/(1+ x**2)\n",
        "\n",
        "sum = np.sum(y)\n",
        "area = ((b - a) / N) * sum\n",
        "print(\"LA INTEGRAL DE LA FUNSION ES: \", area)"
      ],
      "metadata": {
        "colab": {
          "base_uri": "https://localhost:8080/"
        },
        "id": "tpPCNHBefpnE",
        "outputId": "2cb7071b-722e-46a5-90f4-e04ea192f7c2"
      },
      "execution_count": null,
      "outputs": [
        {
          "output_type": "stream",
          "name": "stdout",
          "text": [
            "LA INTEGRAL DE LA FUNSION ES:  3.1670199394812917\n"
          ]
        }
      ]
    },
    {
      "cell_type": "markdown",
      "source": [
        "### Ejercicio Nro 3\n",
        "___"
      ],
      "metadata": {
        "id": "JB-SFtnngoVt"
      }
    },
    {
      "cell_type": "code",
      "source": [
        "from numpy import array, zeros, diag, diagflat, dot"
      ],
      "metadata": {
        "id": "nEBLM2YLgwRN"
      },
      "execution_count": null,
      "outputs": []
    },
    {
      "cell_type": "code",
      "source": [
        "def jacobi(A,b,N=20,x=None):\n",
        "\n",
        "    if x is None:\n",
        "        x = zeros(len(A[0]))\n",
        "\n",
        " ##------MATRIZ DIAGONAL DE A-----##\n",
        "    D = diag(A)\n",
        "    R = A - diagflat(D)\n",
        "\n",
        "##-----INTERACCIONES N veces-----##\n",
        "    for i in range(N):\n",
        "        x = (b - dot(R,x)) / D\n",
        "    return x"
      ],
      "metadata": {
        "id": "PnAv9XjPhSq3"
      },
      "execution_count": null,
      "outputs": []
    },
    {
      "cell_type": "code",
      "source": [
        "###---diagonalizar la matriz A ---###\n",
        "A = array([[-1, 3, 1], [2, 1, 4], [3, -1, -3]])\n",
        "b = array([3, 7, 1])\n",
        "\n",
        "sol = jacobi(A,b,N=3)\n",
        "print(\"MATRIZ A:\")\n",
        "print(A)\n",
        "print(\"MATRIZ B:\")\n",
        "print(b)\n",
        "print(\"los valores de X son:\")\n",
        "print(sol)"
      ],
      "metadata": {
        "colab": {
          "base_uri": "https://localhost:8080/"
        },
        "id": "aKzPGa77jAY3",
        "outputId": "91f32a6f-5cd6-4fad-adbf-09d563b0a9a9"
      },
      "execution_count": null,
      "outputs": [
        {
          "output_type": "stream",
          "name": "stdout",
          "text": [
            "MATRIZ A:\n",
            "[[-1  3  1]\n",
            " [ 2  1  4]\n",
            " [ 3 -1 -3]]\n",
            "MATRIZ B:\n",
            "[3 7 1]\n",
            "los valores de X son:\n",
            "[34.33333333 -5.66666667 12.55555556]\n"
          ]
        }
      ]
    }
  ]
}