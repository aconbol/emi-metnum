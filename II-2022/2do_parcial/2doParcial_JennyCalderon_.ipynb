{
  "nbformat": 4,
  "nbformat_minor": 0,
  "metadata": {
    "colab": {
      "provenance": []
    },
    "kernelspec": {
      "name": "python3",
      "display_name": "Python 3"
    },
    "language_info": {
      "name": "python"
    }
  },
  "cells": [
    {
      "cell_type": "code",
      "source": [
        "import numpy as np\n",
        "import matplotlib.pyplot as plt"
      ],
      "metadata": {
        "id": "__Dp5g-If-SN"
      },
      "execution_count": 1,
      "outputs": []
    },
    {
      "cell_type": "markdown",
      "source": [
        "Ejercicio 1"
      ],
      "metadata": {
        "id": "m7i2d7jDfTnN"
      }
    },
    {
      "cell_type": "code",
      "source": [
        "plt.axvline(0, color='r')   \n",
        "plt.axhline(0, color='r')   \n",
        "\n",
        "x = np.linspace(-4.1, 4.1, 100)\n",
        "y = x*((x**2+9)**1/2)\n",
        "plt.plot(x, y)\n",
        "\n",
        "plt.grid()\n",
        "plt.show()"
      ],
      "metadata": {
        "colab": {
          "base_uri": "https://localhost:8080/",
          "height": 265
        },
        "id": "pc-pnauJgKHG",
        "outputId": "781e975e-c67f-4518-dc56-638091c09d2b"
      },
      "execution_count": 7,
      "outputs": [
        {
          "output_type": "display_data",
          "data": {
            "text/plain": [
              "<Figure size 432x288 with 1 Axes>"
            ],
            "image/png": "[encoded data removed]"
          },
          "metadata": {
            "needs_background": "light"
          }
        }
      ]
    },
    {
      "cell_type": "markdown",
      "source": [
        "a) Metodo rectangulo"
      ],
      "metadata": {
        "id": "g04GDnnMfYym"
      }
    },
    {
      "cell_type": "code",
      "source": [
        "x = np.linspace(-1,1,20)\n",
        "y = x*((x**2+9)**1/2)\n",
        "y1 = y[0:-1]\n",
        "dx = x[1] - x[0]                        \n",
        "fArea = dx*np.sum(y1)                    \n",
        "print(\"Integral area:\",fArea)"
      ],
      "metadata": {
        "colab": {
          "base_uri": "https://localhost:8080/"
        },
        "id": "-lzf6ReYfcrN",
        "outputId": "667d1310-3f8d-46f4-ef78-1da661b36a03"
      },
      "execution_count": 9,
      "outputs": [
        {
          "output_type": "stream",
          "name": "stdout",
          "text": [
            "Integral area: -0.5263157894736848\n"
          ]
        }
      ]
    },
    {
      "cell_type": "markdown",
      "source": [
        "b)Metodo de trapecios "
      ],
      "metadata": {
        "id": "zBXGhd65hERG"
      }
    },
    {
      "cell_type": "code",
      "source": [
        "x = np.linspace(-1,1,20)\n",
        "y = x*((x**2+9)**1/2)\n",
        "y1 = y[1:-1]\n",
        "dx = x[1] - x[0]        \n",
        "fsum1 = np.sum(2*y1)\n",
        "fsum = fsum1 + y[0] + y[-1]\n",
        "fArea = (dx/2)*fsum     \n",
        "print(fArea)"
      ],
      "metadata": {
        "colab": {
          "base_uri": "https://localhost:8080/"
        },
        "id": "Dfg5S67GhDY3",
        "outputId": "a2ba9820-a913-4c08-95a3-cb8c8ba6e992"
      },
      "execution_count": 10,
      "outputs": [
        {
          "output_type": "stream",
          "name": "stdout",
          "text": [
            "-4.674623261579606e-16\n"
          ]
        }
      ]
    },
    {
      "cell_type": "markdown",
      "source": [
        "c)error"
      ],
      "metadata": {
        "id": "uzx93L8shb91"
      }
    },
    {
      "cell_type": "markdown",
      "source": [
        "Ejercicio 2"
      ],
      "metadata": {
        "id": "fSC9_urcjZip"
      }
    },
    {
      "cell_type": "markdown",
      "source": [
        "Metodo montecarlo\n"
      ],
      "metadata": {
        "id": "6IsPoc4ujcgG"
      }
    },
    {
      "cell_type": "code",
      "source": [
        "#Codigo S8573-1\n",
        "plt.axvline(0, color='r')   \n",
        "plt.axhline(0, color='r')   \n",
        "\n",
        "x = np.linspace(-0.1, 7.1, 100)\n",
        "y = (1/(1+x**2))\n",
        "plt.plot(x, y)\n",
        "\n",
        "plt.grid()\n",
        "plt.show()"
      ],
      "metadata": {
        "colab": {
          "base_uri": "https://localhost:8080/",
          "height": 265
        },
        "id": "VHPkChNpjfM_",
        "outputId": "252444a3-786d-4922-968b-367beed0e09b"
      },
      "execution_count": 15,
      "outputs": [
        {
          "output_type": "display_data",
          "data": {
            "text/plain": [
              "<Figure size 432x288 with 1 Axes>"
            ],
            "image/png": "[encoded data removed]"
          },
          "metadata": {
            "needs_background": "light"
          }
        }
      ]
    },
    {
      "cell_type": "code",
      "source": [
        "N = 85731\n",
        "a = 1\n",
        "b = 3**1/2\n",
        "x = np.random.uniform(a, b, N)\n",
        "y = 1/(1+x**2)\n",
        "sumfx = np.sum(y)\n",
        "farea = ((b - a) / N) * sumfx\n",
        "print(\"El área es: \", farea)\n"
      ],
      "metadata": {
        "colab": {
          "base_uri": "https://localhost:8080/"
        },
        "id": "lymyqnRJjwC3",
        "outputId": "727473e7-31b8-404b-de69-70df54c59138"
      },
      "execution_count": 20,
      "outputs": [
        {
          "output_type": "stream",
          "name": "stdout",
          "text": [
            "El área es:  0.1974385463167938\n"
          ]
        }
      ]
    },
    {
      "cell_type": "markdown",
      "source": [
        "Ejercicio 3"
      ],
      "metadata": {
        "id": "SV8noaqkj1Lv"
      }
    },
    {
      "cell_type": "markdown",
      "source": [
        "Jacobi "
      ],
      "metadata": {
        "id": "_Yhj5V7Mj2-3"
      }
    },
    {
      "cell_type": "code",
      "source": [
        "# T=0.001\n",
        "from numpy import array, zeros, diag, diagflat, dot"
      ],
      "metadata": {
        "id": "zgzIhchRj5o_"
      },
      "execution_count": 21,
      "outputs": []
    },
    {
      "cell_type": "code",
      "source": [
        "def jacobi(A,b,N=25,x=None):\n",
        "    if x is None:\n",
        "        x = zeros(len(A[0]))\n",
        "    D = diag(A)\n",
        "    R = A - diagflat(D)\n",
        "    for i in range(N):\n",
        "        x = (b - dot(R,x)) / D\n",
        "    return x"
      ],
      "metadata": {
        "id": "nmxJC7wdmmeo"
      },
      "execution_count": 22,
      "outputs": []
    },
    {
      "cell_type": "code",
      "source": [
        "A = array([[3.0, -1.0, 1.0], [2.0, 5.0, -2.0],[1.0, -1.0, -3.0]])\n",
        "b = array([ 4.0, -6.0, 6.0])\n",
        "sol = jacobi(A,b,N=1)\n",
        "print(sol)"
      ],
      "metadata": {
        "colab": {
          "base_uri": "https://localhost:8080/"
        },
        "id": "hGF4rfxskEWP",
        "outputId": "a491f5f7-f08f-4a7e-eb19-e890bcdd0580"
      },
      "execution_count": 24,
      "outputs": [
        {
          "output_type": "stream",
          "name": "stdout",
          "text": [
            "[ 1.33333333 -1.2        -2.        ]\n"
          ]
        }
      ]
    },
    {
      "cell_type": "code",
      "source": [
        "A = array([[3.0, -1.0, 1.0], [2.0, 5.0, -2.0],[1.0, -1.0, -3.0]])\n",
        "b = array([ 4.0, -6.0, 6.0])\n",
        "sol2 = jacobi(A,b,N=2)\n",
        "print(sol2)"
      ],
      "metadata": {
        "colab": {
          "base_uri": "https://localhost:8080/"
        },
        "id": "_AmSpKwPnSlQ",
        "outputId": "613ecd72-d401-4eec-d8f5-ce279299ad14"
      },
      "execution_count": 26,
      "outputs": [
        {
          "output_type": "stream",
          "name": "stdout",
          "text": [
            "[ 1.6        -2.53333333 -1.15555556]\n"
          ]
        }
      ]
    },
    {
      "cell_type": "code",
      "source": [
        "D1=sol/sol2\n",
        "EF=1-D1\n",
        "print(EF)"
      ],
      "metadata": {
        "colab": {
          "base_uri": "https://localhost:8080/"
        },
        "id": "kd-VcnFkoNih",
        "outputId": "4be3f941-0602-431b-8e81-2730ad627f5a"
      },
      "execution_count": 32,
      "outputs": [
        {
          "output_type": "stream",
          "name": "stdout",
          "text": [
            "[ 0.16666667  0.52631579 -0.73076923]\n"
          ]
        }
      ]
    },
    {
      "cell_type": "code",
      "source": [
        "A = array([[3.0, -1.0, 1.0], [2.0, 5.0, -2.0],[1.0, -1.0, -3.0]])\n",
        "b = array([ 4.0, -6.0, 6.0])\n",
        "sol3 = jacobi(A,b,N=3)\n",
        "print(sol3)"
      ],
      "metadata": {
        "colab": {
          "base_uri": "https://localhost:8080/"
        },
        "id": "rEHetk_8nS94",
        "outputId": "37dd57ad-e571-4c41-fd4e-ff53c96f3896"
      },
      "execution_count": 27,
      "outputs": [
        {
          "output_type": "stream",
          "name": "stdout",
          "text": [
            "[ 0.87407407 -2.30222222 -0.62222222]\n"
          ]
        }
      ]
    },
    {
      "cell_type": "code",
      "source": [
        "D1=sol2/sol3\n",
        "EF=1-D1\n",
        "print(EF)"
      ],
      "metadata": {
        "colab": {
          "base_uri": "https://localhost:8080/"
        },
        "id": "FSZBtE-zodr0",
        "outputId": "70fe59e5-0f04-40c2-c610-e9d58ac93a09"
      },
      "execution_count": 33,
      "outputs": [
        {
          "output_type": "stream",
          "name": "stdout",
          "text": [
            "[-0.83050847 -0.1003861  -0.85714286]\n"
          ]
        }
      ]
    },
    {
      "cell_type": "code",
      "source": [
        "A = array([[3.0, -1.0, 1.0], [2.0, 5.0, -2.0],[1.0, -1.0, -3.0]])\n",
        "b = array([ 4.0, -6.0, 6.0])\n",
        "sol4 = jacobi(A,b,N=4)\n",
        "print(sol4)"
      ],
      "metadata": {
        "colab": {
          "base_uri": "https://localhost:8080/"
        },
        "id": "NWe76oqhnp-h",
        "outputId": "6c7b90d1-1505-40ba-e3b0-769dbab0e6c1"
      },
      "execution_count": 28,
      "outputs": [
        {
          "output_type": "stream",
          "name": "stdout",
          "text": [
            "[ 0.77333333 -1.79851852 -0.94123457]\n"
          ]
        }
      ]
    },
    {
      "cell_type": "code",
      "source": [
        "D1=sol3/sol4\n",
        "EF=1-D1\n",
        "print(EF)"
      ],
      "metadata": {
        "colab": {
          "base_uri": "https://localhost:8080/"
        },
        "id": "2CYIuJVboiOc",
        "outputId": "9f5f0d54-93a7-44b7-d95a-eec3614eaab2"
      },
      "execution_count": 34,
      "outputs": [
        {
          "output_type": "stream",
          "name": "stdout",
          "text": [
            "[-0.1302682 -0.2800659  0.3389297]\n"
          ]
        }
      ]
    },
    {
      "cell_type": "code",
      "source": [
        "A = array([[3.0, -1.0, 1.0], [2.0, 5.0, -2.0],[1.0, -1.0, -3.0]])\n",
        "b = array([ 4.0, -6.0, 6.0])\n",
        "sol5 = jacobi(A,b,N=5)\n",
        "print(sol5)"
      ],
      "metadata": {
        "colab": {
          "base_uri": "https://localhost:8080/"
        },
        "id": "pF3pG_CrnqNo",
        "outputId": "1dfd45df-e81a-43cc-f3f3-3f69ebbfbaac"
      },
      "execution_count": 29,
      "outputs": [
        {
          "output_type": "stream",
          "name": "stdout",
          "text": [
            "[ 1.04757202 -1.88582716 -1.14271605]\n"
          ]
        }
      ]
    },
    {
      "cell_type": "code",
      "source": [
        "D1=sol4/sol5\n",
        "EF=1-D1\n",
        "print(EF)"
      ],
      "metadata": {
        "colab": {
          "base_uri": "https://localhost:8080/"
        },
        "id": "WbyMTNYFomSk",
        "outputId": "ed140577-1614-4d60-ae2b-e4e86839cec8"
      },
      "execution_count": 35,
      "outputs": [
        {
          "output_type": "stream",
          "name": "stdout",
          "text": [
            "[0.26178504 0.04629727 0.17631806]\n"
          ]
        }
      ]
    },
    {
      "cell_type": "code",
      "source": [
        "A = array([[3.0, -1.0, 1.0], [2.0, 5.0, -2.0],[1.0, -1.0, -3.0]])\n",
        "b = array([ 4.0, -6.0, 6.0])\n",
        "sol6 = jacobi(A,b,N=20)\n",
        "print(sol6)"
      ],
      "metadata": {
        "colab": {
          "base_uri": "https://localhost:8080/"
        },
        "id": "tJgGTQ3fnqaA",
        "outputId": "85d58b26-31ae-4fcf-ec47-8bb38513834e"
      },
      "execution_count": 40,
      "outputs": [
        {
          "output_type": "stream",
          "name": "stdout",
          "text": [
            "[ 0.99990597 -1.99991642 -0.99997562]\n"
          ]
        }
      ]
    },
    {
      "cell_type": "code",
      "source": [
        "A = array([[3.0, -1.0, 1.0], [2.0, 5.0, -2.0],[1.0, -1.0, -3.0]])\n",
        "b = array([ 4.0, -6.0, 6.0])\n",
        "sol7 = jacobi(A,b,N=21)\n",
        "print(sol7)"
      ],
      "metadata": {
        "colab": {
          "base_uri": "https://localhost:8080/"
        },
        "id": "zU5jtdzUn65I",
        "outputId": "0965715c-d1b9-4300-d851-32e58014adf1"
      },
      "execution_count": 41,
      "outputs": [
        {
          "output_type": "stream",
          "name": "stdout",
          "text": [
            "[ 1.00001974 -1.99995264 -1.00005921]\n"
          ]
        }
      ]
    },
    {
      "cell_type": "code",
      "source": [
        "D1=sol6/sol7\n",
        "EF=1-D1\n",
        "print(EF)"
      ],
      "metadata": {
        "colab": {
          "base_uri": "https://localhost:8080/"
        },
        "id": "Bq2qbg6fo1KR",
        "outputId": "22a4850e-a628-4d02-8448-2816c9992817"
      },
      "execution_count": 42,
      "outputs": [
        {
          "output_type": "stream",
          "name": "stdout",
          "text": [
            "[1.13765716e-04 1.81104309e-05 8.35796762e-05]\n"
          ]
        }
      ]
    },
    {
      "cell_type": "code",
      "source": [
        "print(\"A:\")\n",
        "print(A)\n",
        "print(\"b:\")\n",
        "print(b)\n",
        "print(\"x:\")\n",
        "print(sol7) #Solucion Final "
      ],
      "metadata": {
        "colab": {
          "base_uri": "https://localhost:8080/"
        },
        "id": "HwYMJEiPpE_5",
        "outputId": "ebce24d3-91e3-469b-bc77-cf16e2ab6043"
      },
      "execution_count": 43,
      "outputs": [
        {
          "output_type": "stream",
          "name": "stdout",
          "text": [
            "A:\n",
            "[[ 3. -1.  1.]\n",
            " [ 2.  5. -2.]\n",
            " [ 1. -1. -3.]]\n",
            "b:\n",
            "[ 4. -6.  6.]\n",
            "x:\n",
            "[ 1.00001974 -1.99995264 -1.00005921]\n"
          ]
        }
      ]
    }
  ]
}