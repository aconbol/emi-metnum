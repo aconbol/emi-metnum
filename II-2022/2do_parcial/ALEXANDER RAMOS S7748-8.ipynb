{
  "nbformat": 4,
  "nbformat_minor": 0,
  "metadata": {
    "colab": {
      "provenance": []
    },
    "kernelspec": {
      "name": "python3",
      "display_name": "Python 3"
    },
    "language_info": {
      "name": "python"
    }
  },
  "cells": [
    {
      "cell_type": "code",
      "execution_count": 3,
      "metadata": {
        "id": "YfzmgedXJB4Y"
      },
      "outputs": [],
      "source": [
        "import numpy as np\n",
        "import matplotlib.pyplot as plt"
      ]
    },
    {
      "cell_type": "code",
      "source": [
        "# PREGUNTA 1\n",
        "plt.axvline(0, color='r')   # Eje de las ordenadas\n",
        "plt.axhline(0, color='r')   # Eje de las abscisas\n",
        "\n",
        "x = np.linspace(-3, 3, 100)\n",
        "y = np.sqrt(x**2+9)*x\n",
        "plt.plot(x, y)\n",
        "\n",
        "plt.grid()\n",
        "plt.show()"
      ],
      "metadata": {
        "colab": {
          "base_uri": "https://localhost:8080/",
          "height": 265
        },
        "id": "dpotBk4BJE2d",
        "outputId": "a134314c-e4b6-4663-b36b-2c9b3d44df18"
      },
      "execution_count": 19,
      "outputs": [
        {
          "output_type": "display_data",
          "data": {
            "text/plain": [
              "<Figure size 432x288 with 1 Axes>"
            ],
            "image/png": "[encoded data removed]"
          },
          "metadata": {
            "needs_background": "light"
          }
        }
      ]
    },
    {
      "cell_type": "code",
      "source": [
        "#RECTANGULO #\n",
        "x = np.linspace(0,1,10)\n",
        "y = np.sqrt(x**2+9)*x\n",
        "y1 = y[0:-1]\n",
        "dx = x[1] - x[0]                       \n",
        "area = dx*np.sum(y1)                   \n",
        "print(\"EL AREA ES:\",2*area)\n"
      ],
      "metadata": {
        "colab": {
          "base_uri": "https://localhost:8080/"
        },
        "id": "AhtJdoGvJaZ4",
        "outputId": "eabe8f40-08f6-40be-9dd3-da3c99e1d3e6"
      },
      "execution_count": 6,
      "outputs": [
        {
          "output_type": "stream",
          "name": "stdout",
          "text": [
            "la integral de la funcion es: 2.7314715604871127\n"
          ]
        }
      ]
    },
    {
      "cell_type": "code",
      "source": [
        "#TRAPECIO #\n"
      ],
      "metadata": {
        "colab": {
          "base_uri": "https://localhost:8080/"
        },
        "id": "0brsX2dMiSIP",
        "outputId": "f22b6037-7d54-44d6-bd51-6e2a234f92bc"
      },
      "execution_count": 7,
      "outputs": [
        {
          "output_type": "stream",
          "name": "stdout",
          "text": [
            "la integral de la funcion es: 3.082835744950266\n"
          ]
        }
      ]
    },
    {
      "cell_type": "code",
      "source": [
        "# PREGUNTA 2 \n",
        "import numpy as np\n",
        "import matplotlib.pyplot as plt"
      ],
      "metadata": {
        "id": "LdpesRASkEdt"
      },
      "execution_count": 8,
      "outputs": []
    },
    {
      "cell_type": "code",
      "source": [
        "plt.axvline(0, color='r')   \n",
        "plt.axhline(0, color='r')   \n",
        "x = np.linspace(1, 3**(1/2), 100)\n",
        "y = 1/(1+ x**2)\n",
        "plt.plot(x, y)\n",
        "plt.grid()\n",
        "plt.show()"
      ],
      "metadata": {
        "colab": {
          "base_uri": "https://localhost:8080/",
          "height": 265
        },
        "id": "U9aSz8glk0y4",
        "outputId": "ed368912-d7bd-4e15-bda9-f2ed7e214479"
      },
      "execution_count": 10,
      "outputs": [
        {
          "output_type": "display_data",
          "data": {
            "text/plain": [
              "<Figure size 432x288 with 1 Axes>"
            ],
            "image/png": "[encoded data removed]"
          },
          "metadata": {
            "needs_background": "light"
          }
        }
      ]
    },
    {
      "cell_type": "code",
      "source": [
        "#MONTECARLO\n",
        "N = 50000000\n",
        "a = 1\n",
        "b = 3**(1/2)\n",
        "x = np.random.uniform(a, b, N)\n",
        "y = 1/(1+ x**2)\n",
        "sum = np.sum(y)\n",
        "area = ((b - a) / N) * sum\n",
        "print(\"EL AREA ES: \", area)"
      ],
      "metadata": {
        "colab": {
          "base_uri": "https://localhost:8080/"
        },
        "id": "N-wOzEd2mequ",
        "outputId": "7f1900a7-113b-40fd-fe0e-cd368a6824fe"
      },
      "execution_count": 11,
      "outputs": [
        {
          "output_type": "stream",
          "name": "stdout",
          "text": [
            "LA INTEGRAL DE LA FUNSION ES:  0.2618031897436578\n"
          ]
        }
      ]
    },
    {
      "cell_type": "code",
      "source": [
        "#PREGUNTA 3 JACOBI\n",
        "from numpy import array, zeros, diag, diagflat, dot\n",
        "def jacobi(A,b,N=25,x=None):\n",
        "\n",
        "    if x is None:\n",
        "        x = zeros(len(A[0]))\n",
        "    D = diag(A)\n",
        "    R = A - diagflat(D)\n",
        "    for i in range(N):\n",
        "        x = (b - dot(R,x)) / D\n",
        "    return x"
      ],
      "metadata": {
        "id": "3TXWQFaliSp9"
      },
      "execution_count": 15,
      "outputs": []
    },
    {
      "cell_type": "code",
      "source": [
        "\n",
        "A = array([[3, -1, 1], [2, 5, -2], [1, -1, -3]])\n",
        "b = array([4, -6, 6])\n",
        "sol = jacobi(A,b,N=3)\n",
        "print(\"A:\")\n",
        "print(A)\n",
        "print(\"B:\")\n",
        "print(b)\n",
        "print(\"X:\")\n",
        "print(sol)"
      ],
      "metadata": {
        "colab": {
          "base_uri": "https://localhost:8080/"
        },
        "id": "Jp0MiHkwibEl",
        "outputId": "bf3ab349-3800-4617-9b81-b1142c56421a"
      },
      "execution_count": 18,
      "outputs": [
        {
          "output_type": "stream",
          "name": "stdout",
          "text": [
            "A:\n",
            "[[ 3 -1  1]\n",
            " [ 2  5 -2]\n",
            " [ 1 -1 -3]]\n",
            "B:\n",
            "[ 4 -6  6]\n",
            "X:\n",
            "[ 0.87407407 -2.30222222 -0.62222222]\n"
          ]
        }
      ]
    }
  ]
}