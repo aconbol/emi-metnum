{
  "nbformat": 4,
  "nbformat_minor": 0,
  "metadata": {
    "colab": {
      "provenance": []
    },
    "kernelspec": {
      "name": "python3",
      "display_name": "Python 3"
    },
    "language_info": {
      "name": "python"
    }
  },
  "cells": [
    {
      "cell_type": "markdown",
      "source": [
        "### 1er. Pregunta\n",
        "\n"
      ],
      "metadata": {
        "id": "MJU0z4UsfQCs"
      }
    },
    {
      "cell_type": "markdown",
      "source": [
        "$$\n",
        "\\int_1^1 x√x²+9  dx = \n",
        "$$"
      ],
      "metadata": {
        "id": "zSwzxthXgCB0"
      }
    },
    {
      "cell_type": "code",
      "execution_count": null,
      "metadata": {
        "id": "wQ3XLVR-fPJQ"
      },
      "outputs": [],
      "source": [
        "import numpy as np\n",
        "import matplotlib.pyplot as plt"
      ]
    },
    {
      "cell_type": "markdown",
      "source": [
        "METODO DE RECTANGULO"
      ],
      "metadata": {
        "id": "fxP3cJOVoFjH"
      }
    },
    {
      "cell_type": "code",
      "source": [
        "plt.axvline(0, color='r')   # Eje de las ordenadas\n",
        "plt.axhline(0, color='r')   # Eje de las abscisas\n",
        "\n",
        "x = np.linspace(-1, 1, 20)\n",
        "y = x*np.sqrt(x**2+9)\n",
        "plt.plot(x,y)\n",
        "plt.grid()\n",
        "plt.show()"
      ],
      "metadata": {
        "colab": {
          "base_uri": "https://localhost:8080/",
          "height": 265
        },
        "id": "8IM2BcG9jels",
        "outputId": "1ae54f39-c7e9-485a-c6ea-735453a3db8f"
      },
      "execution_count": null,
      "outputs": [
        {
          "output_type": "display_data",
          "data": {
            "text/plain": [
              "<Figure size 432x288 with 1 Axes>"
            ],
            "image/png": "[encoded data removed]"
          },
          "metadata": {
            "needs_background": "light"
          }
        }
      ]
    },
    {
      "cell_type": "code",
      "source": [
        "def f(x):\n",
        "    return  x*np.sqrt(x**2+9)\n",
        "\n",
        "n = 20  # numero de rectángulos\n",
        "suma = 0\n",
        "a = -1\n",
        "b = 1\n",
        "dx = (b - a) / n\n",
        "\n",
        "# sumar las áreas\n",
        "for i in range(n):\n",
        "    altura = f(a)\n",
        "    area = dx * altura\n",
        "    suma = suma + area\n",
        "    a = a + dx\n",
        "\n",
        "print('El área es: ', suma)"
      ],
      "metadata": {
        "colab": {
          "base_uri": "https://localhost:8080/"
        },
        "id": "AVTCNS6GoVuQ",
        "outputId": "0ace7229-e8ac-4700-ea8d-6e739b1f9360"
      },
      "execution_count": null,
      "outputs": [
        {
          "output_type": "stream",
          "name": "stdout",
          "text": [
            "El área es:  -0.3162277660168386\n"
          ]
        }
      ]
    },
    {
      "cell_type": "markdown",
      "source": [
        "metodo de trapecio"
      ],
      "metadata": {
        "id": "Qc9tJ403qXHo"
      }
    },
    {
      "cell_type": "code",
      "source": [
        "x = np.linspace(-1,1,21)\n",
        "y =  x*np.sqrt(x**2+9)\n",
        "y = y[0:-1]\n",
        "dx = x[1] - x[0]                        # Ancho de cada rectángulo\n",
        "fArea = np.sum(y*dx)                    # Rectángulo ancho * alto, luego suma\n",
        "print(\"Integral area:\",fArea)"
      ],
      "metadata": {
        "colab": {
          "base_uri": "https://localhost:8080/"
        },
        "id": "umAbMJ3IqaJQ",
        "outputId": "ed3b92e0-df66-43b7-8f4b-4871a8af81a5"
      },
      "execution_count": null,
      "outputs": [
        {
          "output_type": "stream",
          "name": "stdout",
          "text": [
            "Integral area: -0.31622776601683744\n"
          ]
        }
      ]
    },
    {
      "cell_type": "markdown",
      "source": [
        "Error"
      ],
      "metadata": {
        "id": "87xD3Etlqpho"
      }
    },
    {
      "cell_type": "markdown",
      "source": [
        "###2da.Pregunta"
      ],
      "metadata": {
        "id": "HKeTTfY6q2NQ"
      }
    },
    {
      "cell_type": "code",
      "source": [
        "#MONTECARLO\n",
        "N = 8682\n",
        "#limite inferior\n",
        "a = 1\n",
        "#limite superior\n",
        "b = np.sqrt(3)\n",
        "x = np.random.uniform(a, b, N)\n",
        "y = 1/(1+x**2)\n",
        "sumA = np.sum\n",
        "farea = ((b -a)/ N)*sumA\n",
        "print(\"la integral es:\", farea)"
      ],
      "metadata": {
        "colab": {
          "base_uri": "https://localhost:8080/",
          "height": 219
        },
        "id": "3NMut5RErk8Y",
        "outputId": "33d41202-89a1-42c4-abe6-8d52c42790b6"
      },
      "execution_count": 22,
      "outputs": [
        {
          "output_type": "error",
          "ename": "TypeError",
          "evalue": "ignored",
          "traceback": [
            "\u001b[0;31m---------------------------------------------------------------------------\u001b[0m",
            "\u001b[0;31mTypeError\u001b[0m                                 Traceback (most recent call last)",
            "\u001b[0;32m<ipython-input-22-9d2efcd6b051>\u001b[0m in \u001b[0;36m<module>\u001b[0;34m\u001b[0m\n\u001b[1;32m      8\u001b[0m \u001b[0my\u001b[0m \u001b[0;34m=\u001b[0m \u001b[0;36m1\u001b[0m\u001b[0;34m/\u001b[0m\u001b[0;34m(\u001b[0m\u001b[0;36m1\u001b[0m\u001b[0;34m+\u001b[0m\u001b[0mx\u001b[0m\u001b[0;34m**\u001b[0m\u001b[0;36m2\u001b[0m\u001b[0;34m)\u001b[0m\u001b[0;34m\u001b[0m\u001b[0;34m\u001b[0m\u001b[0m\n\u001b[1;32m      9\u001b[0m \u001b[0msumA\u001b[0m \u001b[0;34m=\u001b[0m \u001b[0mnp\u001b[0m\u001b[0;34m.\u001b[0m\u001b[0msum\u001b[0m\u001b[0;34m\u001b[0m\u001b[0;34m\u001b[0m\u001b[0m\n\u001b[0;32m---> 10\u001b[0;31m \u001b[0mfarea\u001b[0m \u001b[0;34m=\u001b[0m \u001b[0;34m(\u001b[0m\u001b[0;34m(\u001b[0m\u001b[0mb\u001b[0m \u001b[0;34m-\u001b[0m\u001b[0ma\u001b[0m\u001b[0;34m)\u001b[0m\u001b[0;34m/\u001b[0m \u001b[0mN\u001b[0m\u001b[0;34m)\u001b[0m\u001b[0;34m*\u001b[0m\u001b[0msumA\u001b[0m\u001b[0;34m\u001b[0m\u001b[0;34m\u001b[0m\u001b[0m\n\u001b[0m\u001b[1;32m     11\u001b[0m \u001b[0mprint\u001b[0m\u001b[0;34m(\u001b[0m\u001b[0;34m\"la integral es:\"\u001b[0m\u001b[0;34m,\u001b[0m \u001b[0mfarea\u001b[0m\u001b[0;34m)\u001b[0m\u001b[0;34m\u001b[0m\u001b[0;34m\u001b[0m\u001b[0m\n",
            "\u001b[0;31mTypeError\u001b[0m: unsupported operand type(s) for *: 'float' and 'function'"
          ]
        }
      ]
    },
    {
      "cell_type": "markdown",
      "source": [
        "3er pregunta"
      ],
      "metadata": {
        "id": "BPqGDlVlwuqz"
      }
    },
    {
      "cell_type": "code",
      "source": [
        "from numpy import zeros, diag, diagflat, dot, array"
      ],
      "metadata": {
        "id": "Kn1dgC5yws_g"
      },
      "execution_count": 24,
      "outputs": []
    },
    {
      "cell_type": "code",
      "source": [
        "A = array([[1, -.1, -.3], [3, -1, 1], [.2, .5, -2]])\n",
        "b = array([20.2, -18.9, -56.4])\n",
        "def jacobi(A, b, N=8682, x=None):\n",
        "  if x is None:\n",
        "    x = zeros(len(A[0]))\n",
        "  D = diag(A)\n",
        "  R = A - diagflat(D)\n",
        "  for i in range(N):\n",
        "    x = (b - dot(R, x)) / D\n",
        "  return x \n",
        "A = array([[25, -.9, -.3], [3.7, -7.3, -.1], [.7, .1, -8.2]])   # ordenada con dominantes\n",
        "b = array([20.2, -18.9, -56.4])                                 \n",
        "\n",
        "sol = jacobi(A,b,N=8682)\n",
        "print(sol)"
      ],
      "metadata": {
        "colab": {
          "base_uri": "https://localhost:8080/"
        },
        "id": "-60ZYMxOw04K",
        "outputId": "78f57f5e-9023-4f33-e9ed-77b1a335f648"
      },
      "execution_count": 25,
      "outputs": [
        {
          "output_type": "stream",
          "name": "stdout",
          "text": [
            "[1. 3. 7.]\n"
          ]
        }
      ]
    }
  ]
}