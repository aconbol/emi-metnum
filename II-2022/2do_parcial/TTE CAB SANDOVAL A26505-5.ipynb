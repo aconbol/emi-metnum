{
  "nbformat": 4,
  "nbformat_minor": 0,
  "metadata": {
    "colab": {
      "provenance": []
    },
    "kernelspec": {
      "name": "python3",
      "display_name": "Python 3"
    },
    "language_info": {
      "name": "python"
    }
  },
  "cells": [
    {
      "cell_type": "code",
      "execution_count": 52,
      "metadata": {
        "id": "YfzmgedXJB4Y"
      },
      "outputs": [],
      "source": [
        "import numpy as np\n",
        "import matplotlib.pyplot as plt"
      ]
    },
    {
      "cell_type": "code",
      "source": [
        "### PREGUNTA 1 \n",
        "plt.axvline(0, color='r')   # Eje de las ordenadas\n",
        "plt.axhline(0, color='r')   # Eje de las abscisas\n",
        "\n",
        "x = np.linspace(-1.1, 1.1, 100)\n",
        "y = np.sqrt(x**2+9)*x\n",
        "plt.plot(x, y)\n",
        "\n",
        "plt.grid()\n",
        "plt.show()"
      ],
      "metadata": {
        "colab": {
          "base_uri": "https://localhost:8080/",
          "height": 265
        },
        "id": "dpotBk4BJE2d",
        "outputId": "e248dca7-33df-4f4d-8253-7e344f32e9db"
      },
      "execution_count": 53,
      "outputs": [
        {
          "output_type": "display_data",
          "data": {
            "text/plain": [
              "<Figure size 432x288 with 1 Axes>"
            ],
            "image/png": "[encoded data removed]"
          },
          "metadata": {
            "needs_background": "light"
          }
        }
      ]
    },
    {
      "cell_type": "code",
      "source": [
        "### A) METODO DE RECTANGULO ###\n",
        "x = np.linspace(0,1,10)\n",
        "y = np.sqrt(x**2+9)*x\n",
        "y1 = y[0:-1]\n",
        "### ANCHO DE RECTANGULO ###\n",
        "dx = x[1] - x[0]    \n",
        "### SUMA DEL ANCHO POR ALTO ###                    \n",
        "area = dx*np.sum(y1)                    # Rectángulo ancho * alto, luego suma\n",
        "print(\"la integral de la funcion es:\",2*area)\n",
        "## NOTA.- AL SER UNA FUNCION SIMETRICA, SE DETERMINO EL ARE DE 0 A 1 Y LUEGO SE MULTIPLICO POR 2###"
      ],
      "metadata": {
        "colab": {
          "base_uri": "https://localhost:8080/"
        },
        "id": "AhtJdoGvJaZ4",
        "outputId": "fa28046e-01f3-47c8-d8a7-7172d81b52a3"
      },
      "execution_count": 54,
      "outputs": [
        {
          "output_type": "stream",
          "name": "stdout",
          "text": [
            "la integral de la funcion es: 2.7314715604871127\n"
          ]
        }
      ]
    },
    {
      "cell_type": "code",
      "source": [
        "### B) METODO DEL TRAPECIO ###\n",
        "x = np.linspace(0,1,10)\n",
        "y = np.sqrt(x**2+9)*x\n",
        "y1 = y[1:-1]\n",
        "# Ancho de cada trapecio #\n",
        "dx = x[1] - x[0] \n",
        "fsum1 = np.sum(2*y1)\n",
        "fsum = fsum1 + y[0] + y[-1]\n",
        "# suma de areas del trapecio #\n",
        "area = (dx/2)*fsum    \n",
        "print(\"la integral de la funcion es:\", 2*area)\n",
        "## NOTA.- AL SER UNA FUNCION SIMETRICA, SE DETERMINO EL ARE DE 0 A 1 Y LUEGO SE MULTIPLICO POR 2###"
      ],
      "metadata": {
        "colab": {
          "base_uri": "https://localhost:8080/"
        },
        "id": "0brsX2dMiSIP",
        "outputId": "138f52c5-6d12-4167-be22-a5d58613b338"
      },
      "execution_count": 55,
      "outputs": [
        {
          "output_type": "stream",
          "name": "stdout",
          "text": [
            "la integral de la funcion es: 3.082835744950266\n"
          ]
        }
      ]
    },
    {
      "cell_type": "code",
      "source": [
        "### C) DETERMINAR EL ERROR ###\n",
        "import numpy as np\n",
        "import matplotlib.pyplot as plt\n",
        "import scipy.integrate as integrate\n",
        "import math\n",
        "integral = integrate.quad(lambda x: np.sqrt(x**2+9)*x, -1, 1)\n",
        "print(\"El área es {0}, con un error de {1}\".format(integral[-1], integral[1]))"
      ],
      "metadata": {
        "colab": {
          "base_uri": "https://localhost:8080/"
        },
        "id": "E0f43BEakEK3",
        "outputId": "0da748ca-3cc7-4bdc-8e7e-9a8e3115fb39"
      },
      "execution_count": 56,
      "outputs": [
        {
          "output_type": "stream",
          "name": "stdout",
          "text": [
            "El área es 3.409126508521985e-14, con un error de 3.409126508521985e-14\n"
          ]
        }
      ]
    },
    {
      "cell_type": "code",
      "source": [
        "#### PREGUNTA 2 METODO DE MONTECARLO  ####\n",
        "import numpy as np\n",
        "import matplotlib.pyplot as plt"
      ],
      "metadata": {
        "id": "LdpesRASkEdt"
      },
      "execution_count": 57,
      "outputs": []
    },
    {
      "cell_type": "code",
      "source": [
        "plt.axvline(0, color='r')   \n",
        "plt.axhline(0, color='r')   \n",
        "\n",
        "x = np.linspace(1, 3**(1/2), 100)\n",
        "y = 1/(1+ x**2)\n",
        "plt.plot(x, y)\n",
        "\n",
        "plt.grid()\n",
        "plt.show()"
      ],
      "metadata": {
        "colab": {
          "base_uri": "https://localhost:8080/",
          "height": 265
        },
        "id": "U9aSz8glk0y4",
        "outputId": "155487af-e588-42c7-aec4-11c96e36bb74"
      },
      "execution_count": 62,
      "outputs": [
        {
          "output_type": "display_data",
          "data": {
            "text/plain": [
              "<Figure size 432x288 with 1 Axes>"
            ],
            "image/png": "[encoded data removed]"
          },
          "metadata": {
            "needs_background": "light"
          }
        }
      ]
    },
    {
      "cell_type": "code",
      "source": [
        "### metodo de MONTECARLO ###\n",
        "N = 100000\n",
        "# limite inferior\n",
        "a = 1\n",
        "# limite superior\n",
        "b = 3**(1/2)\n",
        "x = np.random.uniform(a, b, N)\n",
        "\n",
        "y = 1/(1+ x**2)\n",
        "\n",
        "sum = np.sum(y)\n",
        "area = ((b - a) / N) * sum\n",
        "print(\"LA INTEGRAL DE LA FUNSION ES: \", area)"
      ],
      "metadata": {
        "colab": {
          "base_uri": "https://localhost:8080/"
        },
        "id": "N-wOzEd2mequ",
        "outputId": "c2fa45d7-09d8-42fb-edde-85b716634648"
      },
      "execution_count": 67,
      "outputs": [
        {
          "output_type": "stream",
          "name": "stdout",
          "text": [
            "LA INTEGRAL DE LA FUNSION ES:  0.2621656578492822\n"
          ]
        }
      ]
    },
    {
      "cell_type": "code",
      "source": [
        "### PREGUNTA 3 JACOBI###\n",
        "from numpy import array, zeros, diag, diagflat, dot"
      ],
      "metadata": {
        "id": "3TXWQFaliSp9"
      },
      "execution_count": 59,
      "outputs": []
    },
    {
      "cell_type": "code",
      "source": [
        "def jacobi(A,b,N=25,x=None):\n",
        "\n",
        "    if x is None:\n",
        "        x = zeros(len(A[0]))\n",
        "\n",
        " ##------MATRIZ DIAGONAL DE A-----##\n",
        "    D = diag(A)\n",
        "    R = A - diagflat(D)\n",
        "\n",
        "##-----INTERACCIONES N veces-----##\n",
        "    for i in range(N):\n",
        "        x = (b - dot(R,x)) / D\n",
        "    return x"
      ],
      "metadata": {
        "id": "lKhA9-fjiYLF"
      },
      "execution_count": 60,
      "outputs": []
    },
    {
      "cell_type": "code",
      "source": [
        "###---diagonalizar la matriz A ---###\n",
        "A = array([[3, -1, 1], [2, 5, -2], [1, -1, -3]])\n",
        "b = array([4, -6, 6])\n",
        "\n",
        "sol = jacobi(A,b,N=3)\n",
        "print(\"MATRIZ A:\")\n",
        "print(A)\n",
        "print(\"MATRIZ B:\")\n",
        "print(b)\n",
        "print(\"los valores de X son:\")\n",
        "print(sol)"
      ],
      "metadata": {
        "colab": {
          "base_uri": "https://localhost:8080/"
        },
        "id": "Jp0MiHkwibEl",
        "outputId": "695c63f4-87e2-4bf8-fc1a-e9cf9fac165d"
      },
      "execution_count": null,
      "outputs": [
        {
          "output_type": "stream",
          "name": "stdout",
          "text": [
            "MATRIZ A:\n",
            "[[ 3 -1  1]\n",
            " [ 2  5 -2]\n",
            " [ 1 -1 -3]]\n",
            "MATRIZ B:\n",
            "[ 4 -6  6]\n",
            "los valores de X son:\n",
            "[ 0.87407407 -2.30222222 -0.62222222]\n"
          ]
        }
      ]
    }
  ]
}