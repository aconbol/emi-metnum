{
  "nbformat": 4,
  "nbformat_minor": 0,
  "metadata": {
    "colab": {
      "provenance": []
    },
    "kernelspec": {
      "name": "python3",
      "display_name": "Python 3"
    },
    "language_info": {
      "name": "python"
    }
  },
  "cells": [
    {
      "cell_type": "markdown",
      "source": [
        "### EJERCICIO Nº1"
      ],
      "metadata": {
        "id": "imc8vYzrfRVK"
      }
    },
    {
      "cell_type": "code",
      "source": [
        "import matplotlib.pyplot as plt\n",
        "import numpy as np\n"
      ],
      "metadata": {
        "id": "xxytdRGOfaGB"
      },
      "execution_count": 1,
      "outputs": []
    },
    {
      "cell_type": "code",
      "source": [
        "plt.axvline(0, color=\"red\")\n",
        "plt.axhline(0, color=\"red\")\n",
        "\n",
        "x = np.linspace(-3.1, 4.1, 100)\n",
        "y = x*((x**2 + 9)**1/2)\n",
        "\n",
        "plt.plot(x, y)\n",
        "plt.grid()\n",
        "plt.show()"
      ],
      "metadata": {
        "colab": {
          "base_uri": "https://localhost:8080/",
          "height": 265
        },
        "id": "bENXXXv3fwq5",
        "outputId": "0e38f9fe-5720-459a-d94a-0ed394000d1c"
      },
      "execution_count": 6,
      "outputs": [
        {
          "output_type": "display_data",
          "data": {
            "text/plain": [
              "<Figure size 432x288 with 1 Axes>"
            ],
            "image/png": "[encoded data removed]"
          },
          "metadata": {
            "needs_background": "light"
          }
        }
      ]
    },
    {
      "cell_type": "markdown",
      "source": [
        "a) metodo de rectangulos"
      ],
      "metadata": {
        "id": "7OHeBhUkgUhJ"
      }
    },
    {
      "cell_type": "code",
      "source": [
        "# n=20\n",
        "x = np.linspace(-1, 1, 20)\n",
        "y = x*((x**2 + 9)**1/2)\n",
        "y1 = y[0 : -1]\n",
        "dx = x[1] - x[0]\n",
        "farea = dx*np.sum(y1)\n",
        "print(\"La integral es:\", farea)"
      ],
      "metadata": {
        "colab": {
          "base_uri": "https://localhost:8080/"
        },
        "id": "YQSMuYkhgcix",
        "outputId": "97e4fa0e-298a-48b5-8e10-825708343311"
      },
      "execution_count": 10,
      "outputs": [
        {
          "output_type": "stream",
          "name": "stdout",
          "text": [
            "La integral es: -0.5263157894736848\n"
          ]
        }
      ]
    },
    {
      "cell_type": "markdown",
      "source": [
        "b) Metodo de trapecios"
      ],
      "metadata": {
        "id": "9ocCQEV3hgBg"
      }
    },
    {
      "cell_type": "code",
      "source": [
        "#n=20\n",
        "x = np.linspace(-1, 1, 20)\n",
        "y = x*((x**2 + 9)**1/2)\n",
        "y1 = y[1:-1]\n",
        "dx = x[1] - x[0]\n",
        "fsum1 = np.sum(2*y1)\n",
        "fsumagral = fsum1 + y[0] + y[-1]\n",
        "farea = (dx/2)*fsumagral\n",
        "print(\"la integral es:\",farea)"
      ],
      "metadata": {
        "colab": {
          "base_uri": "https://localhost:8080/"
        },
        "id": "FgGvcJOGhn-_",
        "outputId": "cd11256b-6087-4baa-ff5e-6480b9e9853d"
      },
      "execution_count": 13,
      "outputs": [
        {
          "output_type": "stream",
          "name": "stdout",
          "text": [
            "la integral es: -4.674623261579606e-16\n"
          ]
        }
      ]
    },
    {
      "cell_type": "markdown",
      "source": [
        "### Ejercicio Nº2"
      ],
      "metadata": {
        "id": "qTZQgyIqiNJG"
      }
    },
    {
      "cell_type": "code",
      "source": [
        "plt.axvline(0, color=\"red\")\n",
        "plt.axhline(0, color=\"red\")\n",
        "\n",
        "x = np.linspace(-0.1, 15, 1000)\n",
        "y = (1/(1+x**2))\n",
        "\n",
        "plt.plot(x, y)\n",
        "plt.grid()\n",
        "plt.show()"
      ],
      "metadata": {
        "colab": {
          "base_uri": "https://localhost:8080/",
          "height": 265
        },
        "id": "lBo4wIW1iQBd",
        "outputId": "b4f2bd9e-920f-4395-ba4f-7dcfbfd14621"
      },
      "execution_count": 15,
      "outputs": [
        {
          "output_type": "display_data",
          "data": {
            "text/plain": [
              "<Figure size 432x288 with 1 Axes>"
            ],
            "image/png": "[encoded data removed]"
          },
          "metadata": {
            "needs_background": "light"
          }
        }
      ]
    },
    {
      "cell_type": "code",
      "source": [
        "#codigo=S8496-4\n",
        "#n=84964\n",
        "N = 84964\n",
        "a = 1\n",
        "b = 3**1/2\n",
        "x = np.random.uniform(a, b, N)\n",
        "y = (1/(1+x**2))\n",
        "suma = np.sum(y)\n",
        "integral = ((b -a) / N) * suma\n",
        "print( \"La integral es:\", integral)"
      ],
      "metadata": {
        "colab": {
          "base_uri": "https://localhost:8080/"
        },
        "id": "iWZvGcTbiz2y",
        "outputId": "6e035d88-9795-4024-edd9-fa566e2fb0c6"
      },
      "execution_count": 16,
      "outputs": [
        {
          "output_type": "stream",
          "name": "stdout",
          "text": [
            "La integral es: 0.19748933310032923\n"
          ]
        }
      ]
    },
    {
      "cell_type": "markdown",
      "source": [
        "### Ejericio Nº3"
      ],
      "metadata": {
        "id": "zPIr72lKkQna"
      }
    },
    {
      "cell_type": "code",
      "source": [
        "from numpy import zeros, diag, diagflat, dot, array"
      ],
      "metadata": {
        "id": "YFa_7qWAkUCI"
      },
      "execution_count": 18,
      "outputs": []
    },
    {
      "cell_type": "code",
      "source": [
        "def jacobi(A, b, N=130, x=None):\n",
        "  if x is None:\n",
        "    x = zeros(len(A[0]))\n",
        "  D = diag(A)\n",
        "  R = A - diagflat(D)\n",
        "  for i in range(N):\n",
        "    x = (b - dot(R, x)) / D\n",
        "  return x "
      ],
      "metadata": {
        "id": "ppOr9kLfkZ-R"
      },
      "execution_count": 38,
      "outputs": []
    },
    {
      "cell_type": "code",
      "source": [
        "\n",
        "#Tolerancia=0.001\n",
        "A = array([[3.0, -1.0, 1.0], [2.0, 5.0, -2.0], [1.0, -1.0, -3.0]])   # ordenada con dominantes\n",
        "b = array([4.0, -6.0, 6.0])                                \n",
        "sol1 = jacobi(A,b,N=2)\n",
        "print(sol1)"
      ],
      "metadata": {
        "colab": {
          "base_uri": "https://localhost:8080/"
        },
        "id": "aJKEuQRLkhrB",
        "outputId": "4a6cff32-6786-4cab-83db-5edba365fa57"
      },
      "execution_count": 39,
      "outputs": [
        {
          "output_type": "stream",
          "name": "stdout",
          "text": [
            "[ 1.6        -2.53333333 -1.15555556]\n"
          ]
        }
      ]
    },
    {
      "cell_type": "code",
      "source": [
        "#Tolerancia=0.001\n",
        "A = array([[3.0, -1.0, 1.0], [2.0, 5.0, -2.0], [1.0, -1.0, -3.0]])   # ordenada con dominantes\n",
        "b = array([4.0, -6.0, 6.0])                                \n",
        "sol2 = jacobi(A,b,N=3)\n",
        "print(sol2)"
      ],
      "metadata": {
        "colab": {
          "base_uri": "https://localhost:8080/"
        },
        "id": "twDF9rsXmXXS",
        "outputId": "3ad331e0-6985-48ac-dc1d-2031718b62d0"
      },
      "execution_count": 40,
      "outputs": [
        {
          "output_type": "stream",
          "name": "stdout",
          "text": [
            "[ 0.87407407 -2.30222222 -0.62222222]\n"
          ]
        }
      ]
    },
    {
      "cell_type": "code",
      "source": [
        "#Tolerancia=0.001\n",
        "A = array([[3.0, -1.0, 1.0], [2.0, 5.0, -2.0], [1.0, -1.0, -3.0]])   # ordenada con dominantes\n",
        "b = array([4.0, -6.0, 6.0])                                \n",
        "sol3 = jacobi(A,b,N=4)\n",
        "print(sol3)"
      ],
      "metadata": {
        "colab": {
          "base_uri": "https://localhost:8080/"
        },
        "id": "SBPiKDb_mepK",
        "outputId": "e6ae89b9-2dc3-41f3-bc45-a4fa2467efc3"
      },
      "execution_count": 41,
      "outputs": [
        {
          "output_type": "stream",
          "name": "stdout",
          "text": [
            "[ 0.77333333 -1.79851852 -0.94123457]\n"
          ]
        }
      ]
    },
    {
      "cell_type": "code",
      "source": [
        "#Tolerancia=0.001\n",
        "A = array([[3.0, -1.0, 1.0], [2.0, 5.0, -2.0], [1.0, -1.0, -3.0]])   # ordenada con dominantes\n",
        "b = array([4.0, -6.0, 6.0])                                \n",
        "sol4 = jacobi(A,b,N=5)\n",
        "print(sol4)"
      ],
      "metadata": {
        "colab": {
          "base_uri": "https://localhost:8080/"
        },
        "id": "bGdO9XmMmkmy",
        "outputId": "8bfa3b54-7474-44cf-857b-24d5bef35bcb"
      },
      "execution_count": 42,
      "outputs": [
        {
          "output_type": "stream",
          "name": "stdout",
          "text": [
            "[ 1.04757202 -1.88582716 -1.14271605]\n"
          ]
        }
      ]
    },
    {
      "cell_type": "code",
      "source": [
        "div = sol3/sol4\n",
        "Error = 1 - div\n",
        "print(Error)"
      ],
      "metadata": {
        "colab": {
          "base_uri": "https://localhost:8080/"
        },
        "id": "pQIKjQATmtZp",
        "outputId": "f897bea3-4c73-4aef-8a74-f473335bd43c"
      },
      "execution_count": 43,
      "outputs": [
        {
          "output_type": "stream",
          "name": "stdout",
          "text": [
            "[0.26178504 0.04629727 0.17631806]\n"
          ]
        }
      ]
    },
    {
      "cell_type": "code",
      "source": [
        "# aun ningun valor va de acorde a la tolerancia"
      ],
      "metadata": {
        "id": "ITmb3UAWnn5p"
      },
      "execution_count": null,
      "outputs": []
    },
    {
      "cell_type": "code",
      "source": [
        "#Tolerancia=0.001\n",
        "A = array([[3.0, -1.0, 1.0], [2.0, 5.0, -2.0], [1.0, -1.0, -3.0]])   # ordenada con dominantes\n",
        "b = array([4.0, -6.0, 6.0])                                \n",
        "sol29 = jacobi(A,b,N=29)\n",
        "print(sol29)"
      ],
      "metadata": {
        "colab": {
          "base_uri": "https://localhost:8080/"
        },
        "id": "ccKZd7Q8nsIJ",
        "outputId": "09a247ef-bcfb-43db-ce16-52fe55ad4b12"
      },
      "execution_count": 45,
      "outputs": [
        {
          "output_type": "stream",
          "name": "stdout",
          "text": [
            "[ 1.0000004  -1.99999904 -1.00000121]\n"
          ]
        }
      ]
    },
    {
      "cell_type": "code",
      "source": [
        "#Tolerancia=0.001\n",
        "A = array([[3.0, -1.0, 1.0], [2.0, 5.0, -2.0], [1.0, -1.0, -3.0]])   # ordenada con dominantes\n",
        "b = array([4.0, -6.0, 6.0])                                \n",
        "sol30 = jacobi(A,b,N=30)\n",
        "print(sol30)"
      ],
      "metadata": {
        "colab": {
          "base_uri": "https://localhost:8080/"
        },
        "id": "zkIRDTYgnvqZ",
        "outputId": "8c88588c-6664-4821-e48c-66c2ee96576c"
      },
      "execution_count": 44,
      "outputs": [
        {
          "output_type": "stream",
          "name": "stdout",
          "text": [
            "[ 1.00000072 -2.00000064 -1.00000019]\n"
          ]
        }
      ]
    },
    {
      "cell_type": "code",
      "source": [
        "Divfinal = sol29/sol30\n",
        "Errorfinal = 1 - Divfinal\n",
        "print(Errorfinal)"
      ],
      "metadata": {
        "colab": {
          "base_uri": "https://localhost:8080/"
        },
        "id": "3Jf6f35Bn95T",
        "outputId": "b0899139-f10d-4229-970d-37d16dfaee30"
      },
      "execution_count": 48,
      "outputs": [
        {
          "output_type": "stream",
          "name": "stdout",
          "text": [
            "[ 3.21571924e-07  8.03930134e-07 -1.01831164e-06]\n"
          ]
        }
      ]
    },
    {
      "cell_type": "code",
      "source": [
        "#Como los errores de cada iteracion son menores a la tolerancia indicada, entonces los valores\n",
        "#son los siguientes\n",
        "print(sol30) \n",
        "print(\"x es:\", sol30[0])\n",
        "print(\"y es:\", sol30[1])\n",
        "print(\"z es:\", sol30[2])"
      ],
      "metadata": {
        "colab": {
          "base_uri": "https://localhost:8080/"
        },
        "id": "lvpYle37oevJ",
        "outputId": "98a2096c-796e-4ffd-a314-dab71290f690"
      },
      "execution_count": 51,
      "outputs": [
        {
          "output_type": "stream",
          "name": "stdout",
          "text": [
            "[ 1.00000072 -2.00000064 -1.00000019]\n",
            "x es: 1.0000007235373534\n",
            "y es: -2.000000643144314\n",
            "z es: -1.0000001875837583\n"
          ]
        }
      ]
    }
  ]
}