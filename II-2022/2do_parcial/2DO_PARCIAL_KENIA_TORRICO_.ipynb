{
  "nbformat": 4,
  "nbformat_minor": 0,
  "metadata": {
    "colab": {
      "provenance": []
    },
    "kernelspec": {
      "name": "python3",
      "display_name": "Python 3"
    },
    "language_info": {
      "name": "python"
    }
  },
  "cells": [
    {
      "cell_type": "markdown",
      "source": [
        "###PREGUNTA 1\n",
        "---"
      ],
      "metadata": {
        "id": "RC2Nh9bkfvng"
      }
    },
    {
      "cell_type": "code",
      "source": [
        "import numpy as np\n",
        "import matplotlib.pyplot as plt"
      ],
      "metadata": {
        "id": "qQTMbjU_f_-G"
      },
      "execution_count": 1,
      "outputs": []
    },
    {
      "cell_type": "code",
      "source": [
        "plt.axvline(0, color='r')   # Eje de las ordenadas\n",
        "plt.axhline(0, color='r')   # Eje de las abscisas\n",
        "\n",
        "x = np.linspace(-5., 10., 100)                                          \n",
        "y = x*np.sqrt(x**2 + 9)                    \n",
        "plt.plot(x, y)\n",
        "\n",
        "plt.grid()\n",
        "plt.show()"
      ],
      "metadata": {
        "colab": {
          "base_uri": "https://localhost:8080/",
          "height": 265
        },
        "id": "Gu5hohLtgICY",
        "outputId": "dd77620f-d03e-4946-c533-305209afa32f"
      },
      "execution_count": 7,
      "outputs": [
        {
          "output_type": "display_data",
          "data": {
            "text/plain": [
              "<Figure size 432x288 with 1 Axes>"
            ],
            "image/png": "[encoded data removed]"
          },
          "metadata": {
            "needs_background": "light"
          }
        }
      ]
    },
    {
      "cell_type": "markdown",
      "source": [
        "**A) RECTANGULO**"
      ],
      "metadata": {
        "id": "fPEoo9f5hEus"
      }
    },
    {
      "cell_type": "code",
      "source": [
        "x = np.linspace(-1 ,0. ,20)    \n",
        "y = x*np.sqrt(x**2 + 9)                  \n",
        "y1 = y[0:-1]\n",
        "dx = x[1] - x[0]                                                             # Ancho de cada rectángulo\n",
        "fArea1 = dx*np.sum(y1)*(-1)                                                        # Rectángulo ancho * alto, luego suma\n",
        "print(\"Integral area:\",fArea1)"
      ],
      "metadata": {
        "colab": {
          "base_uri": "https://localhost:8080/"
        },
        "id": "TGj7SbXlhBxt",
        "outputId": "81e2fd86-8189-4f79-a1f7-bd0f752db10f"
      },
      "execution_count": 43,
      "outputs": [
        {
          "output_type": "stream",
          "name": "stdout",
          "text": [
            "Integral area: 1.6242538278414327\n"
          ]
        }
      ]
    },
    {
      "cell_type": "code",
      "source": [
        "x = np.linspace(0. ,1. ,20)    \n",
        "y = x*np.sqrt(x**2 + 9)                  \n",
        "y1 = y[0:-1]\n",
        "dx = x[1] - x[0]                                                             # Ancho de cada rectángulo\n",
        "fArea2 = dx*np.sum(y1)                                                        # Rectángulo ancho * alto, luego suma\n",
        "print(\"Integral area:\",fArea2)"
      ],
      "metadata": {
        "colab": {
          "base_uri": "https://localhost:8080/"
        },
        "id": "V4wCQcfqp9z6",
        "outputId": "26c91051-8483-4fce-9f6f-6aeee5a7fab3"
      },
      "execution_count": 44,
      "outputs": [
        {
          "output_type": "stream",
          "name": "stdout",
          "text": [
            "Integral area: 1.4578181615167827\n"
          ]
        }
      ]
    },
    {
      "cell_type": "code",
      "source": [
        "print(\"EL AREA ES:\",fArea1 + fArea2)"
      ],
      "metadata": {
        "colab": {
          "base_uri": "https://localhost:8080/"
        },
        "id": "6O5Fwfqpqk8-",
        "outputId": "011c50df-7dcd-437a-e3ec-f31f4e08f6d4"
      },
      "execution_count": 49,
      "outputs": [
        {
          "output_type": "stream",
          "name": "stdout",
          "text": [
            "EL AREA ES: 3.082071989358216\n"
          ]
        }
      ]
    },
    {
      "cell_type": "markdown",
      "source": [
        "**B) TRAPECIO**"
      ],
      "metadata": {
        "id": "bI6VCYWAh__O"
      }
    },
    {
      "cell_type": "code",
      "source": [
        "x = np.linspace(-1. ,0. ,20)      \n",
        "y = x*np.sqrt(x**2 + 9)                     \n",
        "y1 = y[1:-1]\n",
        "dx = x[1] - x[0]        # Ancho de cada trapecio      \n",
        "fsum1 = np.sum(2*y1)\n",
        "fsum = fsum1 + y[0] + y[-1]\n",
        "fArea1 = (dx/2)*fsum*(-1)    # suma de areas del trapecio\n",
        "print(fArea1)"
      ],
      "metadata": {
        "colab": {
          "base_uri": "https://localhost:8080/"
        },
        "id": "e5MMmLyiiCsT",
        "outputId": "992d03b6-2a60-400a-feea-edb956b8100c"
      },
      "execution_count": 47,
      "outputs": [
        {
          "output_type": "stream",
          "name": "stdout",
          "text": [
            "1.541035994679107\n"
          ]
        }
      ]
    },
    {
      "cell_type": "code",
      "source": [
        "x = np.linspace(0. ,1. ,20)      \n",
        "y = x*np.sqrt(x**2 + 9)                     \n",
        "y1 = y[1:-1]\n",
        "dx = x[1] - x[0]        # Ancho de cada trapecio      \n",
        "fsum1 = np.sum(2*y1)\n",
        "fsum = fsum1 + y[0] + y[-1]\n",
        "fArea2 = (dx/2)*fsum     # suma de areas del trapecio\n",
        "print(fArea2)"
      ],
      "metadata": {
        "colab": {
          "base_uri": "https://localhost:8080/"
        },
        "id": "v8I4HFJHqMKC",
        "outputId": "d3184c99-75b1-4c93-c365-c4117d28d99b"
      },
      "execution_count": 48,
      "outputs": [
        {
          "output_type": "stream",
          "name": "stdout",
          "text": [
            "1.5410359946791086\n"
          ]
        }
      ]
    },
    {
      "cell_type": "code",
      "source": [
        "print(\"EL AREA ES:\",fArea1 + fArea2)"
      ],
      "metadata": {
        "colab": {
          "base_uri": "https://localhost:8080/"
        },
        "id": "fAo_6nagrYpX",
        "outputId": "6f232e27-cf3f-41cd-a9c7-cd4d4add637d"
      },
      "execution_count": 50,
      "outputs": [
        {
          "output_type": "stream",
          "name": "stdout",
          "text": [
            "EL AREA ES: 3.082071989358216\n"
          ]
        }
      ]
    },
    {
      "cell_type": "markdown",
      "source": [
        "**C) DETERMINAR EL ERROR**"
      ],
      "metadata": {
        "id": "Tlt_dBdNjiXK"
      }
    },
    {
      "cell_type": "code",
      "source": [],
      "metadata": {
        "id": "mX2VZ0hkjNoY"
      },
      "execution_count": null,
      "outputs": []
    },
    {
      "cell_type": "markdown",
      "source": [
        "###PREGUNTA 2\n",
        "---"
      ],
      "metadata": {
        "id": "jWWUrNYAjvz2"
      }
    },
    {
      "cell_type": "code",
      "source": [
        "plt.axvline(0, color='r')   # Eje de las ordenadas\n",
        "plt.axhline(0, color='r')   # Eje de las abscisas\n",
        "\n",
        "x = np.linspace(-10., 10., 100)                                           ##EDITAR DEPENDIENDO DE LA GRAFICA\n",
        "y = 1/(1 + x**2)                                              #Para graficas\n",
        "plt.plot(x, y)\n",
        "\n",
        "plt.grid()\n",
        "plt.show()"
      ],
      "metadata": {
        "colab": {
          "base_uri": "https://localhost:8080/",
          "height": 265
        },
        "id": "rePM1CepkdIo",
        "outputId": "08343a64-b1fb-4217-ec94-3a1273a9d691"
      },
      "execution_count": 17,
      "outputs": [
        {
          "output_type": "display_data",
          "data": {
            "text/plain": [
              "<Figure size 432x288 with 1 Axes>"
            ],
            "image/png": "[encoded data removed]"
          },
          "metadata": {
            "needs_background": "light"
          }
        }
      ]
    },
    {
      "cell_type": "markdown",
      "source": [
        "**METODO DE MONTECARLO**"
      ],
      "metadata": {
        "id": "cVuH6mgnj6W3"
      }
    },
    {
      "cell_type": "code",
      "source": [
        "N = 8685\n",
        "# limite inferior\n",
        "a = 1                   \n",
        "# limite superior\n",
        "b = np.sqrt(3)                  \n",
        "x = np.random.uniform(a, b, N)\n",
        "\n",
        "y = 1/(1 + x**2)         \n",
        "\n",
        "sumfx = np.sum(y)\n",
        "farea = ((b - a) / N) * sumfx\n",
        "print(\"El área es: \", farea)"
      ],
      "metadata": {
        "colab": {
          "base_uri": "https://localhost:8080/"
        },
        "id": "kvDiFSL9jy-Y",
        "outputId": "022fdcda-b414-461f-b832-a9f15944f3e7"
      },
      "execution_count": 15,
      "outputs": [
        {
          "output_type": "stream",
          "name": "stdout",
          "text": [
            "El área es:  0.262596405492377\n"
          ]
        }
      ]
    },
    {
      "cell_type": "markdown",
      "source": [
        "###PREGUNTA 3\n",
        "---"
      ],
      "metadata": {
        "id": "KWbS3J_ElX0z"
      }
    },
    {
      "cell_type": "code",
      "source": [
        "from numpy import array, zeros, diag, diagflat, dot"
      ],
      "metadata": {
        "id": "u_1ynolPlbUJ"
      },
      "execution_count": 20,
      "outputs": []
    },
    {
      "cell_type": "code",
      "source": [
        "def jacobi(A,b,N=25,x=None):\n",
        "    \"\"\" AX=B - Jacobi Método Iterativo. \"\"\"\n",
        "    # Crear la conjetura (hipótesis, supuesto) inicial\n",
        "    # Si se necesita\n",
        "    if x is None:\n",
        "        x = zeros(len(A[0]))\n",
        "\n",
        "    # Crear una matriz diagonalizada de A\n",
        "    D = diag(A)\n",
        "    R = A - diagflat(D)\n",
        "\n",
        "    # Iteración por N veces \n",
        "    for i in range(N):\n",
        "        x = (b - dot(R,x)) / D\n",
        "    return x"
      ],
      "metadata": {
        "id": "Gy-DqswWlj1m"
      },
      "execution_count": 23,
      "outputs": []
    },
    {
      "cell_type": "code",
      "source": [
        "A = array([[3., -1., 1.], [2., 5., -2.], [1., -1., -3.]]) \n",
        "b = array([4., -6., 6.])\n",
        "\n",
        "sol = jacobi(A,b,N=20)"
      ],
      "metadata": {
        "id": "eaRs2lX7ls3R"
      },
      "execution_count": 35,
      "outputs": []
    },
    {
      "cell_type": "code",
      "source": [
        "print(\"A:\")\n",
        "print(A)\n",
        "print(\"b:\")\n",
        "print(b)\n",
        "print(\"x:\")\n",
        "print(sol)"
      ],
      "metadata": {
        "colab": {
          "base_uri": "https://localhost:8080/"
        },
        "id": "DiONxBj6mou4",
        "outputId": "04750af3-7bf8-45ed-9e0b-95621f7b5caa"
      },
      "execution_count": 36,
      "outputs": [
        {
          "output_type": "stream",
          "name": "stdout",
          "text": [
            "A:\n",
            "[[ 3. -1.  1.]\n",
            " [ 2.  5. -2.]\n",
            " [ 1. -1. -3.]]\n",
            "b:\n",
            "[ 4. -6.  6.]\n",
            "x:\n",
            "[ 0.99990597 -1.99991642 -0.99997562]\n"
          ]
        }
      ]
    },
    {
      "cell_type": "code",
      "source": [
        "A = array([[3., -1., 1.], [2., 5., -2.], [1., -1., -3.]]) #EDITAR DEP. DE LA DIAGONAL DOMINANTE\n",
        "b = array([4., -6., 6.])\n",
        "\n",
        "sol = jacobi(A,b,N=21)"
      ],
      "metadata": {
        "id": "WHMepVaIoFQP"
      },
      "execution_count": 37,
      "outputs": []
    },
    {
      "cell_type": "code",
      "source": [
        "print(\"A:\")\n",
        "print(A)\n",
        "print(\"b:\")\n",
        "print(b)\n",
        "print(\"x:\")\n",
        "print(sol)"
      ],
      "metadata": {
        "colab": {
          "base_uri": "https://localhost:8080/"
        },
        "id": "Qhr0gvadoRHl",
        "outputId": "9c1c8c7e-802b-4372-8cfc-95abc0a2497d"
      },
      "execution_count": 38,
      "outputs": [
        {
          "output_type": "stream",
          "name": "stdout",
          "text": [
            "A:\n",
            "[[ 3. -1.  1.]\n",
            " [ 2.  5. -2.]\n",
            " [ 1. -1. -3.]]\n",
            "b:\n",
            "[ 4. -6.  6.]\n",
            "x:\n",
            "[ 1.00001974 -1.99995264 -1.00005921]\n"
          ]
        }
      ]
    }
  ]
}