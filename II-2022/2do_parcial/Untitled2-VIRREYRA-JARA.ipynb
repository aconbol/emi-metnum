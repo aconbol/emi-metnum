{
  "nbformat": 4,
  "nbformat_minor": 0,
  "metadata": {
    "colab": {
      "provenance": []
    },
    "kernelspec": {
      "name": "python3",
      "display_name": "Python 3"
    },
    "language_info": {
      "name": "python"
    }
  },
  "cells": [
    {
      "cell_type": "code",
      "execution_count": 28,
      "metadata": {
        "id": "39lWrZeldqCV"
      },
      "outputs": [],
      "source": [
        "import numpy as np\n",
        "import matplotlib.pyplot as plt\n",
        "from numpy import array, zeros, diag, diagflat, dot\n",
        "import scipy.optimize as op\n",
        "import numpy as np\n",
        "import scipy.integrate as integrate\n",
        "import   math"
      ]
    },
    {
      "cell_type": "code",
      "source": [
        "#Graficar\n",
        "plt.axvline(0, color='r')   # Eje de las ordenadas\n",
        "plt.axhline(0, color='r')   # Eje de las abscisas\n",
        "\n",
        "x = np.linspace(-1.1, 1.1, 100)\n",
        "y = x*((x**2+9)**1/2)\n",
        "plt.plot(x, y)\n",
        "plt.grid()\n",
        "plt.show()\n"
      ],
      "metadata": {
        "colab": {
          "base_uri": "https://localhost:8080/",
          "height": 266
        },
        "id": "wkdX-6Oeged8",
        "outputId": "96f2efb3-c98a-45cf-9007-0a039f978b6d"
      },
      "execution_count": 29,
      "outputs": [
        {
          "output_type": "display_data",
          "data": {
            "text/plain": [
              "<Figure size 432x288 with 1 Axes>"
            ],
            "image/png": "[encoded data removed]"
          },
          "metadata": {
            "needs_background": "light"
          }
        }
      ]
    },
    {
      "cell_type": "code",
      "source": [
        "#Ejercicio 1 a\n",
        "#Rectangulo\n",
        "x = np.linspace(-1,1,20)\n",
        "y = x*((x**2+9)**1/2)\n",
        "y1 = y[0:-1]\n",
        "dx = x[1] - x[0]                 # Ancho de cada rectángulo\n",
        "fArea = dx*np.sum(y1)            # Rectángulo ancho * alto, luego suma\n",
        "print(\"El area es:\", fArea)"
      ],
      "metadata": {
        "colab": {
          "base_uri": "https://localhost:8080/"
        },
        "id": "8Rku5o0UfBod",
        "outputId": "fa0e88b1-d61b-403e-9158-931a1b7375ee"
      },
      "execution_count": 30,
      "outputs": [
        {
          "output_type": "stream",
          "name": "stdout",
          "text": [
            "El area es: -0.5263157894736848\n"
          ]
        }
      ]
    },
    {
      "cell_type": "code",
      "source": [
        "#Ejercicio 1 b\n",
        "#Trapecio\n",
        "x = np.linspace(-1,1,20)\n",
        "y = x*((x**2+9)**1/2)\n",
        "y1 = y[1:-1]\n",
        "dx = x[1] - x[0]        # Ancho de cada trapecio\n",
        "fsum1 = np.sum(2*y1)\n",
        "fsum = fsum1 + y[0] + y[-1]\n",
        "fArea = (dx/2)*fsum     # suma de areas del trapecio\n",
        "print(\"El area es: \", fArea)\n"
      ],
      "metadata": {
        "colab": {
          "base_uri": "https://localhost:8080/"
        },
        "id": "B-0yDmDXfJ59",
        "outputId": "f279a2e8-5679-41f3-a5ba-0a84f91d4d6e"
      },
      "execution_count": 31,
      "outputs": [
        {
          "output_type": "stream",
          "name": "stdout",
          "text": [
            "El area es:  -4.674623261579606e-16\n"
          ]
        }
      ]
    },
    {
      "cell_type": "code",
      "source": [
        "#Ejercicio 2\n",
        "N = 68547        \n",
        "a = 1                 # limite inferior  \n",
        "b = 3**1/2                # limite superior\n",
        "x = np.random.uniform(a, b, N)\n",
        "y = 1/(1+x**2)\n",
        "sumfx = np.sum(y)\n",
        "farea = ((b - a) / N) * sumfx\n",
        "print(\"El área es: \", farea)"
      ],
      "metadata": {
        "colab": {
          "base_uri": "https://localhost:8080/"
        },
        "id": "x-Q5ZgClidsd",
        "outputId": "8b4e5877-c26c-4f1b-b317-1168e39f03e1"
      },
      "execution_count": 32,
      "outputs": [
        {
          "output_type": "stream",
          "name": "stdout",
          "text": [
            "El área es:  0.19745969720067252\n"
          ]
        }
      ]
    },
    {
      "cell_type": "code",
      "source": [
        "#Ejercicio 3\n",
        "def jacobi(A,b,N=25,x=None):                                  #En JACOBI ya esta hecho esto y no se debe de cambiar nada de aqui....\n",
        "    \"\"\" AX=B - Jacobi Método Iterativo. \"\"\"\n",
        "    # Crear la conjetura (hipótesis, supuesto) inicial\n",
        "    # Si se necesita\n",
        "    if x is None:\n",
        "        x = zeros(len(A[0]))                                  #len=pide la longitud del vector / Genera una matriz de ceros [0. , 0. , 0., ]\n",
        "\n",
        "    # Crear una matriz diagonalizada de A\n",
        "    D = diag(A)                                              #diag = agarra los elementos de la diagonal\n",
        "    R = A - diagflat(D)                                      #diagdlat = genera una matriz diagonal con esos elmentos \n",
        "                                                             #Le resta A para que asi sea con zeros y seia la matriz R\n",
        "    # Iteración por N veces \n",
        "    for i in range(N):\n",
        "        x = (b - dot(R,x)) / D                                #dot = es el producto o la multiplicacion \n",
        "    return x"
      ],
      "metadata": {
        "id": "x7qDsKntjEDV"
      },
      "execution_count": 23,
      "outputs": []
    },
    {
      "cell_type": "code",
      "source": [
        "A = array([[3, -1, 1], [2, 5, -2], [1, -1, -3]])                     #Tenemos que Ordenadar con la matriz dominante \n",
        "b = array([4, -6, 6])                                                   #Lado derecho de lo que es igualado la matriz  \n",
        " \n",
        "sol = jacobi(A,b,N=3)                                                             #Aplicamos la Solucion  / N=Es el numero de interacciones"
      ],
      "metadata": {
        "id": "RbJXXUaFjYGd"
      },
      "execution_count": 24,
      "outputs": []
    },
    {
      "cell_type": "code",
      "source": [
        "print(\"A:\")\n",
        "print(A)\n",
        "print(\"b:\")\n",
        "print(b)\n",
        "print(\"x:\")\n",
        "print(sol)"
      ],
      "metadata": {
        "colab": {
          "base_uri": "https://localhost:8080/"
        },
        "id": "qLEtMzKHkv4-",
        "outputId": "27d64a2b-7452-4909-8834-3ea9849e1502"
      },
      "execution_count": 25,
      "outputs": [
        {
          "output_type": "stream",
          "name": "stdout",
          "text": [
            "A:\n",
            "[[ 3 -1  1]\n",
            " [ 2  5 -2]\n",
            " [ 1 -1 -3]]\n",
            "b:\n",
            "[ 4 -6  6]\n",
            "x:\n",
            "[ 0.87407407 -2.30222222 -0.62222222]\n"
          ]
        }
      ]
    },
    {
      "cell_type": "code",
      "source": [
        "E = op.newton(sol, x, maxiter=100, tol=1.e-4)"
      ],
      "metadata": {
        "colab": {
          "base_uri": "https://localhost:8080/",
          "height": 311
        },
        "id": "ZOdzeoUdnYb2",
        "outputId": "381e863f-6613-4260-c18e-3267552f3ca9"
      },
      "execution_count": 33,
      "outputs": [
        {
          "output_type": "error",
          "ename": "TypeError",
          "evalue": "ignored",
          "traceback": [
            "\u001b[0;31m---------------------------------------------------------------------------\u001b[0m",
            "\u001b[0;31mTypeError\u001b[0m                                 Traceback (most recent call last)",
            "\u001b[0;32m<ipython-input-33-a34861579488>\u001b[0m in \u001b[0;36m<module>\u001b[0;34m\u001b[0m\n\u001b[0;32m----> 1\u001b[0;31m \u001b[0mE\u001b[0m \u001b[0;34m=\u001b[0m \u001b[0mop\u001b[0m\u001b[0;34m.\u001b[0m\u001b[0mnewton\u001b[0m\u001b[0;34m(\u001b[0m\u001b[0msol\u001b[0m\u001b[0;34m,\u001b[0m \u001b[0mx\u001b[0m\u001b[0;34m,\u001b[0m \u001b[0mmaxiter\u001b[0m\u001b[0;34m=\u001b[0m\u001b[0;36m100\u001b[0m\u001b[0;34m,\u001b[0m \u001b[0mtol\u001b[0m\u001b[0;34m=\u001b[0m\u001b[0;36m1.e-4\u001b[0m\u001b[0;34m)\u001b[0m\u001b[0;34m\u001b[0m\u001b[0;34m\u001b[0m\u001b[0m\n\u001b[0m",
            "\u001b[0;32m/usr/local/lib/python3.7/dist-packages/scipy/optimize/zeros.py\u001b[0m in \u001b[0;36mnewton\u001b[0;34m(func, x0, fprime, args, tol, maxiter, fprime2, x1, rtol, full_output, disp)\u001b[0m\n\u001b[1;32m    269\u001b[0m     \u001b[0;32mif\u001b[0m \u001b[0mnp\u001b[0m\u001b[0;34m.\u001b[0m\u001b[0msize\u001b[0m\u001b[0;34m(\u001b[0m\u001b[0mx0\u001b[0m\u001b[0;34m)\u001b[0m \u001b[0;34m>\u001b[0m \u001b[0;36m1\u001b[0m\u001b[0;34m:\u001b[0m\u001b[0;34m\u001b[0m\u001b[0;34m\u001b[0m\u001b[0m\n\u001b[1;32m    270\u001b[0m         return _array_newton(func, x0, fprime, args, tol, maxiter, fprime2,\n\u001b[0;32m--> 271\u001b[0;31m                              full_output)\n\u001b[0m\u001b[1;32m    272\u001b[0m \u001b[0;34m\u001b[0m\u001b[0m\n\u001b[1;32m    273\u001b[0m     \u001b[0;31m# Convert to float (don't use float(x0); this works also for complex x0)\u001b[0m\u001b[0;34m\u001b[0m\u001b[0;34m\u001b[0m\u001b[0;34m\u001b[0m\u001b[0m\n",
            "\u001b[0;32m/usr/local/lib/python3.7/dist-packages/scipy/optimize/zeros.py\u001b[0m in \u001b[0;36m_array_newton\u001b[0;34m(func, x0, fprime, args, tol, maxiter, fprime2, full_output)\u001b[0m\n\u001b[1;32m    407\u001b[0m         \u001b[0mdx\u001b[0m \u001b[0;34m=\u001b[0m \u001b[0mnp\u001b[0m\u001b[0;34m.\u001b[0m\u001b[0mfinfo\u001b[0m\u001b[0;34m(\u001b[0m\u001b[0mfloat\u001b[0m\u001b[0;34m)\u001b[0m\u001b[0;34m.\u001b[0m\u001b[0meps\u001b[0m\u001b[0;34m**\u001b[0m\u001b[0;36m0.33\u001b[0m\u001b[0;34m\u001b[0m\u001b[0;34m\u001b[0m\u001b[0m\n\u001b[1;32m    408\u001b[0m         \u001b[0mp1\u001b[0m \u001b[0;34m=\u001b[0m \u001b[0mp\u001b[0m \u001b[0;34m*\u001b[0m \u001b[0;34m(\u001b[0m\u001b[0;36m1\u001b[0m \u001b[0;34m+\u001b[0m \u001b[0mdx\u001b[0m\u001b[0;34m)\u001b[0m \u001b[0;34m+\u001b[0m \u001b[0mnp\u001b[0m\u001b[0;34m.\u001b[0m\u001b[0mwhere\u001b[0m\u001b[0;34m(\u001b[0m\u001b[0mp\u001b[0m \u001b[0;34m>=\u001b[0m \u001b[0;36m0\u001b[0m\u001b[0;34m,\u001b[0m \u001b[0mdx\u001b[0m\u001b[0;34m,\u001b[0m \u001b[0;34m-\u001b[0m\u001b[0mdx\u001b[0m\u001b[0;34m)\u001b[0m\u001b[0;34m\u001b[0m\u001b[0;34m\u001b[0m\u001b[0m\n\u001b[0;32m--> 409\u001b[0;31m         \u001b[0mq0\u001b[0m \u001b[0;34m=\u001b[0m \u001b[0mnp\u001b[0m\u001b[0;34m.\u001b[0m\u001b[0masarray\u001b[0m\u001b[0;34m(\u001b[0m\u001b[0mfunc\u001b[0m\u001b[0;34m(\u001b[0m\u001b[0mp\u001b[0m\u001b[0;34m,\u001b[0m \u001b[0;34m*\u001b[0m\u001b[0margs\u001b[0m\u001b[0;34m)\u001b[0m\u001b[0;34m)\u001b[0m\u001b[0;34m\u001b[0m\u001b[0;34m\u001b[0m\u001b[0m\n\u001b[0m\u001b[1;32m    410\u001b[0m         \u001b[0mq1\u001b[0m \u001b[0;34m=\u001b[0m \u001b[0mnp\u001b[0m\u001b[0;34m.\u001b[0m\u001b[0masarray\u001b[0m\u001b[0;34m(\u001b[0m\u001b[0mfunc\u001b[0m\u001b[0;34m(\u001b[0m\u001b[0mp1\u001b[0m\u001b[0;34m,\u001b[0m \u001b[0;34m*\u001b[0m\u001b[0margs\u001b[0m\u001b[0;34m)\u001b[0m\u001b[0;34m)\u001b[0m\u001b[0;34m\u001b[0m\u001b[0;34m\u001b[0m\u001b[0m\n\u001b[1;32m    411\u001b[0m         \u001b[0mactive\u001b[0m \u001b[0;34m=\u001b[0m \u001b[0mnp\u001b[0m\u001b[0;34m.\u001b[0m\u001b[0mones_like\u001b[0m\u001b[0;34m(\u001b[0m\u001b[0mp\u001b[0m\u001b[0;34m,\u001b[0m \u001b[0mdtype\u001b[0m\u001b[0;34m=\u001b[0m\u001b[0mbool\u001b[0m\u001b[0;34m)\u001b[0m\u001b[0;34m\u001b[0m\u001b[0;34m\u001b[0m\u001b[0m\n",
            "\u001b[0;31mTypeError\u001b[0m: 'numpy.ndarray' object is not callable"
          ]
        }
      ]
    }
  ]
}