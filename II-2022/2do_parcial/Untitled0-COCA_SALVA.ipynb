{
  "nbformat": 4,
  "nbformat_minor": 0,
  "metadata": {
    "colab": {
      "provenance": [],
      "collapsed_sections": []
    },
    "kernelspec": {
      "name": "python3",
      "display_name": "Python 3"
    },
    "language_info": {
      "name": "python"
    }
  },
  "cells": [
    {
      "cell_type": "code",
      "execution_count": null,
      "metadata": {
        "id": "qXRlFQUHAO4C"
      },
      "outputs": [],
      "source": [
        "Ejercicio ###1 "
      ]
    },
    {
      "cell_type": "code",
      "source": [
        "import numpy as np\n",
        "import matplotlib.pyplot as plt"
      ],
      "metadata": {
        "id": "oV2jR7oFAWTk"
      },
      "execution_count": 1,
      "outputs": []
    },
    {
      "cell_type": "code",
      "source": [
        "Grafica #1"
      ],
      "metadata": {
        "id": "zRKxJHV2Af_M"
      },
      "execution_count": null,
      "outputs": []
    },
    {
      "cell_type": "code",
      "source": [
        "plt.axvline(0, color='r')   # Eje de las ordenadas\n",
        "plt.axhline(0, color='r')   # Eje de las abscisas\n",
        "n = 9\n",
        "res = pow(x, 1/2+9)\n",
        "res = n**(2)\n",
        "np.sqrt(20)\n",
        "plt.plot(x, y)\n",
        "\n",
        "plt.grid()\n",
        "plt.show()"
      ],
      "metadata": {
        "colab": {
          "base_uri": "https://localhost:8080/",
          "height": 265
        },
        "id": "-0WM6bE2AmCs",
        "outputId": "59752ac9-0658-4553-c7cf-f29627da0499"
      },
      "execution_count": 21,
      "outputs": [
        {
          "output_type": "display_data",
          "data": {
            "text/plain": [
              "<Figure size 432x288 with 1 Axes>"
            ],
            "image/png": "[encoded data removed]"
          },
          "metadata": {
            "needs_background": "light"
          }
        }
      ]
    },
    {
      "cell_type": "code",
      "source": [],
      "metadata": {
        "id": "AFbCDNbfJxX0"
      },
      "execution_count": null,
      "outputs": []
    },
    {
      "cell_type": "code",
      "source": [
        "Solución - Método de Rectángulos"
      ],
      "metadata": {
        "id": "ua7Hhv1BCnic"
      },
      "execution_count": null,
      "outputs": []
    },
    {
      "cell_type": "code",
      "source": [
        "x = np.linspace(0,1,5)\n",
        "print(x)\n",
        "print(type(x))\n",
        "y = np.exp(x**2)\n",
        "print(y)\n",
        "y1 = y[0:-1]\n",
        "dx = x[1] - x[0]                        # Ancho de cada rectángulo\n",
        "print(dx)\n",
        "fArea = dx*np.sum(y1)                    # Rectángulo ancho * alto, luego suma\n",
        "print(\"Integral area:\",fArea)"
      ],
      "metadata": {
        "colab": {
          "base_uri": "https://localhost:8080/"
        },
        "id": "oBm4VBBECrk0",
        "outputId": "ceb69c55-e93c-487f-b15b-50126a9a70d2"
      },
      "execution_count": 29,
      "outputs": [
        {
          "output_type": "stream",
          "name": "stdout",
          "text": [
            "[0.   0.25 0.5  0.75 1.  ]\n",
            "<class 'numpy.ndarray'>\n",
            "[1.         1.06449446 1.28402542 1.75505466 2.71828183]\n",
            "0.25\n",
            "Integral area: 1.2758936331414747\n"
          ]
        }
      ]
    },
    {
      "cell_type": "code",
      "source": [
        "x = np.linspace(0,1,500)\n",
        "y = np.exp(x**2)\n",
        "y1 = y[1:-1]\n",
        "dx = x[1] - x[0]                        # Ancho de cada rectángulo\n",
        "fArea = dx*np.sum(y1)                    # Rectángulo ancho * alto, luego suma\n",
        "print(\"Integral area:\",fArea)"
      ],
      "metadata": {
        "colab": {
          "base_uri": "https://localhost:8080/"
        },
        "id": "ieo9xAiLC3Oz",
        "outputId": "774eb95b-1326-441b-bb0b-ed37e72264d3"
      },
      "execution_count": 28,
      "outputs": [
        {
          "output_type": "stream",
          "name": "stdout",
          "text": [
            "Integral area: 1.458927832069356\n"
          ]
        }
      ]
    },
    {
      "cell_type": "code",
      "source": [
        "sistema de ecuasiones"
      ],
      "metadata": {
        "id": "bn-cqQD3C1r7"
      },
      "execution_count": null,
      "outputs": []
    },
    {
      "cell_type": "code",
      "source": [
        "import scipy.optimize as op\n",
        "import numpy as np"
      ],
      "metadata": {
        "id": "Ka0exbMxHQFj"
      },
      "execution_count": 23,
      "outputs": []
    },
    {
      "cell_type": "code",
      "source": [
        "f = lambda x: np.sin(x) - 0.1*x - 0.1"
      ],
      "metadata": {
        "id": "2Ay6kV1PHXzK"
      },
      "execution_count": 22,
      "outputs": []
    },
    {
      "cell_type": "code",
      "source": [
        "x0 = np.array([0., 2., 7., 8.])"
      ],
      "metadata": {
        "id": "kKzhcpxUHiFy"
      },
      "execution_count": null,
      "outputs": []
    },
    {
      "cell_type": "code",
      "source": [
        "raiz = op.newton(f, x0, maxiter=100, tol=1.e-6)\n",
        "raiz"
      ],
      "metadata": {
        "id": "aeEGCqTfHp2i"
      },
      "execution_count": null,
      "outputs": []
    },
    {
      "cell_type": "code",
      "source": [
        "import matplotlib.pyplot as plt"
      ],
      "metadata": {
        "id": "FtKNdGEmH2XC"
      },
      "execution_count": 24,
      "outputs": []
    },
    {
      "cell_type": "code",
      "source": [
        "plt.axvline(0, color='r')   # Eje de las ordenadas\n",
        "plt.axhline(0, color='r')   # Eje de las abscisas\n",
        "\n",
        "x = np.linspace(-20.1, 20.1, 100)\n",
        "y = np.sin(x) - 0.1*x - 0.1\n",
        "plt.plot(x, y)\n",
        "\n",
        "plt.grid()\n",
        "plt.show()"
      ],
      "metadata": {
        "id": "NWazVUSvH8qx"
      },
      "execution_count": null,
      "outputs": []
    },
    {
      "cell_type": "code",
      "source": [],
      "metadata": {
        "id": "b-oyTesQIcka"
      },
      "execution_count": null,
      "outputs": []
    }
  ]
}