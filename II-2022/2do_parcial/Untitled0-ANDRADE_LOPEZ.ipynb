{
  "nbformat": 4,
  "nbformat_minor": 0,
  "metadata": {
    "colab": {
      "provenance": []
    },
    "kernelspec": {
      "name": "python3",
      "display_name": "Python 3"
    },
    "language_info": {
      "name": "python"
    }
  },
  "cells": [
    {
      "cell_type": "code",
      "execution_count": 2,
      "metadata": {
        "id": "V29C4XlHhEqR"
      },
      "outputs": [],
      "source": [
        "import numpy as np\n",
        "import matplotlib.pyplot as plt"
      ]
    },
    {
      "cell_type": "code",
      "source": [
        "plt.axvline(0, color='r')   # Eje de las ordenadas\n",
        "plt.axhline(0, color='r')   # Eje de las abscisas\n",
        "\n",
        "x = np.linspace(-0.1, 1.1, 100)\n",
        "y = np.exp(x**2)\n",
        "plt.plot(x, y)\n",
        "\n",
        "plt.grid()\n",
        "plt.show()"
      ],
      "metadata": {
        "colab": {
          "base_uri": "https://localhost:8080/",
          "height": 268
        },
        "id": "G4v27t6hiPfB",
        "outputId": "4891da78-b160-48b2-fd97-aee6252c9023"
      },
      "execution_count": 3,
      "outputs": [
        {
          "output_type": "display_data",
          "data": {
            "text/plain": [
              "<Figure size 432x288 with 1 Axes>"
            ],
            "image/png": "[encoded data removed]"
          },
          "metadata": {
            "needs_background": "light"
          }
        }
      ]
    },
    {
      "cell_type": "markdown",
      "source": [
        "METODO RECTANGULO"
      ],
      "metadata": {
        "id": "E6jbEzgulTkJ"
      }
    },
    {
      "cell_type": "code",
      "source": [
        "x = np.linspace(0,1,5)\n",
        "print(x)\n",
        "print(type(x))\n",
        "y = np.exp(x**2)\n",
        "print(y)\n",
        "y1 = y[0:-1]\n",
        "dx = x[1] - x[0]                        # Ancho de cada rectángulo\n",
        "print(dx)\n",
        "fArea = dx*np.sum(y1)                    # Rectángulo ancho * alto, luego suma\n",
        "print(\"Integral area:\",fArea)"
      ],
      "metadata": {
        "id": "Vz1g-n_mlhBg"
      },
      "execution_count": null,
      "outputs": []
    },
    {
      "cell_type": "markdown",
      "source": [
        "METODO TRAPECIO"
      ],
      "metadata": {
        "id": "pQNfwlV3lwHh"
      }
    },
    {
      "cell_type": "code",
      "source": [
        "x = np.linspace(0,1,500)\n",
        "y = np.exp(x**2)\n",
        "y1 = y[1:-1]\n",
        "dx = x[1] - x[0]        # Ancho de cada trapecio\n",
        "fsum1 = np.sum(2*y1)\n",
        "fsum = fsum1 + y[0] + y[-1]\n",
        "fArea = (dx/2)*fsum     # suma de areas del trapecio\n",
        "print(fArea)"
      ],
      "metadata": {
        "id": "EQnuDHMVmDWJ"
      },
      "execution_count": null,
      "outputs": []
    },
    {
      "cell_type": "markdown",
      "source": [
        "METODO MONTE CARLO"
      ],
      "metadata": {
        "id": "ix6GxPV-mMox"
      }
    },
    {
      "cell_type": "code",
      "source": [
        "N = 100000000\n",
        "# limite inferior\n",
        "a = 0\n",
        "# limite superior\n",
        "b = 1\n",
        "x = np.random.uniform(a, b, N)\n",
        "\n",
        "y = np.exp(x**2)\n",
        "\n",
        "sumfx = np.sum(y)\n",
        "farea = ((b - a) / N) * sumfx\n",
        "print(\"El área es: \", farea)"
      ],
      "metadata": {
        "id": "alvr3mV6mQDg"
      },
      "execution_count": null,
      "outputs": []
    }
  ]
}