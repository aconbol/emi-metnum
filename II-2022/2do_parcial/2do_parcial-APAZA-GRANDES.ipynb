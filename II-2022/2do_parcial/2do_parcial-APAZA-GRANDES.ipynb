{
  "nbformat": 4,
  "nbformat_minor": 0,
  "metadata": {
    "colab": {
      "provenance": []
    },
    "kernelspec": {
      "name": "python3",
      "display_name": "Python 3"
    },
    "language_info": {
      "name": "python"
    }
  },
  "cells": [
    {
      "cell_type": "markdown",
      "source": [
        "pregunta 1 "
      ],
      "metadata": {
        "id": "6n0CRsNyfT10"
      }
    },
    {
      "cell_type": "markdown",
      "source": [],
      "metadata": {
        "id": "mHzqOoeZgHQc"
      }
    },
    {
      "cell_type": "code",
      "source": [
        "import matplotlib.pyplot as plt\n",
        "import numpy as np\n"
      ],
      "metadata": {
        "id": "5ua5lYtGfZHk"
      },
      "execution_count": null,
      "outputs": []
    },
    {
      "cell_type": "code",
      "source": [
        "plt.axvline(0, color=\"red\")\n",
        "plt.axhline(0, color=\"red\")\n",
        "\n",
        "x = np.linspace(-5.1, 5.1, 1000)\n",
        "y = x*np.sqrt((x**2) + 9)\n",
        "\n",
        "plt.plot(x, y)\n",
        "plt.grid()\n",
        "plt.show()"
      ],
      "metadata": {
        "colab": {
          "base_uri": "https://localhost:8080/",
          "height": 265
        },
        "id": "WwMJucRKftYT",
        "outputId": "00891161-8f97-4474-e0e9-2f31c48b51dd"
      },
      "execution_count": null,
      "outputs": [
        {
          "output_type": "display_data",
          "data": {
            "text/plain": [
              "<Figure size 432x288 with 1 Axes>"
            ],
            "image/png": "[encoded data removed]"
          },
          "metadata": {
            "needs_background": "light"
          }
        }
      ]
    },
    {
      "cell_type": "code",
      "source": [
        "#metodo de rectangulos.\n",
        "x = np.linspace(-1.1 , 1.1, 20)\n",
        "y = x*np.sqrt((x**2) + 9)\n",
        "y1 = y[0 : -1]\n",
        "dx = x[1] - x[0]\n",
        "AREARECTANGULO = dx*np.sum(y1)\n",
        "print(\"EL AREA DE la integral es:\", AREARECTANGULO)"
      ],
      "metadata": {
        "colab": {
          "base_uri": "https://localhost:8080/"
        },
        "id": "RFDTUlbFiuKd",
        "outputId": "c8ced275-4fb9-49df-cd66-8506002a20b9"
      },
      "execution_count": null,
      "outputs": [
        {
          "output_type": "stream",
          "name": "stdout",
          "text": [
            "EL AREA DE la integral es: -0.4069814699682367\n"
          ]
        }
      ]
    },
    {
      "cell_type": "code",
      "source": [
        "#METODO DE TRAPECIOS \n",
        "x = np.linspace(-1.1, 1.1, 20)\n",
        "y =  x*np.sqrt((x**2) + 9)\n",
        "y1 = y[1:-1]\n",
        "dx = x[1] - x[0]\n",
        "fsum1 = np.sum(2*y1)\n",
        "fsuma = fsum1 + y[0] + y[-1]\n",
        "farea = (dx/2)*fsuma\n",
        "print(\"EL AREA DE la integral es:\",farea)"
      ],
      "metadata": {
        "colab": {
          "base_uri": "https://localhost:8080/"
        },
        "id": "joQ4kxy8j92e",
        "outputId": "4649831d-0f5e-4e08-d0fe-4799c819029f"
      },
      "execution_count": null,
      "outputs": [
        {
          "output_type": "stream",
          "name": "stdout",
          "text": [
            "EL AREA DE la integral es: 2.0568342350950273e-16\n"
          ]
        }
      ]
    },
    {
      "cell_type": "code",
      "source": [
        "#MONTECARLO\n",
        "N = 22915\n",
        "#limite inferior\n",
        "a = -1.1\n",
        "#limite superior\n",
        "b = 1.1\n",
        "x = np.random.uniform(a, b, N)\n",
        "y = x*np.sqrt((x**2) + 9)\n",
        "sumA = np.sum(y)\n",
        "farea = ((b -a)/ N)*sumA\n",
        "print(\"la integral es:\", farea)"
      ],
      "metadata": {
        "colab": {
          "base_uri": "https://localhost:8080/"
        },
        "id": "V4kXPc1skbGd",
        "outputId": "55b0a843-bb01-46a3-d131-9d1c0737f1ee"
      },
      "execution_count": null,
      "outputs": [
        {
          "output_type": "stream",
          "name": "stdout",
          "text": [
            "la integral es: 0.01826721849593118\n"
          ]
        }
      ]
    },
    {
      "cell_type": "markdown",
      "source": [
        "PREGUNTA 2\n"
      ],
      "metadata": {
        "id": "xsRuoDNwkuTl"
      }
    },
    {
      "cell_type": "code",
      "source": [
        "#MONTECARLO\n",
        "N = 22915\n",
        "#limite inferior\n",
        "a = 1\n",
        "#limite superior\n",
        "b = np.sqrt(3)\n",
        "x = np.random.uniform(a, b, N)\n",
        "y = 1/(1+x**2)\n",
        "sumA = np.sum(y)\n",
        "farea = ((b -a)/ N)*sumA\n",
        "print(\"la integral es:\", farea)"
      ],
      "metadata": {
        "colab": {
          "base_uri": "https://localhost:8080/"
        },
        "id": "wz09Dy4Vk81d",
        "outputId": "1f3f0ad9-4549-44ac-85ed-aebed7838379"
      },
      "execution_count": null,
      "outputs": [
        {
          "output_type": "stream",
          "name": "stdout",
          "text": [
            "la integral es: 0.2620402894153316\n"
          ]
        }
      ]
    },
    {
      "cell_type": "markdown",
      "source": [
        "pregunta 3"
      ],
      "metadata": {
        "id": "Aan8jBfMoTmW"
      }
    },
    {
      "cell_type": "code",
      "source": [
        "from numpy import zeros, diag, diagflat, dot, array"
      ],
      "metadata": {
        "id": "D6GNUTpTqkau"
      },
      "execution_count": null,
      "outputs": []
    },
    {
      "cell_type": "code",
      "source": [
        "A = array([[1, -.1, -.3], [3, -1, 1], [.2, .5, -2]])\n",
        "b = array([20.2, -18.9, -56.4])\n",
        "def jacobi(A, b, N=22915, x=None):\n",
        "  if x is None:\n",
        "    x = zeros(len(A[0]))\n",
        "  D = diag(A)\n",
        "  R = A - diagflat(D)\n",
        "  for i in range(N):\n",
        "    x = (b - dot(R, x)) / D\n",
        "  return x \n",
        "A = array([[25, -.9, -.3], [3.7, -7.3, -.1], [.7, .1, -8.2]])   # ordenada con dominantes\n",
        "b = array([20.2, -18.9, -56.4])                                 \n",
        "\n",
        "sol = jacobi(A,b,N=22915)\n",
        "print(sol)"
      ],
      "metadata": {
        "colab": {
          "base_uri": "https://localhost:8080/"
        },
        "id": "kE_Ftap0oWt1",
        "outputId": "f6eb984a-c553-4431-ca9a-f6fbf11e8129"
      },
      "execution_count": null,
      "outputs": [
        {
          "output_type": "stream",
          "name": "stdout",
          "text": [
            "[1. 3. 7.]\n"
          ]
        }
      ]
    },
    {
      "cell_type": "code",
      "source": [],
      "metadata": {
        "id": "BhDiBJ6GoTN-"
      },
      "execution_count": null,
      "outputs": []
    }
  ]
}