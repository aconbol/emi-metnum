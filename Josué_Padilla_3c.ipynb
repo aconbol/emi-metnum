{
  "nbformat": 4,
  "nbformat_minor": 0,
  "metadata": {
    "colab": {
      "provenance": []
    },
    "kernelspec": {
      "name": "python3",
      "display_name": "Python 3"
    },
    "language_info": {
      "name": "python"
    }
  },
  "cells": [
    {
      "cell_type": "code",
      "execution_count": null,
      "metadata": {
        "id": "apnARh7HSsys"
      },
      "outputs": [],
      "source": [
        "import numpy as np\n",
        "import matplotlib.pyplot as plt"
      ]
    },
    {
      "cell_type": "code",
      "source": [
        ":$$\n",
        "in_"
      ],
      "metadata": {
        "id": "lciFCJ2UYmB3"
      },
      "execution_count": null,
      "outputs": []
    },
    {
      "cell_type": "code",
      "source": [
        "x = np.linspace(-0.6 , 1.4 , 120)\n",
        "y = 1+np.exp(-x)np.cos(3*x)\n",
        "y1= y[0:3]\n",
        "dx = -x[0] + x[3]\n",
        "fArea = dx*np.sum(y1)\n",
        "print(\"integral area :\" , fArea)"
      ],
      "metadata": {
        "colab": {
          "base_uri": "https://localhost:8080/",
          "height": 130
        },
        "id": "x861x8GOY_ZO",
        "outputId": "9de5f4ca-d7b9-48f0-f4ee-07da67f45b43"
      },
      "execution_count": null,
      "outputs": [
        {
          "output_type": "error",
          "ename": "SyntaxError",
          "evalue": "ignored",
          "traceback": [
            "\u001b[0;36m  File \u001b[0;32m\"<ipython-input-9-6595daf0f155>\"\u001b[0;36m, line \u001b[0;32m2\u001b[0m\n\u001b[0;31m    y = 1+np.exp(-x)np.cos(3*x)\u001b[0m\n\u001b[0m                     ^\u001b[0m\n\u001b[0;31mSyntaxError\u001b[0m\u001b[0;31m:\u001b[0m invalid syntax\n"
          ]
        }
      ]
    },
    {
      "cell_type": "markdown",
      "source": [
        "pregunta 1\n",
        "\n",
        "\n",
        "\n",
        "\n"
      ],
      "metadata": {
        "id": "S3VlpM8vdVaM"
      }
    },
    {
      "cell_type": "markdown",
      "source": [
        "pregunta 2"
      ],
      "metadata": {
        "id": "HtCDlTcneM9c"
      }
    },
    {
      "cell_type": "code",
      "source": [
        "import numpy as np\n",
        "import matplotlib.pyplot as plt"
      ],
      "metadata": {
        "id": "3gfWRaC1eAfF"
      },
      "execution_count": null,
      "outputs": []
    },
    {
      "cell_type": "code",
      "source": [
        "N = 10000000\n",
        "a = -10000\n",
        "b = 10000\n",
        "x = np.random.uniform(a, b, N)\n",
        "y = np.exp(x**2)\n",
        "sumfx = np.sum(y)\n",
        "farea = ((b-a)/N) * sumfx \n",
        "print(\"El area es: \",farea)\n"
      ],
      "metadata": {
        "colab": {
          "base_uri": "https://localhost:8080/"
        },
        "id": "aTogFkBUeLU0",
        "outputId": "d7ab231d-042c-43de-8532-1e1d6cd51b06"
      },
      "execution_count": null,
      "outputs": [
        {
          "output_type": "stream",
          "name": "stdout",
          "text": [
            "El area es:  inf\n"
          ]
        },
        {
          "output_type": "stream",
          "name": "stderr",
          "text": [
            "/usr/local/lib/python3.7/dist-packages/ipykernel_launcher.py:5: RuntimeWarning: overflow encountered in exp\n",
            "  \"\"\"\n"
          ]
        }
      ]
    },
    {
      "cell_type": "markdown",
      "source": [
        "pregunta 3"
      ],
      "metadata": {
        "id": "NA4t1WSLhnty"
      }
    },
    {
      "cell_type": "code",
      "source": [
        "from numpy import array, zeros, diag, diagflat, dot"
      ],
      "metadata": {
        "id": "IBY18lRkhp-i"
      },
      "execution_count": null,
      "outputs": []
    },
    {
      "cell_type": "code",
      "source": [
        "def jacobi(A,b,N=20,x=None):                        \n",
        "    \"\"\" AX=B - Jacobi Método Iterativo. \"\"\"\n",
        "\n",
        "    if x is None:\n",
        "        x = zeros(len(A[0]))                                 \n",
        "    D = diag(A)                                       \n",
        "    R = A - diagflat(D)                                    \n",
        "\n",
        "    for i in range(N):\n",
        "        x = (b - dot(R,x)) / D                                \n",
        "    return x"
      ],
      "metadata": {
        "id": "E635_fcLirtZ"
      },
      "execution_count": null,
      "outputs": []
    },
    {
      "cell_type": "code",
      "source": [
        "A = array([[3, -1, 2], [-1, +3, 1], [-1, 1, 4]])                     \n",
        "b = array([1, 3, 7])                                                  \n",
        "sol = jacobi(A,b,N=3)"
      ],
      "metadata": {
        "id": "LmTH7qONjdVx"
      },
      "execution_count": null,
      "outputs": []
    },
    {
      "cell_type": "code",
      "source": [
        "print(\"A:\")\n",
        "print(A)\n",
        "print(\"b:\")\n",
        "print(b)\n",
        "print(\"x:\")\n",
        "print(sol)"
      ],
      "metadata": {
        "id": "qkwo2Z4-kKuj",
        "outputId": "f5288c70-a351-4682-8371-0f6a5b97c70f",
        "colab": {
          "base_uri": "https://localhost:8080/"
        }
      },
      "execution_count": null,
      "outputs": [
        {
          "output_type": "stream",
          "name": "stdout",
          "text": [
            "A:\n",
            "[[ 3 -1  2]\n",
            " [-1  3  1]\n",
            " [-1  1  4]]\n",
            "b:\n",
            "[1 3 7]\n",
            "x:\n",
            "[-0.5462963   0.30555556  1.49305556]\n"
          ]
        }
      ]
    }
  ]
}