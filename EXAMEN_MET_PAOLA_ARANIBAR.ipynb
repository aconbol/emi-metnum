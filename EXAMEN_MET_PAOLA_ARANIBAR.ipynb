{
  "nbformat": 4,
  "nbformat_minor": 0,
  "metadata": {
    "colab": {
      "provenance": []
    },
    "kernelspec": {
      "name": "python3",
      "display_name": "Python 3"
    },
    "language_info": {
      "name": "python"
    }
  },
  "cells": [
    {
      "cell_type": "markdown",
      "source": [
        "1.- Resolver la siguiente expresión matemática\n",
        ":$$ \\int_{-1}^1 x\\sqrt{x^2+9}. dx\n",
        "$$\n",
        "a) metodo del rectangulo con n=20\n"
      ],
      "metadata": {
        "id": "TmiLkimSfr4Q"
      }
    },
    {
      "cell_type": "code",
      "source": [
        "import numpy as np\n",
        "import matplotlib.pyplot as plt"
      ],
      "metadata": {
        "id": "AH2C054Zf9Zu"
      },
      "execution_count": 16,
      "outputs": []
    },
    {
      "cell_type": "code",
      "source": [
        "x = np.linspace(-1,1,21)\n",
        "print(x)\n",
        "y = x*np.sqrt(x**2+9) \n",
        "print(y)\n",
        "y1 = y[0:-1]\n",
        "dx = x[1] - x[0]                        # Ancho de cada rectángulo\n",
        "print(dx)\n",
        "fArea = dx*np.sum(y1)                    # Rectángulo ancho * alto, luego suma\n",
        "print(\"Integral area:\",fArea)"
      ],
      "metadata": {
        "colab": {
          "base_uri": "https://localhost:8080/"
        },
        "id": "rGS0ltYfgFVZ",
        "outputId": "7e14a6b4-cd5d-4704-e0bf-06f0a22c12c5"
      },
      "execution_count": 15,
      "outputs": [
        {
          "output_type": "stream",
          "name": "stdout",
          "text": [
            "[-1.  -0.9 -0.8 -0.7 -0.6 -0.5 -0.4 -0.3 -0.2 -0.1  0.   0.1  0.2  0.3\n",
            "  0.4  0.5  0.6  0.7  0.8  0.9  1. ]\n",
            "[-3.16227766 -2.81888276 -2.48386795 -2.15640905 -1.83564702 -1.52069063\n",
            " -1.21061968 -0.90448881 -0.60133186 -0.30016662  0.          0.30016662\n",
            "  0.60133186  0.90448881  1.21061968  1.52069063  1.83564702  2.15640905\n",
            "  2.48386795  2.81888276  3.16227766]\n",
            "0.09999999999999998\n",
            "Integral area: -0.31622776601683755\n"
          ]
        }
      ]
    },
    {
      "cell_type": "markdown",
      "source": [
        "b. por metodo del trapecio para 20 trapecios"
      ],
      "metadata": {
        "id": "a2m58k0OpLyM"
      }
    },
    {
      "cell_type": "code",
      "source": [
        "x = np.linspace(-1,1,21)\n",
        "y =  x*np.sqrt(x**2+9)\n",
        "y1 = y[1:-1]\n",
        "dx = x[1] - x[0]        # Ancho de cada trapecio\n",
        "fsum1 = np.sum(2*y1)\n",
        "fsum = fsum1 + y[0] + y[-1]\n",
        "fArea = (dx/2)*fsum     # suma de areas del trapecio\n",
        "print(\"area por trapecio:\",fArea)"
      ],
      "metadata": {
        "colab": {
          "base_uri": "https://localhost:8080/"
        },
        "id": "h9Nqc0KypMux",
        "outputId": "265b9e51-82eb-4da1-8cb9-15c132b46d92"
      },
      "execution_count": 17,
      "outputs": [
        {
          "output_type": "stream",
          "name": "stdout",
          "text": [
            "area por trapecio: 3.5527136788005e-16\n"
          ]
        }
      ]
    },
    {
      "cell_type": "code",
      "source": [
        "import scipy.integrate as integrate\n",
        "import math"
      ],
      "metadata": {
        "id": "Xtro-UyBpVNn"
      },
      "execution_count": 18,
      "outputs": []
    },
    {
      "cell_type": "code",
      "source": [
        "fx=lambda x: x*np.sqrt(x**2+9)\n",
        "res = integrate.quad(fx, -1, 1)\n",
        "print(\"El área es {0}, con un error de {1}\".format(res[0], res[1]))\n",
        "print(\"error trapecios\",res[1]-fArea)"
      ],
      "metadata": {
        "colab": {
          "base_uri": "https://localhost:8080/"
        },
        "id": "rOsiyKXDpX1R",
        "outputId": "ac232dac-43fa-4d69-9cb7-878df6e30b39"
      },
      "execution_count": 19,
      "outputs": [
        {
          "output_type": "stream",
          "name": "stdout",
          "text": [
            "El área es 0.0, con un error de 3.409126508521985e-14\n",
            "error trapecios 3.37359937173398e-14\n"
          ]
        }
      ]
    },
    {
      "cell_type": "markdown",
      "source": [
        "Ejercicio 2 \n",
        ":$$\n",
        "\\int_ {1}^ \\sqrt{3} \\frac{1}{1+x^2} dx = \n",
        "$$\n",
        "metodo del Monte Carlo con n= 8591"
      ],
      "metadata": {
        "id": "mG6vvfONg3Uj"
      }
    },
    {
      "cell_type": "code",
      "source": [
        "import numpy as np\n",
        "import matplotlib.pyplot as plt"
      ],
      "metadata": {
        "id": "0J7R-FwJiMbC"
      },
      "execution_count": 6,
      "outputs": []
    },
    {
      "cell_type": "code",
      "source": [
        "N = 8591\n",
        "# limite inferior\n",
        "a = 1\n",
        "# limite superior\n",
        "b = np.sqrt(3)\n",
        "x = np.random.uniform(a, b, N)\n",
        "\n",
        "y = 1 / (1+ x**2)\n",
        "sumfx = np.sum(y)\n",
        "farea = ((b - a) / N) * sumfx\n",
        "print(\"El área es: \", farea)\n",
        "\n",
        "\n"
      ],
      "metadata": {
        "colab": {
          "base_uri": "https://localhost:8080/"
        },
        "id": "YfKYBauUhea0",
        "outputId": "718f2623-7e9e-48e5-f9e5-c9f4912388b1"
      },
      "execution_count": 14,
      "outputs": [
        {
          "output_type": "stream",
          "name": "stdout",
          "text": [
            "El área es:  0.2612947109359152\n"
          ]
        }
      ]
    },
    {
      "cell_type": "markdown",
      "source": [
        "# JACOBI CON TOLERANCIA DE 0.001"
      ],
      "metadata": {
        "id": "IHjDri91jA6d"
      }
    },
    {
      "cell_type": "code",
      "source": [
        "from numpy import array, zeros, diag, diagflat, dot"
      ],
      "metadata": {
        "id": "1Rdd4nO8jj63"
      },
      "execution_count": 11,
      "outputs": []
    },
    {
      "cell_type": "code",
      "source": [
        "def jacobi(A,b,N=25,x=None):\n",
        "    \"\"\" AX=B - Jacobi Método Iterativo. \"\"\"\n",
        "    # Crear la conjetura (hipótesis, supuesto) inicial\n",
        "    # Si se necesita\n",
        "    if x is None:\n",
        "        x = zeros(len(A[0]))\n",
        "\n",
        "    # Crear una matriz diagonalizada de A\n",
        "    D = diag(A)\n",
        "    #print(D)\n",
        "    #print(A)\n",
        "    R = A - diagflat(D)\n",
        "    #print(R)\n",
        "    #print(A[0])\n",
        "    #print(x)\n",
        "    # Iteración por N veces \n",
        "    for i in range(N):\n",
        "        x = (b - dot(R,x)) / D\n",
        "        print(\"iteracion\",i,\" :\",x)\n",
        "    return x\n",
        "A = array([[3, -1, 1],[2, 5, -2], [1, -1, -3]])\n",
        "b = array([4,-6 , 6])\n",
        "\n",
        "sol = jacobi(A,b,N=25)\n",
        "print(sol)\n"
      ],
      "metadata": {
        "colab": {
          "base_uri": "https://localhost:8080/"
        },
        "id": "5cm03Sm-j2iL",
        "outputId": "270860fd-2074-47e8-ff2c-b73bf54dc7d3"
      },
      "execution_count": 12,
      "outputs": [
        {
          "output_type": "stream",
          "name": "stdout",
          "text": [
            "iteracion 0  : [ 1.33333333 -1.2        -2.        ]\n",
            "iteracion 1  : [ 1.6        -2.53333333 -1.15555556]\n",
            "iteracion 2  : [ 0.87407407 -2.30222222 -0.62222222]\n",
            "iteracion 3  : [ 0.77333333 -1.79851852 -0.94123457]\n",
            "iteracion 4  : [ 1.04757202 -1.88582716 -1.14271605]\n",
            "iteracion 5  : [ 1.08562963 -2.07611523 -1.02220027]\n",
            "iteracion 6  : [ 0.98202835 -2.04313196 -0.94608505]\n",
            "iteracion 7  : [ 0.96765103 -1.97124536 -0.99161323]\n",
            "iteracion 8  : [ 1.00678929 -1.9837057  -1.02036787]\n",
            "iteracion 9  : [ 1.01222072 -2.01086286 -1.00316834]\n",
            "iteracion 10  : [ 0.99743516 -2.00615562 -0.99230547]\n",
            "iteracion 11  : [ 0.99538328 -1.99589625 -0.99880307]\n",
            "iteracion 12  : [ 1.00096894 -1.99767454 -1.00290682]\n",
            "iteracion 13  : [ 1.00174409 -2.00155031 -1.00045217]\n",
            "iteracion 14  : [ 0.99963396 -2.00087851 -0.99890187]\n",
            "iteracion 15  : [ 0.99934112 -1.99941433 -0.99982918]\n",
            "iteracion 16  : [ 1.00013828 -1.99966812 -1.00041485]\n",
            "iteracion 17  : [ 1.00024891 -2.00022125 -1.00006453]\n",
            "iteracion 18  : [ 0.99994776 -2.00012538 -0.99984328]\n",
            "iteracion 19  : [ 0.99990597 -1.99991642 -0.99997562]\n",
            "iteracion 20  : [ 1.00001974 -1.99995264 -1.00005921]\n",
            "iteracion 21  : [ 1.00003552 -2.00003158 -1.00000921]\n",
            "iteracion 22  : [ 0.99999254 -2.00001789 -0.99997763]\n",
            "iteracion 23  : [ 0.99998658 -1.99998807 -0.99999652]\n",
            "iteracion 24  : [ 1.00000282 -1.99999324 -1.00000845]\n",
            "[ 1.00000282 -1.99999324 -1.00000845]\n"
          ]
        }
      ]
    }
  ]
}