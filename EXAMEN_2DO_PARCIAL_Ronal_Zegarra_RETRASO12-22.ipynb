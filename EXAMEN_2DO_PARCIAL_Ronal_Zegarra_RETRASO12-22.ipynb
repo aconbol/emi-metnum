{
  "nbformat": 4,
  "nbformat_minor": 0,
  "metadata": {
    "colab": {
      "provenance": [],
      "collapsed_sections": []
    },
    "kernelspec": {
      "name": "python3",
      "display_name": "Python 3"
    },
    "language_info": {
      "name": "python"
    }
  },
  "cells": [
    {
      "cell_type": "markdown",
      "source": [
        " PREGUNTA 1 parcial"
      ],
      "metadata": {
        "id": "bRGNEHslcGsF"
      }
    },
    {
      "cell_type": "markdown",
      "source": [],
      "metadata": {
        "id": "_i5aVUetfnwJ"
      }
    },
    {
      "cell_type": "code",
      "source": [
        "import numpy as np\n",
        "import matplotlib.pyplot as plt"
      ],
      "metadata": {
        "id": "y2epZWoCJYaz"
      },
      "execution_count": null,
      "outputs": []
    },
    {
      "cell_type": "markdown",
      "source": [
        "Gráfica "
      ],
      "metadata": {
        "id": "tZ4JAaG0G8rb"
      }
    },
    {
      "cell_type": "code",
      "source": [],
      "metadata": {
        "id": "JZK8F3QKsk9q"
      },
      "execution_count": null,
      "outputs": []
    },
    {
      "cell_type": "code",
      "source": [
        "plt.axvline(0, color='r')   # Eje de las ordenadas\n",
        "plt.axhline(0, color='r')   # Eje de las abscisas\n",
        "\n",
        "x = np.linspace(-1, 1, 101)\n",
        "plt.plot(x, ((2*x+1))/(x**2+x))\n",
        "plt.grid()\n",
        "plt.show()"
      ],
      "metadata": {
        "colab": {
          "base_uri": "https://localhost:8080/",
          "height": 302
        },
        "id": "_UREc1-PoKQY",
        "outputId": "0a070440-2bb2-4be1-ebe2-0949fd4a2160"
      },
      "execution_count": null,
      "outputs": [
        {
          "output_type": "stream",
          "name": "stderr",
          "text": [
            "/usr/local/lib/python3.7/dist-packages/ipykernel_launcher.py:5: RuntimeWarning: divide by zero encountered in true_divide\n",
            "  \"\"\"\n"
          ]
        },
        {
          "output_type": "display_data",
          "data": {
            "text/plain": [
              "<Figure size 432x288 with 1 Axes>"
            ],
            "image/png": "[encoded data removed]"
          },
          "metadata": {
            "needs_background": "light"
          }
        }
      ]
    },
    {
      "cell_type": "markdown",
      "source": [
        "metodo de rectangulo"
      ],
      "metadata": {
        "id": "ODpciEK1-prM"
      }
    },
    {
      "cell_type": "code",
      "source": [
        "def f(x):\n",
        "    return  (2*x+1)/(x**2+x)\n",
        "\n",
        "n = 20  # numero de rectángulos\n",
        "suma = 0\n",
        "a = '1'\n",
        "b = 1\n",
        "dx = (b - a) / n\n",
        "\n",
        "# sumar las áreas\n",
        "for i in range(n):\n",
        "    altura = f(a)\n",
        "    area = dx * altura\n",
        "    suma = suma + area\n",
        "    a = a + dx\n",
        "\n",
        "print('El área es: ', suma)"
      ],
      "metadata": {
        "colab": {
          "base_uri": "https://localhost:8080/",
          "height": 244
        },
        "id": "qn8MxZe7K-fM",
        "outputId": "cd1ba889-db12-46be-ae14-30beb39bc137"
      },
      "execution_count": null,
      "outputs": [
        {
          "output_type": "error",
          "ename": "TypeError",
          "evalue": "ignored",
          "traceback": [
            "\u001b[0;31m---------------------------------------------------------------------------\u001b[0m",
            "\u001b[0;31mTypeError\u001b[0m                                 Traceback (most recent call last)",
            "\u001b[0;32m<ipython-input-3-fca0a2ddf36e>\u001b[0m in \u001b[0;36m<module>\u001b[0;34m\u001b[0m\n\u001b[1;32m      6\u001b[0m \u001b[0ma\u001b[0m \u001b[0;34m=\u001b[0m \u001b[0;34m'1'\u001b[0m\u001b[0;34m\u001b[0m\u001b[0;34m\u001b[0m\u001b[0m\n\u001b[1;32m      7\u001b[0m \u001b[0mb\u001b[0m \u001b[0;34m=\u001b[0m \u001b[0;36m1\u001b[0m\u001b[0;34m\u001b[0m\u001b[0;34m\u001b[0m\u001b[0m\n\u001b[0;32m----> 8\u001b[0;31m \u001b[0mdx\u001b[0m \u001b[0;34m=\u001b[0m \u001b[0;34m(\u001b[0m\u001b[0mb\u001b[0m \u001b[0;34m-\u001b[0m \u001b[0ma\u001b[0m\u001b[0;34m)\u001b[0m \u001b[0;34m/\u001b[0m \u001b[0mn\u001b[0m\u001b[0;34m\u001b[0m\u001b[0;34m\u001b[0m\u001b[0m\n\u001b[0m\u001b[1;32m      9\u001b[0m \u001b[0;34m\u001b[0m\u001b[0m\n\u001b[1;32m     10\u001b[0m \u001b[0;31m# sumar las áreas\u001b[0m\u001b[0;34m\u001b[0m\u001b[0;34m\u001b[0m\u001b[0;34m\u001b[0m\u001b[0m\n",
            "\u001b[0;31mTypeError\u001b[0m: unsupported operand type(s) for -: 'int' and 'str'"
          ]
        }
      ]
    },
    {
      "cell_type": "markdown",
      "source": [
        "metodo de trapecio\n"
      ],
      "metadata": {
        "id": "WIE7Vrhg-uOD"
      }
    },
    {
      "cell_type": "code",
      "source": [
        "x = np.linspace(-1,2,21)\n",
        "y =  (2*x+1)/(x**2+x)\n",
        "y = y[0:-1]\n",
        "dx = x[1] - x[0]                        # Ancho de cada rectángulo\n",
        "fArea = np.sum(y*dx)                    # Rectángulo ancho * alto, luego suma\n",
        "print(\"Integral area:\",fArea)"
      ],
      "metadata": {
        "colab": {
          "base_uri": "https://localhost:8080/"
        },
        "id": "lZ7vFf_3rY1i",
        "outputId": "bdee6c17-6c2d-4d39-d387-71cec051ffff"
      },
      "execution_count": null,
      "outputs": [
        {
          "output_type": "stream",
          "name": "stdout",
          "text": [
            "Integral area: -inf\n"
          ]
        },
        {
          "output_type": "stream",
          "name": "stderr",
          "text": [
            "/usr/local/lib/python3.7/dist-packages/ipykernel_launcher.py:2: RuntimeWarning: divide by zero encountered in true_divide\n",
            "  \n"
          ]
        }
      ]
    },
    {
      "cell_type": "markdown",
      "source": [
        "\n",
        "método trapecio"
      ],
      "metadata": {
        "id": "Nvtlm2PTtTAZ"
      }
    },
    {
      "cell_type": "code",
      "source": [
        "x = np.linspace(1,2,21)\n",
        "print(x)\n",
        "y = (2*x+1)/(x**2+x)\n",
        "print(y)\n",
        "y1 = y[0:-1]\n",
        "print(y1)\n",
        "dx = x[1] - x[0]                     # Ancho de cada trapecio\n",
        "print(dx)                    \n",
        "fsum1 = np.sum(2*y1)\n",
        "fsum = fsum1 + y[0] + y[-1]\n",
        "fArea = (dx/2)*fsum      #  suma de area del trapecio\n",
        "print(fArea)"
      ],
      "metadata": {
        "colab": {
          "base_uri": "https://localhost:8080/"
        },
        "id": "tL84WTYW9OP4",
        "outputId": "acfb1006-81ed-4bbb-ca90-b098b1c22ab0"
      },
      "execution_count": null,
      "outputs": [
        {
          "output_type": "stream",
          "name": "stdout",
          "text": [
            "[1.   1.05 1.1  1.15 1.2  1.25 1.3  1.35 1.4  1.45 1.5  1.55 1.6  1.65\n",
            " 1.7  1.75 1.8  1.85 1.9  1.95 2.  ]\n",
            "[1.5        1.44018583 1.38528139 1.3346815  1.28787879 1.24444444\n",
            " 1.20401338 1.16627266 1.13095238 1.09781844 1.06666667 1.03731815\n",
            " 1.00961538 0.9834191  0.95860566 0.93506494 0.91269841 0.89141773\n",
            " 0.87114338 0.85180356 0.83333333]\n",
            "[1.5        1.44018583 1.38528139 1.3346815  1.28787879 1.24444444\n",
            " 1.20401338 1.16627266 1.13095238 1.09781844 1.06666667 1.03731815\n",
            " 1.00961538 0.9834191  0.95860566 0.93506494 0.91269841 0.89141773\n",
            " 0.87114338 0.85180356]\n",
            "0.050000000000000044\n",
            "1.1737974224747236\n"
          ]
        }
      ]
    },
    {
      "cell_type": "markdown",
      "source": [
        "PREGUNTA 2 parcial"
      ],
      "metadata": {
        "id": "3_sKWBpr-DsM"
      }
    },
    {
      "cell_type": "code",
      "source": [
        "import numpy as np\n",
        "import matplotlib.pyplot as plt"
      ],
      "metadata": {
        "id": "lvWf77Hn5dCn"
      },
      "execution_count": null,
      "outputs": []
    },
    {
      "cell_type": "markdown",
      "source": [
        "$$\n",
        "\\int_ 0^3 (e^x)  dx = \n",
        "$$"
      ],
      "metadata": {
        "id": "jhJOKSz45Vo3"
      }
    },
    {
      "cell_type": "markdown",
      "source": [
        " metodo de Monte Carlo"
      ],
      "metadata": {
        "id": "Fd9AQW93LbOv"
      }
    },
    {
      "cell_type": "code",
      "source": [
        "N = 80004\n",
        "# limite inferior\n",
        "a = 1\n",
        "# limite superior\n",
        "b = np.sqirt3\n",
        "x = np.random.uniform(a, b, N)\n",
        "\n",
        "y =  np.exp((-x**2)/2)\n",
        "\n",
        "sumfx = np.sum(y)\n",
        "farea = ((b - a) / N) * sumfx\n",
        "print(\"El área es: \", farea)"
      ],
      "metadata": {
        "colab": {
          "base_uri": "https://localhost:8080/",
          "height": 372
        },
        "id": "sqGKXDCZozvp",
        "outputId": "1f104ef1-9f4c-4ecb-e476-2e8c346e8175"
      },
      "execution_count": null,
      "outputs": [
        {
          "output_type": "error",
          "ename": "AttributeError",
          "evalue": "ignored",
          "traceback": [
            "\u001b[0;31m---------------------------------------------------------------------------\u001b[0m",
            "\u001b[0;31mAttributeError\u001b[0m                            Traceback (most recent call last)",
            "\u001b[0;32m<ipython-input-7-6d5d68b308ac>\u001b[0m in \u001b[0;36m<module>\u001b[0;34m\u001b[0m\n\u001b[1;32m      3\u001b[0m \u001b[0ma\u001b[0m \u001b[0;34m=\u001b[0m \u001b[0;36m1\u001b[0m\u001b[0;34m\u001b[0m\u001b[0;34m\u001b[0m\u001b[0m\n\u001b[1;32m      4\u001b[0m \u001b[0;31m# limite superior\u001b[0m\u001b[0;34m\u001b[0m\u001b[0;34m\u001b[0m\u001b[0;34m\u001b[0m\u001b[0m\n\u001b[0;32m----> 5\u001b[0;31m \u001b[0mb\u001b[0m \u001b[0;34m=\u001b[0m \u001b[0mnp\u001b[0m\u001b[0;34m.\u001b[0m\u001b[0msqirt3\u001b[0m\u001b[0;34m\u001b[0m\u001b[0;34m\u001b[0m\u001b[0m\n\u001b[0m\u001b[1;32m      6\u001b[0m \u001b[0mx\u001b[0m \u001b[0;34m=\u001b[0m \u001b[0mnp\u001b[0m\u001b[0;34m.\u001b[0m\u001b[0mrandom\u001b[0m\u001b[0;34m.\u001b[0m\u001b[0muniform\u001b[0m\u001b[0;34m(\u001b[0m\u001b[0ma\u001b[0m\u001b[0;34m,\u001b[0m \u001b[0mb\u001b[0m\u001b[0;34m,\u001b[0m \u001b[0mN\u001b[0m\u001b[0;34m)\u001b[0m\u001b[0;34m\u001b[0m\u001b[0;34m\u001b[0m\u001b[0m\n\u001b[1;32m      7\u001b[0m \u001b[0;34m\u001b[0m\u001b[0m\n",
            "\u001b[0;32m/usr/local/lib/python3.7/dist-packages/numpy/__init__.py\u001b[0m in \u001b[0;36m__getattr__\u001b[0;34m(attr)\u001b[0m\n\u001b[1;32m    312\u001b[0m \u001b[0;34m\u001b[0m\u001b[0m\n\u001b[1;32m    313\u001b[0m             raise AttributeError(\"module {!r} has no attribute \"\n\u001b[0;32m--> 314\u001b[0;31m                                  \"{!r}\".format(__name__, attr))\n\u001b[0m\u001b[1;32m    315\u001b[0m \u001b[0;34m\u001b[0m\u001b[0m\n\u001b[1;32m    316\u001b[0m         \u001b[0;32mdef\u001b[0m \u001b[0m__dir__\u001b[0m\u001b[0;34m(\u001b[0m\u001b[0;34m)\u001b[0m\u001b[0;34m:\u001b[0m\u001b[0;34m\u001b[0m\u001b[0;34m\u001b[0m\u001b[0m\n",
            "\u001b[0;31mAttributeError\u001b[0m: module 'numpy' has no attribute 'sqirt3'"
          ]
        }
      ]
    }
  ]
}