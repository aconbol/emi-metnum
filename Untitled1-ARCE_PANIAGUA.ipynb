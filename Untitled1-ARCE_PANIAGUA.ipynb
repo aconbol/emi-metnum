{
  "nbformat": 4,
  "nbformat_minor": 0,
  "metadata": {
    "colab": {
      "provenance": [],
      "collapsed_sections": []
    },
    "kernelspec": {
      "name": "python3",
      "display_name": "Python 3"
    },
    "language_info": {
      "name": "python"
    }
  },
  "cells": [
    {
      "cell_type": "code",
      "execution_count": 10,
      "metadata": {
        "id": "OyMPQ3xDgLFC"
      },
      "outputs": [],
      "source": [
        "import numpy as np\n",
        "import matplotlib.pyplot as plt"
      ]
    },
    {
      "cell_type": "code",
      "source": [
        "#PRIMER EJERCICIO\n",
        "\n",
        "\n",
        "#metodo de rectangulos\n",
        "x = np.linspace(-1,1,20)\n",
        "y = x*(((x**2)+9)**1/2)\n",
        "y1 = y[0:-1]\n",
        "dx = x[1] - x[0]                        \n",
        "fArea = dx*np.sum(y1)                    \n",
        "print(\"Integral area:\",fArea)"
      ],
      "metadata": {
        "colab": {
          "base_uri": "https://localhost:8080/"
        },
        "id": "iVd3jFJ_gir3",
        "outputId": "987d25d6-09a3-42f0-c3ed-fff8d0dbc8fe"
      },
      "execution_count": 13,
      "outputs": [
        {
          "output_type": "stream",
          "name": "stdout",
          "text": [
            "Integral area: -0.5263157894736848\n"
          ]
        }
      ]
    },
    {
      "cell_type": "code",
      "source": [
        "#metodo de trapecios\n"
      ],
      "metadata": {
        "id": "dpG30f9ikdJI"
      },
      "execution_count": null,
      "outputs": []
    },
    {
      "cell_type": "code",
      "source": [
        "x = np.linspace(-1,1,20)\n",
        "y = x*(((x**2)+9)**1/2)\n",
        "y1 = y[1:-1]\n",
        "dx = x[1] - x[0]        \n",
        "fsum1 = np.sum(2*y1)\n",
        "fsum = fsum1 + y[0] + y[-1]\n",
        "fArea = (dx/2)*fsum     # \n",
        "print(fArea)"
      ],
      "metadata": {
        "colab": {
          "base_uri": "https://localhost:8080/"
        },
        "id": "zLjlkyjmkgEf",
        "outputId": "be0bfe58-cfd2-4b80-fddc-8c397b051afa"
      },
      "execution_count": 27,
      "outputs": [
        {
          "output_type": "stream",
          "name": "stdout",
          "text": [
            "-4.674623261579606e-16\n"
          ]
        }
      ]
    },
    {
      "cell_type": "code",
      "source": [
        "\n"
      ],
      "metadata": {
        "id": "vrGbuUNZkFCc"
      },
      "execution_count": null,
      "outputs": []
    },
    {
      "cell_type": "code",
      "source": [],
      "metadata": {
        "id": "_iQhnvwIki06"
      },
      "execution_count": null,
      "outputs": []
    },
    {
      "cell_type": "code",
      "source": [
        "#SEGUNDO EJERCICIO\n",
        "#METODO DE MONTE CARLO\n",
        "\n",
        "N = 87149\n",
        "a = 1\n",
        "b = 3**1/2\n",
        "x = np.random.uniform(a, b, N)\n",
        "\n",
        "y = 1/(1+x**2)\n",
        "\n",
        "sumfx = np.sum(y)\n",
        "farea = ((b - a) / N) * sumfx\n",
        "print(\"El área es: \", farea)\n"
      ],
      "metadata": {
        "colab": {
          "base_uri": "https://localhost:8080/"
        },
        "id": "tPgQulW8hO0V",
        "outputId": "18fde753-43cc-4547-f99f-c3b5397ca6ab"
      },
      "execution_count": 16,
      "outputs": [
        {
          "output_type": "stream",
          "name": "stdout",
          "text": [
            "El área es:  0.19728771668170006\n"
          ]
        }
      ]
    },
    {
      "cell_type": "code",
      "source": [
        "#TERCER EJERCICIO\n",
        "#SISTEMA DE ECUACIONES --- JACOBI\n"
      ],
      "metadata": {
        "id": "gdWaz-q1la-A"
      },
      "execution_count": null,
      "outputs": []
    },
    {
      "cell_type": "code",
      "source": [
        "from numpy import array, zeros, diag, diagflat, dot"
      ],
      "metadata": {
        "id": "poniXWtSoWP0"
      },
      "execution_count": 24,
      "outputs": []
    },
    {
      "cell_type": "code",
      "source": [
        "def jacobi(A,b,N=25,x=None):\n",
        "    \"\"\" AX=B - Jacobi Método Iterativo. \"\"\"\n",
        "  \n",
        "    if x is None:\n",
        "        x = zeros(len(A[0]))\n",
        "\n",
        "\n",
        "    D = diag(A)\n",
        "    R = A - diagflat(D)\n",
        "\n",
        "  \n",
        "    for i in range(N):\n",
        "        x = (b - dot(R,x)) / D\n",
        "    return x"
      ],
      "metadata": {
        "id": "Wwe8TWvJmNPs"
      },
      "execution_count": 22,
      "outputs": []
    },
    {
      "cell_type": "code",
      "source": [
        "A = array([[3, -1, 1],[2, 5, -2], [1, -1, -3]])\n",
        "b = array([4, -6,  6])\n",
        "\n",
        "sol = jacobi(A,b,N=3)"
      ],
      "metadata": {
        "id": "2g5IezNMnMOf"
      },
      "execution_count": 25,
      "outputs": []
    }
  ]
}