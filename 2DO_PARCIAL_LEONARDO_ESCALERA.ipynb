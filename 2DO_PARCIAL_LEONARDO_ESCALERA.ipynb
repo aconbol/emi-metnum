{
  "nbformat": 4,
  "nbformat_minor": 0,
  "metadata": {
    "colab": {
      "provenance": [],
      "collapsed_sections": [
        "VHxzXnM7foC1",
        "aX8QqAHej4oW",
        "R3TZWShWlYLj"
      ]
    },
    "kernelspec": {
      "name": "python3",
      "display_name": "Python 3"
    },
    "language_info": {
      "name": "python"
    }
  },
  "cells": [
    {
      "cell_type": "markdown",
      "source": [
        "###PREGUNTA 1\n",
        "- - -"
      ],
      "metadata": {
        "id": "VHxzXnM7foC1"
      }
    },
    {
      "cell_type": "code",
      "source": [
        "import numpy as np\n",
        "import matplotlib.pyplot as plt"
      ],
      "metadata": {
        "id": "aQsPVrn_gD-7"
      },
      "execution_count": 1,
      "outputs": []
    },
    {
      "cell_type": "markdown",
      "source": [
        "**a)RECTANGULO**"
      ],
      "metadata": {
        "id": "FZtpl0Fpf4vy"
      }
    },
    {
      "cell_type": "code",
      "source": [
        "x = np.linspace(-1,0,20)      \n",
        "y = x*np.sqrt(x**2 + 9)            \n",
        "y1 = y[0:-1]\n",
        "dx = x[1] - x[0]                   \n",
        "fArea1 = (dx*np.sum(y1))*(-1)              \n",
        "print(\"Integral area:\",fArea1)"
      ],
      "metadata": {
        "colab": {
          "base_uri": "https://localhost:8080/"
        },
        "id": "-SEdzEbef8On",
        "outputId": "35ec7b4e-eff5-41c5-b293-638c06e436af"
      },
      "execution_count": 23,
      "outputs": [
        {
          "output_type": "stream",
          "name": "stdout",
          "text": [
            "Integral area: 1.6242538278414327\n"
          ]
        }
      ]
    },
    {
      "cell_type": "code",
      "source": [
        "x = np.linspace(0,1,20)      \n",
        "y = x*np.sqrt(x**2 + 9)            \n",
        "y1 = y[0:-1]\n",
        "dx = x[1] - x[0]                   \n",
        "fArea2 = dx*np.sum(y1)              \n",
        "print(\"Integral area:\",fArea2)"
      ],
      "metadata": {
        "colab": {
          "base_uri": "https://localhost:8080/"
        },
        "id": "i-HR7gwPinmd",
        "outputId": "624bed60-e192-4236-dbd9-038b1add3fd2"
      },
      "execution_count": 8,
      "outputs": [
        {
          "output_type": "stream",
          "name": "stdout",
          "text": [
            "Integral area: 1.4578181615167827\n"
          ]
        }
      ]
    },
    {
      "cell_type": "code",
      "source": [
        "print(\"El área es:\", fArea1 + fArea2 )"
      ],
      "metadata": {
        "colab": {
          "base_uri": "https://localhost:8080/"
        },
        "id": "Z_v7xdpKi-DX",
        "outputId": "84a154e8-a10f-4de6-dd2a-b9edf6aa3ce6"
      },
      "execution_count": 21,
      "outputs": [
        {
          "output_type": "stream",
          "name": "stdout",
          "text": [
            "El área es: 2.9988541561958915\n"
          ]
        }
      ]
    },
    {
      "cell_type": "markdown",
      "source": [
        "**b)TRAPECIO**"
      ],
      "metadata": {
        "id": "6HMbfTsTiJQZ"
      }
    },
    {
      "cell_type": "code",
      "source": [
        "x = np.linspace(-1,0,20)        \n",
        "y = x*np.sqrt(x**2 + 9)                \n",
        "y1 = y[1:-1] \n",
        "dx = x[1] - x[0]                \n",
        "fsum1 = np.sum(2*y1)\n",
        "fsum = fsum1 + y[0] + y[-1]\n",
        "fArea1 = ((dx/2)*fsum)*(-1)             \n",
        "print(fArea1)"
      ],
      "metadata": {
        "colab": {
          "base_uri": "https://localhost:8080/"
        },
        "id": "O425yIXyiKga",
        "outputId": "8f1ebc6c-22b4-4493-e9b7-217297406c84"
      },
      "execution_count": 19,
      "outputs": [
        {
          "output_type": "stream",
          "name": "stdout",
          "text": [
            "1.541035994679107\n"
          ]
        }
      ]
    },
    {
      "cell_type": "code",
      "source": [
        "x = np.linspace(0,1,20)        \n",
        "y = x*np.sqrt(x**2 + 9)                \n",
        "y1 = y[1:-1] \n",
        "dx = x[1] - x[0]                \n",
        "fsum1 = np.sum(2*y1)\n",
        "fsum = fsum1 + y[0] + y[-1]\n",
        "fArea1 = ((dx/2)*fsum)           \n",
        "print(fArea1)"
      ],
      "metadata": {
        "colab": {
          "base_uri": "https://localhost:8080/"
        },
        "id": "oWB2W-vDn1I6",
        "outputId": "8ddb991e-072c-44eb-e132-37b514b49e88"
      },
      "execution_count": 20,
      "outputs": [
        {
          "output_type": "stream",
          "name": "stdout",
          "text": [
            "1.5410359946791086\n"
          ]
        }
      ]
    },
    {
      "cell_type": "code",
      "source": [
        "print(\"El área es:\", fArea1 + fArea2 )"
      ],
      "metadata": {
        "colab": {
          "base_uri": "https://localhost:8080/"
        },
        "id": "ycEljg3Rj2SC",
        "outputId": "cb516d15-91a4-44c5-ac74-cce792b58a73"
      },
      "execution_count": 22,
      "outputs": [
        {
          "output_type": "stream",
          "name": "stdout",
          "text": [
            "El área es: 2.9988541561958915\n"
          ]
        }
      ]
    },
    {
      "cell_type": "markdown",
      "source": [
        "###PREGUNTA 2 MONTECARLO\n",
        "- - -\n",
        "\n",
        "\n",
        "\n"
      ],
      "metadata": {
        "id": "aX8QqAHej4oW"
      }
    },
    {
      "cell_type": "code",
      "source": [
        "N = 84751     \n",
        "a = 1              \n",
        "b = np.sqrt(3)          \n",
        "x = np.random.uniform(a, b, N)\n",
        "\n",
        "y = 1/(1 + x**2)       \n",
        "\n",
        "sumfx = np.sum(y)\n",
        "farea = ((b - a) / N) * sumfx\n",
        "print(\"El área es: \", farea)"
      ],
      "metadata": {
        "colab": {
          "base_uri": "https://localhost:8080/"
        },
        "id": "mjSqGuKNj9Rg",
        "outputId": "8174ba7e-70eb-436d-e107-4d4723956242"
      },
      "execution_count": 11,
      "outputs": [
        {
          "output_type": "stream",
          "name": "stdout",
          "text": [
            "El área es:  0.2616068829490793\n"
          ]
        }
      ]
    },
    {
      "cell_type": "markdown",
      "source": [
        "### PREGUNTA 3 JACOBI\n",
        "- - -"
      ],
      "metadata": {
        "id": "R3TZWShWlYLj"
      }
    },
    {
      "cell_type": "code",
      "source": [
        "from numpy import array, zeros, diag, diagflat, dot"
      ],
      "metadata": {
        "id": "LPiLCJC2lcNb"
      },
      "execution_count": 13,
      "outputs": []
    },
    {
      "cell_type": "code",
      "source": [
        "def jacobi(A,b,N=25,x=None):\n",
        "    \"\"\" AX=B - Jacobi Método Iterativo. \"\"\"\n",
        "    # Crear la conjetura (hipótesis, supuesto) inicial\n",
        "    # Si se necesita\n",
        "    if x is None:\n",
        "        x = zeros(len(A[0]))\n",
        "\n",
        "    # Crear una matriz diagonalizada de A\n",
        "    D = diag(A)\n",
        "    R = A - diagflat(D)\n",
        "\n",
        "    # Iteración por N veces \n",
        "    for i in range(N):\n",
        "        x = (b - dot(R,x)) / D\n",
        "    return x"
      ],
      "metadata": {
        "id": "fy4N5vQClgcb"
      },
      "execution_count": 14,
      "outputs": []
    },
    {
      "cell_type": "code",
      "source": [
        "A = array([[3, -1, 1], [2, 5, -2], [1, -1, -3]])    \n",
        "b = array([4, -6, 6])                                  \n",
        "\n",
        "sol = jacobi(A,b,N=21)   "
      ],
      "metadata": {
        "id": "pQzKXopelgyL"
      },
      "execution_count": 30,
      "outputs": []
    },
    {
      "cell_type": "code",
      "source": [
        "print(\"A:\")\n",
        "print(A)\n",
        "print(\"b:\")\n",
        "print(b)\n",
        "print(\"x:\")\n",
        "print(sol)"
      ],
      "metadata": {
        "colab": {
          "base_uri": "https://localhost:8080/"
        },
        "id": "WZtj2CeRloPa",
        "outputId": "2c13464f-527b-42d9-d305-37794676f26b"
      },
      "execution_count": 31,
      "outputs": [
        {
          "output_type": "stream",
          "name": "stdout",
          "text": [
            "A:\n",
            "[[ 3 -1  1]\n",
            " [ 2  5 -2]\n",
            " [ 1 -1 -3]]\n",
            "b:\n",
            "[ 4 -6  6]\n",
            "x:\n",
            "[ 1.00001974 -1.99995264 -1.00005921]\n"
          ]
        }
      ]
    }
  ]
}