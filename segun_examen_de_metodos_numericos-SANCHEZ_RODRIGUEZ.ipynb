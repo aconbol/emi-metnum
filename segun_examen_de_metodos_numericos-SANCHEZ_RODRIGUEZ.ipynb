{
  "nbformat": 4,
  "nbformat_minor": 0,
  "metadata": {
    "colab": {
      "provenance": []
    },
    "kernelspec": {
      "name": "python3",
      "display_name": "Python 3"
    },
    "language_info": {
      "name": "python"
    }
  },
  "cells": [
    {
      "cell_type": "markdown",
      "source": [
        "  MARIA CRISTINA SANCHEZ RODRIGUEZ"
      ],
      "metadata": {
        "id": "AWiswDvQgBfP"
      }
    },
    {
      "cell_type": "markdown",
      "source": [
        "PREGUNTA 1\n"
      ],
      "metadata": {
        "id": "QDz25iUTgGBu"
      }
    },
    {
      "cell_type": "markdown",
      "source": [
        "rectangulo"
      ],
      "metadata": {
        "id": "IwaMcOcCkwC2"
      }
    },
    {
      "cell_type": "code",
      "source": [
        "import numpy as np\n",
        "import matplotlib.pyplot as plt"
      ],
      "metadata": {
        "id": "cF9EPtslhJQG"
      },
      "execution_count": 1,
      "outputs": []
    },
    {
      "cell_type": "code",
      "source": [
        "x = np.linspace(-1.1,1.1,20)\n",
        "print(x)\n",
        "print(type(x))\n",
        "y = x*np.sqrt(x**2+9)\n",
        "print(y)\n",
        "y1 = y[0:-1]\n",
        "dx = x[1] - x[0]                        # Ancho de cada rectángulo\n",
        "print(dx)\n",
        "fArea = dx*np.sum(y1)                    # Rectángulo ancho * alto, luego suma\n",
        "print(\"Integral area:\",fArea)"
      ],
      "metadata": {
        "id": "sS2Ze8vFgH1G",
        "colab": {
          "base_uri": "https://localhost:8080/"
        },
        "outputId": "2da4de2b-3721-4dd0-ff28-ba06445c1ef6"
      },
      "execution_count": 3,
      "outputs": [
        {
          "output_type": "stream",
          "name": "stdout",
          "text": [
            "[-1.1        -0.98421053 -0.86842105 -0.75263158 -0.63684211 -0.52105263\n",
            " -0.40526316 -0.28947368 -0.17368421 -0.05789474  0.05789474  0.17368421\n",
            "  0.28947368  0.40526316  0.52105263  0.63684211  0.75263158  0.86842105\n",
            "  0.98421053  1.1       ]\n",
            "<class 'numpy.ndarray'>\n",
            "[-3.51483997 -3.1074677  -2.71222161 -2.32786578 -1.9530991  -1.58655999\n",
            " -1.2268326  -0.87245443 -0.52192513 -0.17371655  0.17371655  0.52192513\n",
            "  0.87245443  1.2268326   1.58655999  1.9530991   2.32786578  2.71222161\n",
            "  3.1074677   3.51483997]\n",
            "0.11578947368421055\n",
            "Integral area: -0.4069814699682367\n"
          ]
        }
      ]
    },
    {
      "cell_type": "markdown",
      "source": [
        "trapecio"
      ],
      "metadata": {
        "id": "c-tSBd9bkyx_"
      }
    },
    {
      "cell_type": "code",
      "source": [
        "x = np.linspace(0,1,500)\n",
        "y =  x*np.sqrt(x**2+9)\n",
        "y1 = y[1:-1]\n",
        "dx = x[1] - x[0]        # Ancho de cada trapecio\n",
        "fsum1 = np.sum(2*y1)\n",
        "fsum = fsum1 + y[0] + y[-1]\n",
        "fArea = (dx/2)*fsum     # suma de areas del trapecio\n",
        "print(fArea)"
      ],
      "metadata": {
        "id": "dqTzprk3ko7-",
        "colab": {
          "base_uri": "https://localhost:8080/"
        },
        "outputId": "c4b506b1-2e3d-428a-eaba-43efff71bf05"
      },
      "execution_count": 4,
      "outputs": [
        {
          "output_type": "stream",
          "name": "stdout",
          "text": [
            "1.540925694036338\n"
          ]
        }
      ]
    },
    {
      "cell_type": "markdown",
      "source": [
        "PREGUNTA 2"
      ],
      "metadata": {
        "id": "CPhsibBUlisu"
      }
    },
    {
      "cell_type": "code",
      "source": [
        "N = 85049\n",
        "# limite inferior\n",
        "a = 1\n",
        "# limite superior\n",
        "b = np.sqrt(3)\n",
        "x = np.random.uniform(a, b, N)\n",
        "\n",
        "y = 1/ (1+x**2)\n",
        "\n",
        "sumfx = np.sum(y)\n",
        "farea = ((b - a) / N) * sumfx\n",
        "print(\"El área es: \", farea)"
      ],
      "metadata": {
        "id": "FSMHCEATlk2O",
        "colab": {
          "base_uri": "https://localhost:8080/"
        },
        "outputId": "c9d6174e-c0bb-48d0-8534-293ccf4aea4c"
      },
      "execution_count": 5,
      "outputs": [
        {
          "output_type": "stream",
          "name": "stdout",
          "text": [
            "El área es:  0.26154385124553897\n"
          ]
        }
      ]
    },
    {
      "cell_type": "markdown",
      "source": [
        "pregunta 3"
      ],
      "metadata": {
        "id": "I96YVmwDoBiG"
      }
    },
    {
      "cell_type": "code",
      "source": [
        "from numpy import array, zeros, diag, diagflat, dot"
      ],
      "metadata": {
        "id": "2KugVc5IoDal"
      },
      "execution_count": 6,
      "outputs": []
    },
    {
      "cell_type": "code",
      "source": [
        "A = array([[2.0,1.0],[5.0,7.0]])\n",
        "b = array([11.0,13.0])\n",
        "x = array([1.0,1.0])\n",
        "\n",
        "sol = jacobi(A,b,x=x)"
      ],
      "metadata": {
        "id": "4WxRUhzEoaVV"
      },
      "execution_count": null,
      "outputs": []
    },
    {
      "cell_type": "code",
      "source": [
        "print(\"A:\")\n",
        "print(A)\n",
        "print(\"b:\")\n",
        "print(b)\n",
        "print(\"x:\")\n",
        "print(sol)"
      ],
      "metadata": {
        "id": "X9HVJJ7ZpHp2"
      },
      "execution_count": null,
      "outputs": []
    }
  ]
}