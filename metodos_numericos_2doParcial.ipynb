{
  "nbformat": 4,
  "nbformat_minor": 0,
  "metadata": {
    "colab": {
      "provenance": []
    },
    "kernelspec": {
      "name": "python3",
      "display_name": "Python 3"
    },
    "language_info": {
      "name": "python"
    }
  },
  "cells": [
    {
      "cell_type": "markdown",
      "source": [
        "## Ejercicio 1"
      ],
      "metadata": {
        "id": "cT5muBAAFKkh"
      }
    },
    {
      "cell_type": "code",
      "execution_count": null,
      "metadata": {
        "id": "QQHQ1ZPZE3tj"
      },
      "outputs": [],
      "source": [
        "import numpy as np\n",
        "import matplotlib.pyplot as plt"
      ]
    },
    {
      "cell_type": "code",
      "source": [
        "plt.axvline(0, color='r')   # Eje de las ordenadas\n",
        "plt.axhline(0, color='r')   # Eje de las abscisas\n",
        "\n",
        "x = np.linspace(-1.1, 1.1, 100)\n",
        "y = x*np.sqrt(x**2+9)\n",
        "plt.plot(x, y)\n",
        "\n",
        "plt.grid()\n",
        "plt.show()"
      ],
      "metadata": {
        "colab": {
          "base_uri": "https://localhost:8080/",
          "height": 265
        },
        "id": "D1y-TxwWFOJs",
        "outputId": "db32201d-20af-4752-e47a-1404adc97bc3"
      },
      "execution_count": null,
      "outputs": [
        {
          "output_type": "display_data",
          "data": {
            "text/plain": [
              "<Figure size 432x288 with 1 Axes>"
            ],
            "image/png": "[encoded data removed]"
          },
          "metadata": {
            "needs_background": "light"
          }
        }
      ]
    },
    {
      "cell_type": "markdown",
      "source": [
        "### Método de Rectángulos"
      ],
      "metadata": {
        "id": "EVSb_rHDG3xf"
      }
    },
    {
      "cell_type": "code",
      "source": [
        "x = np.linspace(-1,0,10)\n",
        "y = x*np.sqrt(x**2+9)\n",
        "y1 = y[0:-1]\n",
        "dx = x[1] - x[0]                        # Ancho de cada rectángulo\n",
        "fAreaA = dx*np.sum(y1)                    # Rectángulo ancho * alto, luego suma\n",
        "print(\"Integral area A:\",fAreaA)"
      ],
      "metadata": {
        "colab": {
          "base_uri": "https://localhost:8080/"
        },
        "id": "v8LkeqTnHgV7",
        "outputId": "ee9dbc63-4d13-44a3-eac4-30e0ad933e9d"
      },
      "execution_count": null,
      "outputs": [
        {
          "output_type": "stream",
          "name": "stdout",
          "text": [
            "Integral area A: -1.7170999647067104\n"
          ]
        }
      ]
    },
    {
      "cell_type": "code",
      "source": [
        "x = np.linspace(0,1,10)\n",
        "y = x*np.sqrt(x**2+9)\n",
        "y1 = y[0:-1]\n",
        "dx = x[1] - x[0]                        # Ancho de cada rectángulo\n",
        "fAreaB = dx*np.sum(y1)                    # Rectángulo ancho * alto, luego suma\n",
        "print(\"Integral area A:\",fAreaB)"
      ],
      "metadata": {
        "colab": {
          "base_uri": "https://localhost:8080/"
        },
        "id": "Gb8Vgb3XIKyM",
        "outputId": "2017b7dd-4349-4f9f-a7b1-0e09f94de369"
      },
      "execution_count": null,
      "outputs": [
        {
          "output_type": "stream",
          "name": "stdout",
          "text": [
            "Integral area A: 1.3657357802435564\n"
          ]
        }
      ]
    },
    {
      "cell_type": "code",
      "source": [
        "print(\"Integral area = \", - fAreaA + fAreaB)"
      ],
      "metadata": {
        "colab": {
          "base_uri": "https://localhost:8080/"
        },
        "id": "gnUHLbXrIYrf",
        "outputId": "39231023-7115-46f4-823d-5e95452b90fa"
      },
      "execution_count": null,
      "outputs": [
        {
          "output_type": "stream",
          "name": "stdout",
          "text": [
            "Integral area =  3.082835744950267\n"
          ]
        }
      ]
    },
    {
      "cell_type": "markdown",
      "source": [
        "### Método de Trapecios"
      ],
      "metadata": {
        "id": "Do87EbwLIqMz"
      }
    },
    {
      "cell_type": "code",
      "source": [
        "x = np.linspace(-1,0,10)\n",
        "y = x*np.sqrt(x**2+9)\n",
        "y1 = y[1:-1]\n",
        "dx = x[1] - x[0]        # Ancho de cada trapecio\n",
        "fsum1 = np.sum(2*y1)\n",
        "fsum = fsum1 + y[0] + y[-1]\n",
        "fAreaA = (dx/2)*fsum     # suma de areas del trapecio\n",
        "print(fAreaA)"
      ],
      "metadata": {
        "colab": {
          "base_uri": "https://localhost:8080/"
        },
        "id": "VM1rsCisIwdF",
        "outputId": "c7faa96f-4d54-40db-edc8-a67e1bbb98f7"
      },
      "execution_count": null,
      "outputs": [
        {
          "output_type": "stream",
          "name": "stdout",
          "text": [
            "-1.5414178724751337\n"
          ]
        }
      ]
    },
    {
      "cell_type": "code",
      "source": [
        "x = np.linspace(0,1,10)\n",
        "y = x*np.sqrt(x**2+9)\n",
        "y1 = y[1:-1]\n",
        "dx = x[1] - x[0]        # Ancho de cada trapecio\n",
        "fsum1 = np.sum(2*y1)\n",
        "fsum = fsum1 + y[0] + y[-1]\n",
        "fAreaB = (dx/2)*fsum     # suma de areas del trapecio\n",
        "print(fAreaB)"
      ],
      "metadata": {
        "colab": {
          "base_uri": "https://localhost:8080/"
        },
        "id": "ljEv0FrdJKzh",
        "outputId": "a36eb62d-87e6-4f77-f15d-dbf0651f3766"
      },
      "execution_count": null,
      "outputs": [
        {
          "output_type": "stream",
          "name": "stdout",
          "text": [
            "1.541417872475133\n"
          ]
        }
      ]
    },
    {
      "cell_type": "code",
      "source": [
        "print(\"Integral area = \", - fAreaA + fAreaB)"
      ],
      "metadata": {
        "colab": {
          "base_uri": "https://localhost:8080/"
        },
        "id": "MX9mY4tkJSdQ",
        "outputId": "6ba10cf0-c55c-49e8-c0df-56fa2270b524"
      },
      "execution_count": null,
      "outputs": [
        {
          "output_type": "stream",
          "name": "stdout",
          "text": [
            "Integral area =  3.082835744950267\n"
          ]
        }
      ]
    },
    {
      "cell_type": "markdown",
      "source": [
        "## Ejercicio 2\n",
        "***\n",
        "Montecarlo"
      ],
      "metadata": {
        "id": "8tIUNYHywd1U"
      }
    },
    {
      "cell_type": "code",
      "source": [
        "# plt.axvline(0, color='r')   # Eje de las ordenadas\n",
        "plt.axhline(0, color='r')   # Eje de las abscisas\n",
        "\n",
        "x = np.linspace(0.9, np.sqrt(3)+.1, 100)\n",
        "y = 1/(1+x**2)\n",
        "plt.plot(x, y)\n",
        "\n",
        "plt.grid()\n",
        "plt.show()"
      ],
      "metadata": {
        "colab": {
          "base_uri": "https://localhost:8080/",
          "height": 265
        },
        "id": "9vPKUGgtxAWA",
        "outputId": "8a548833-d06f-47d3-df01-e4265d3ed1d1"
      },
      "execution_count": null,
      "outputs": [
        {
          "output_type": "display_data",
          "data": {
            "text/plain": [
              "<Figure size 432x288 with 1 Axes>"
            ],
            "image/png": "[encoded data removed]"
          },
          "metadata": {
            "needs_background": "light"
          }
        }
      ]
    },
    {
      "cell_type": "code",
      "source": [
        "N = 26505\n",
        "# limite inferior\n",
        "a = 1\n",
        "# limite superior\n",
        "b = np.sqrt(3)\n",
        "x = np.random.uniform(a, b, N)\n",
        "\n",
        "y = 1/(1+x**2)\n",
        "\n",
        "sumfx = np.sum(y)\n",
        "farea = ((b - a) * sumfx) / N\n",
        "print(\"El área es: \", farea) ##### 0.262596405492377"
      ],
      "metadata": {
        "colab": {
          "base_uri": "https://localhost:8080/"
        },
        "id": "O9n33R75wnrM",
        "outputId": "89d5a06a-218b-4625-8f31-a89695dd8e1d"
      },
      "execution_count": null,
      "outputs": [
        {
          "output_type": "stream",
          "name": "stdout",
          "text": [
            "El área es:  0.2620600260564366\n"
          ]
        }
      ]
    },
    {
      "cell_type": "code",
      "source": [
        "3**(1/2)"
      ],
      "metadata": {
        "colab": {
          "base_uri": "https://localhost:8080/"
        },
        "id": "kiwRxP-DGsA3",
        "outputId": "9e711106-dbdf-4469-c9f7-adfbea972225"
      },
      "execution_count": null,
      "outputs": [
        {
          "output_type": "execute_result",
          "data": {
            "text/plain": [
              "1.7320508075688772"
            ]
          },
          "metadata": {},
          "execution_count": 2
        }
      ]
    },
    {
      "cell_type": "markdown",
      "source": [
        "## Ejercicio 3\n",
        "***\n",
        "Jacobi"
      ],
      "metadata": {
        "id": "C9qgufCiwoMQ"
      }
    },
    {
      "cell_type": "code",
      "source": [
        "from numpy import array, zeros, diag, diagflat, dot"
      ],
      "metadata": {
        "id": "szDptYUcxQfg"
      },
      "execution_count": null,
      "outputs": []
    },
    {
      "cell_type": "code",
      "source": [
        "def jacobi(A,b,N=25,x=None):\n",
        "    \"\"\" AX=B - Jacobi Método Iterativo. \"\"\"\n",
        "    # Crear la conjetura (hipótesis, supuesto) inicial\n",
        "    # Si se necesita\n",
        "    if x is None:\n",
        "        x = zeros(len(A[0]))\n",
        "\n",
        "    # Crear una matriz diagonalizada de A\n",
        "    D = diag(A)\n",
        "    R = A - diagflat(D)\n",
        "\n",
        "    # Iteración por N veces \n",
        "    for i in range(N):\n",
        "        x = (b - dot(R,x)) / D\n",
        "    return x"
      ],
      "metadata": {
        "id": "niz9yw68wtQ4"
      },
      "execution_count": null,
      "outputs": []
    },
    {
      "cell_type": "code",
      "source": [
        "A = array([[3.0, -1.0, 1.0],[2.0, 5.0, -2.0], [1.0, -1.0, -3.0]])\n",
        "b = array([4.0, -6.0, 6.0])\n",
        "\n",
        "sol = jacobi(A,b,N=20)"
      ],
      "metadata": {
        "id": "TK0veLQixJdp"
      },
      "execution_count": null,
      "outputs": []
    },
    {
      "cell_type": "code",
      "source": [
        "print(\"x:\")\n",
        "print(sol)"
      ],
      "metadata": {
        "colab": {
          "base_uri": "https://localhost:8080/"
        },
        "id": "n9sdwKA0EPEi",
        "outputId": "ed6610f3-366a-454c-c861-3dc3d301821f"
      },
      "execution_count": null,
      "outputs": [
        {
          "output_type": "stream",
          "name": "stdout",
          "text": [
            "x:\n",
            "[ 0.99994776 -2.00012538 -0.99984328]\n"
          ]
        }
      ]
    },
    {
      "cell_type": "code",
      "source": [
        "print(\"x:\")\n",
        "print(sol)"
      ],
      "metadata": {
        "colab": {
          "base_uri": "https://localhost:8080/"
        },
        "id": "g_Q2qUX0ERnJ",
        "outputId": "2becac09-8d83-4d50-daa6-e8dff3155cad"
      },
      "execution_count": null,
      "outputs": [
        {
          "output_type": "stream",
          "name": "stdout",
          "text": [
            "x:\n",
            "[ 0.99990597 -1.99991642 -0.99997562]\n"
          ]
        }
      ]
    },
    {
      "cell_type": "code",
      "source": [
        "1 - 1.01222072/0.99743516"
      ],
      "metadata": {
        "colab": {
          "base_uri": "https://localhost:8080/"
        },
        "id": "LMYgV9pUEfnv",
        "outputId": "4344db39-be43-4592-de72-d4321c6cce34"
      },
      "execution_count": null,
      "outputs": [
        {
          "output_type": "execute_result",
          "data": {
            "text/plain": [
              "-0.014823580111212431"
            ]
          },
          "metadata": {},
          "execution_count": 43
        }
      ]
    },
    {
      "cell_type": "code",
      "source": [
        "print(\"A:\")\n",
        "print(A)\n",
        "print(\"b:\")\n",
        "print(b)\n",
        "print(\"x:\")\n",
        "print(sol)"
      ],
      "metadata": {
        "colab": {
          "base_uri": "https://localhost:8080/"
        },
        "id": "XyJTKeNqxYZi",
        "outputId": "8ecf0a4a-a85d-4843-cb73-69682a9d14ff"
      },
      "execution_count": null,
      "outputs": [
        {
          "output_type": "stream",
          "name": "stdout",
          "text": [
            "A:\n",
            "[[ 3. -1.  1.]\n",
            " [ 2.  5. -2.]\n",
            " [ 1. -1. -3.]]\n",
            "b:\n",
            "[ 4. -6.  6.]\n",
            "x:\n",
            "[ 1.04757202 -1.88582716 -1.14271605]\n"
          ]
        }
      ]
    },
    {
      "cell_type": "code",
      "source": [
        "print(\"A:\")\n",
        "print(A)\n",
        "print(\"b:\")\n",
        "print(b)\n",
        "print(\"x:\")\n",
        "print(sol)"
      ],
      "metadata": {
        "colab": {
          "base_uri": "https://localhost:8080/"
        },
        "id": "lOB8v9xvDtjt",
        "outputId": "84ecf4a1-7596-46fd-e9d8-d4c95e7e7f2a"
      },
      "execution_count": null,
      "outputs": [
        {
          "output_type": "stream",
          "name": "stdout",
          "text": [
            "A:\n",
            "[[ 3. -1.  1.]\n",
            " [ 2.  5. -2.]\n",
            " [ 1. -1. -3.]]\n",
            "b:\n",
            "[ 4. -6.  6.]\n",
            "x:\n",
            "[ 1.08562963 -2.07611523 -1.02220027]\n"
          ]
        }
      ]
    },
    {
      "cell_type": "code",
      "source": [
        "1 - 1.04757202/1.08562963"
      ],
      "metadata": {
        "colab": {
          "base_uri": "https://localhost:8080/"
        },
        "id": "4g3orUkXD5L_",
        "outputId": "fbe74a9f-2177-46c6-db7b-41801f51f320"
      },
      "execution_count": null,
      "outputs": [
        {
          "output_type": "execute_result",
          "data": {
            "text/plain": [
              "0.03505579522548574"
            ]
          },
          "metadata": {},
          "execution_count": 37
        }
      ]
    }
  ]
}