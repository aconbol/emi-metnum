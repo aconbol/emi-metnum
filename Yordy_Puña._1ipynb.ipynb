{
  "nbformat": 4,
  "nbformat_minor": 0,
  "metadata": {
    "colab": {
      "provenance": []
    },
    "kernelspec": {
      "name": "python3",
      "display_name": "Python 3"
    },
    "language_info": {
      "name": "python"
    }
  },
  "cells": [
    {
      "cell_type": "markdown",
      "source": [
        "### Ejerccio Nro 1\n",
        "____"
      ],
      "metadata": {
        "id": "RqCjYeXWYboc"
      }
    },
    {
      "cell_type": "code",
      "source": [
        "import numpy as np\n",
        "import matplotlib.pyplot as plt"
      ],
      "metadata": {
        "id": "nkkRAiNXYjNt"
      },
      "execution_count": null,
      "outputs": []
    },
    {
      "cell_type": "markdown",
      "source": [
        "Grafica"
      ],
      "metadata": {
        "id": "2dho_bt6YtKN"
      }
    },
    {
      "cell_type": "code",
      "source": [
        "plt.axvline(0, color='r')  #Eje de las Cordenadas\n",
        "plt.axhline(0, color='r')  #Eje de las Abscisas\n",
        "\n",
        "x = np.linspace(-0.6, 1.4, 100)\n",
        "y = 1+ np.exp**(-x)* np.cos(3x)\n",
        "plt.plot(x, y)\n",
        "\n",
        "plt.grid()\n",
        "plt.show()"
      ],
      "metadata": {
        "colab": {
          "base_uri": "https://localhost:8080/",
          "height": 131
        },
        "id": "DJ2XlyWLYvVq",
        "outputId": "2bc0974b-de27-4d73-c212-a5b6475d4670"
      },
      "execution_count": null,
      "outputs": [
        {
          "output_type": "error",
          "ename": "SyntaxError",
          "evalue": "ignored",
          "traceback": [
            "\u001b[0;36m  File \u001b[0;32m\"<ipython-input-7-203249093f25>\"\u001b[0;36m, line \u001b[0;32m5\u001b[0m\n\u001b[0;31m    y = 1 + np.exp**(-x)* np.cos(3x)\u001b[0m\n\u001b[0m                                  ^\u001b[0m\n\u001b[0;31mSyntaxError\u001b[0m\u001b[0;31m:\u001b[0m invalid syntax\n"
          ]
        }
      ]
    },
    {
      "cell_type": "code",
      "source": [
        "Metodo Rectangulo "
      ],
      "metadata": {
        "id": "2Z2X_XCeb9v0"
      },
      "execution_count": null,
      "outputs": []
    }
  ]
}