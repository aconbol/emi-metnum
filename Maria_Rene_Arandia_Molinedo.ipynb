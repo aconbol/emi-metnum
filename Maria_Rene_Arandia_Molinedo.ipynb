{
  "nbformat": 4,
  "nbformat_minor": 0,
  "metadata": {
    "colab": {
      "provenance": []
    },
    "kernelspec": {
      "name": "python3",
      "display_name": "Python 3"
    },
    "language_info": {
      "name": "python"
    }
  },
  "cells": [
    {
      "cell_type": "markdown",
      "source": [
        "###PREGUNTA 1\n",
        "- - - "
      ],
      "metadata": {
        "id": "0FXBhiPaZdpy"
      }
    },
    {
      "cell_type": "code",
      "source": [
        "import numpy as np\n",
        "import matplotlib.pyplot as plt"
      ],
      "metadata": {
        "id": "ksEdAZk_Y01m"
      },
      "execution_count": null,
      "outputs": []
    },
    {
      "cell_type": "markdown",
      "source": [
        "Rectangulos"
      ],
      "metadata": {
        "id": "kuhIGw5lYwg9"
      }
    },
    {
      "cell_type": "code",
      "source": [
        "x = np.linspace(-0.6,1.4,120)      \n",
        "y = 1+np.cos(3*x)*np.exp(-x)           \n",
        "y1 = y[0:-1]\n",
        "dx = x[1] - x[0]                   \n",
        "fArea = dx*np.sum(y1)              \n",
        "print(\"Integral area:\",fArea)"
      ],
      "metadata": {
        "colab": {
          "base_uri": "https://localhost:8080/"
        },
        "id": "IlB7jC3OZy3f",
        "outputId": "eaf17c66-8800-4e61-c38a-6a3ac9498b67"
      },
      "execution_count": null,
      "outputs": [
        {
          "output_type": "stream",
          "name": "stdout",
          "text": [
            "Integral area: 2.4359722102066876\n"
          ]
        }
      ]
    },
    {
      "cell_type": "markdown",
      "source": [
        "Trapecios"
      ],
      "metadata": {
        "id": "WfwvMckubmIh"
      }
    },
    {
      "cell_type": "code",
      "source": [
        "x = np.linspace(-0.6,1.4,100)        \n",
        "y = 1+np.cos(3*x)*np.exp(-x)                \n",
        "y1 = y[1:-1] \n",
        "dx = x[1] - x[0]                \n",
        "fsum1 = np.sum(2*y1)\n",
        "fsum = fsum1 + y[0] + y[-1]\n",
        "fArea = (dx/2)*fsum             \n",
        "print(fArea)"
      ],
      "metadata": {
        "colab": {
          "base_uri": "https://localhost:8080/"
        },
        "id": "4FkTzee8boQj",
        "outputId": "30a76d64-5a93-4231-a8ed-5fe10b7f7a4f"
      },
      "execution_count": null,
      "outputs": [
        {
          "output_type": "stream",
          "name": "stdout",
          "text": [
            "2.4383831067940376\n"
          ]
        }
      ]
    },
    {
      "cell_type": "markdown",
      "source": [
        "###PREGUNTA 2\n",
        "- - - "
      ],
      "metadata": {
        "id": "33s8xK3CZryU"
      }
    },
    {
      "cell_type": "markdown",
      "source": [
        "Montecarlo"
      ],
      "metadata": {
        "id": "Bg7Fu3vWeffh"
      }
    },
    {
      "cell_type": "code",
      "source": [
        "N = 10000000      \n",
        "a = -10000             \n",
        "b = 10000             \n",
        "x = np.random.uniform(a, b, N)\n",
        "\n",
        "y = 1/(1+x**2)       \n",
        "\n",
        "sumfx = np.sum(y)\n",
        "farea = ((b - a) / N) * sumfx\n",
        "print(\"El área es: \", farea)"
      ],
      "metadata": {
        "colab": {
          "base_uri": "https://localhost:8080/"
        },
        "id": "H2yzSs_AZ0IW",
        "outputId": "ece29c76-28db-4875-d84a-7770bcfcbf36"
      },
      "execution_count": null,
      "outputs": [
        {
          "output_type": "stream",
          "name": "stdout",
          "text": [
            "El área es:  3.116105360629955\n"
          ]
        }
      ]
    },
    {
      "cell_type": "markdown",
      "source": [
        "###PREGUNTA 3\n",
        "- - - "
      ],
      "metadata": {
        "id": "meXrZXibZwRM"
      }
    },
    {
      "cell_type": "code",
      "source": [
        "from numpy import array, zeros, diag, diagflat, dot"
      ],
      "metadata": {
        "id": "IYK_-PAIZ0k6"
      },
      "execution_count": null,
      "outputs": []
    },
    {
      "cell_type": "code",
      "source": [
        "def jacobi(A,b,N=25,x=None):\n",
        "    \"\"\" AX=B - Jacobi Método Iterativo. \"\"\"\n",
        "    \n",
        "\n",
        "    if x is None:\n",
        "        x = zeros(len(A[0]))\n",
        "\n",
        "    \n",
        "    D = diag(A)\n",
        "    R = A - diagflat(D)\n",
        "\n",
        "     \n",
        "    for i in range(N):\n",
        "        x = (b - dot(R,x)) / D\n",
        "    return x"
      ],
      "metadata": {
        "id": "9vkUwZ33giwy"
      },
      "execution_count": null,
      "outputs": []
    },
    {
      "cell_type": "code",
      "source": [
        "A = array([[3, -1, -1], [-1, 3, 1], [2, 1, 4]])    \n",
        "b = array([1, 3, 7])                                  \n",
        "\n",
        "sol = jacobi(A,b,N=20)   "
      ],
      "metadata": {
        "id": "5UreIseLgni3"
      },
      "execution_count": null,
      "outputs": []
    },
    {
      "cell_type": "code",
      "source": [
        "print(\"A:\")\n",
        "print(A)\n",
        "print(\"b:\")\n",
        "print(b)\n",
        "print(\"x:\")\n",
        "print(sol)"
      ],
      "metadata": {
        "colab": {
          "base_uri": "https://localhost:8080/"
        },
        "id": "HcI2UnFFgnhS",
        "outputId": "cc6d4765-9873-4930-9403-7550d30453eb"
      },
      "execution_count": null,
      "outputs": [
        {
          "output_type": "stream",
          "name": "stdout",
          "text": [
            "A:\n",
            "[[ 3 -1 -1]\n",
            " [-1  3  1]\n",
            " [ 2  1  4]]\n",
            "b:\n",
            "[1 3 7]\n",
            "x:\n",
            "[1. 1. 1.]\n"
          ]
        }
      ]
    }
  ]
}