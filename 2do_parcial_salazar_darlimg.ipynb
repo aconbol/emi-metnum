{
  "nbformat": 4,
  "nbformat_minor": 0,
  "metadata": {
    "colab": {
      "provenance": [],
      "collapsed_sections": []
    },
    "kernelspec": {
      "name": "python3",
      "display_name": "Python 3"
    },
    "language_info": {
      "name": "python"
    }
  },
  "cells": [
    {
      "cell_type": "markdown",
      "source": [
        "EJ 1)"
      ],
      "metadata": {
        "id": "RLJYbclnjSOH"
      }
    },
    {
      "cell_type": "code",
      "source": [
        "import numpy as np\n",
        "import matplotlib .pyplot as plt "
      ],
      "metadata": {
        "id": "R-P2O8uGjdjM"
      },
      "execution_count": 1,
      "outputs": []
    },
    {
      "cell_type": "code",
      "source": [
        "x = np.linspace(-1,1,20)\n",
        "print(x)\n",
        "print(type(x))\n",
        "y = (x)*np.sqrt(x**2+9)\n",
        "print(y)\n",
        "y1 = y[0:-1]\n",
        "dx = x[1] - x[0]                        # Ancho de cada rectángulo\n",
        "print(dx)\n",
        "fArea = dx*np.sum(y1)                    # Rectángulo ancho * alto, luego suma\n",
        "print(\"Integral area:\",fArea)"
      ],
      "metadata": {
        "colab": {
          "base_uri": "https://localhost:8080/"
        },
        "id": "YpBM3mcelds7",
        "outputId": "d007624b-89f2-4aed-b5e4-4bc3ebc38598"
      },
      "execution_count": 7,
      "outputs": [
        {
          "output_type": "stream",
          "name": "stdout",
          "text": [
            "[-1.         -0.89473684 -0.78947368 -0.68421053 -0.57894737 -0.47368421\n",
            " -0.36842105 -0.26315789 -0.15789474 -0.05263158  0.05263158  0.15789474\n",
            "  0.26315789  0.36842105  0.47368421  0.57894737  0.68421053  0.78947368\n",
            "  0.89473684  1.        ]\n",
            "<class 'numpy.ndarray'>\n",
            "[-3.16227766 -2.80104853 -2.4490574  -2.1053397  -1.7688884  -1.43865753\n",
            " -1.11356652 -0.79250524 -0.47433983 -0.15791903  0.15791903  0.47433983\n",
            "  0.79250524  1.11356652  1.43865753  1.7688884   2.1053397   2.4490574\n",
            "  2.80104853  3.16227766]\n",
            "0.10526315789473684\n",
            "Integral area: -0.33287133264930346\n"
          ]
        }
      ]
    },
    {
      "cell_type": "code",
      "source": [
        "x = np.linspace(-1,1,20)\n",
        "y = (x)*np.sqrt(x**2+9)\n",
        "y1 = y[1:-1]\n",
        "dx = x[1] - x[0]        # Ancho de cada trapecio\n",
        "fsum1 = np.sum(2*y1)\n",
        "fsum = fsum1 + y[0] + y[-1]\n",
        "fArea = (dx/2)*fsum     # suma de areas del trapecio\n",
        "print(fArea)"
      ],
      "metadata": {
        "colab": {
          "base_uri": "https://localhost:8080/"
        },
        "id": "XEjYMwFxm0is",
        "outputId": "91fb2672-251b-45d8-b696-2af97caaac28"
      },
      "execution_count": 9,
      "outputs": [
        {
          "output_type": "stream",
          "name": "stdout",
          "text": [
            "-2.8047739569477637e-16\n"
          ]
        }
      ]
    },
    {
      "cell_type": "markdown",
      "source": [
        "EJ 2)"
      ],
      "metadata": {
        "id": "FpQu9VQNoPtz"
      }
    },
    {
      "cell_type": "code",
      "source": [
        "N = 85480\n",
        "# limite inferior\n",
        "a = 1\n",
        "# limite superior\n",
        "b = np.sqrt(3)\n",
        "x = np.random.uniform(a, b, N)\n",
        "\n",
        "y = 1/ (1+x**2)\n",
        "\n",
        "sumfx = np.sum(y)\n",
        "farea = ((b - a) / N) * sumfx\n",
        "print(\"El área es: \", farea)"
      ],
      "metadata": {
        "colab": {
          "base_uri": "https://localhost:8080/"
        },
        "id": "6NjV_qL9oUaL",
        "outputId": "09eb5d71-40c1-412a-9304-42420550c028"
      },
      "execution_count": 10,
      "outputs": [
        {
          "output_type": "stream",
          "name": "stdout",
          "text": [
            "El área es:  0.26213293600485743\n"
          ]
        }
      ]
    },
    {
      "cell_type": "markdown",
      "source": [
        "EJ 3)"
      ],
      "metadata": {
        "id": "lsDlb0ampLc9"
      }
    },
    {
      "cell_type": "code",
      "source": [],
      "metadata": {
        "id": "dmJbd2OFpTON"
      },
      "execution_count": null,
      "outputs": []
    }
  ]
}