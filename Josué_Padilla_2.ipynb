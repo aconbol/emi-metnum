{
  "nbformat": 4,
  "nbformat_minor": 0,
  "metadata": {
    "colab": {
      "provenance": []
    },
    "kernelspec": {
      "name": "python3",
      "display_name": "Python 3"
    },
    "language_info": {
      "name": "python"
    }
  },
  "cells": [
    {
      "cell_type": "code",
      "execution_count": null,
      "metadata": {
        "id": "apnARh7HSsys"
      },
      "outputs": [],
      "source": [
        "import numpy as np\n",
        "import matplotlib.pyplot as plt"
      ]
    },
    {
      "cell_type": "code",
      "source": [
        ":$$\n",
        "in_"
      ],
      "metadata": {
        "id": "lciFCJ2UYmB3"
      },
      "execution_count": null,
      "outputs": []
    },
    {
      "cell_type": "code",
      "source": [
        "x = np.linspace(-0.6 , 1.4 , 120)\n",
        "y = 1+np.exp(-x)np.cos(3*x)\n",
        "y1= y[0:3]\n",
        "dx = -x[0] + x[3]\n",
        "fArea = dx*np.sum(y1)\n",
        "print(\"integral area :\" , fArea)"
      ],
      "metadata": {
        "colab": {
          "base_uri": "https://localhost:8080/",
          "height": 130
        },
        "id": "x861x8GOY_ZO",
        "outputId": "9de5f4ca-d7b9-48f0-f4ee-07da67f45b43"
      },
      "execution_count": null,
      "outputs": [
        {
          "output_type": "error",
          "ename": "SyntaxError",
          "evalue": "ignored",
          "traceback": [
            "\u001b[0;36m  File \u001b[0;32m\"<ipython-input-9-6595daf0f155>\"\u001b[0;36m, line \u001b[0;32m2\u001b[0m\n\u001b[0;31m    y = 1+np.exp(-x)np.cos(3*x)\u001b[0m\n\u001b[0m                     ^\u001b[0m\n\u001b[0;31mSyntaxError\u001b[0m\u001b[0;31m:\u001b[0m invalid syntax\n"
          ]
        }
      ]
    },
    {
      "cell_type": "markdown",
      "source": [
        "pregunta 1\n",
        "\n",
        "\n",
        "\n",
        "\n"
      ],
      "metadata": {
        "id": "S3VlpM8vdVaM"
      }
    },
    {
      "cell_type": "markdown",
      "source": [
        "pregunta 2"
      ],
      "metadata": {
        "id": "HtCDlTcneM9c"
      }
    },
    {
      "cell_type": "code",
      "source": [
        "import numpy as np\n",
        "import matplotlib.pyplot as plt"
      ],
      "metadata": {
        "id": "3gfWRaC1eAfF"
      },
      "execution_count": null,
      "outputs": []
    },
    {
      "cell_type": "code",
      "source": [
        "N = 10000000\n",
        "a = -10000\n",
        "b = 10000\n",
        "x = np.random.uniform(a, b, N)\n",
        "y = np.exp.(x**2)"
      ],
      "metadata": {
        "id": "aTogFkBUeLU0"
      },
      "execution_count": null,
      "outputs": []
    }
  ]
}