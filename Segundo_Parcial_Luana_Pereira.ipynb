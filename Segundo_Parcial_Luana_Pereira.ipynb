{
  "nbformat": 4,
  "nbformat_minor": 0,
  "metadata": {
    "colab": {
      "provenance": [],
      "collapsed_sections": []
    },
    "kernelspec": {
      "name": "python3",
      "display_name": "Python 3"
    },
    "language_info": {
      "name": "python"
    }
  },
  "cells": [
    {
      "cell_type": "markdown",
      "source": [
        "#***SEHUNDO PARCIAL - METODOS NUMERICOS***"
      ],
      "metadata": {
        "id": "GNx70gP0eExY"
      }
    },
    {
      "cell_type": "markdown",
      "source": [
        "#**Ejercicio 1**"
      ],
      "metadata": {
        "id": "Zypqi0kwfXYw"
      }
    },
    {
      "cell_type": "code",
      "source": [
        "import numpy as np\n",
        "import matplotlib.pyplot as plt"
      ],
      "metadata": {
        "id": "1Ul7cA6NgROg"
      },
      "execution_count": 1,
      "outputs": []
    },
    {
      "cell_type": "markdown",
      "source": [
        "**Grafica**"
      ],
      "metadata": {
        "id": "HOh7gtEpfp5n"
      }
    },
    {
      "cell_type": "code",
      "source": [
        "plt.axvline(0, color='r')   # Eje de las ordenadas\n",
        "plt.axhline(0, color='r')   # Eje de las abscisas\n",
        "\n",
        "x = np.linspace(-1, 1, 300)                       #Donde empieza ; Donde acabca ; Cantidad de Segmentos que tendra               \n",
        "y = x*np.sqrt(x**2+9)                             #Funcion \"Aqui se cambia\"\n",
        "plt.plot(x, y)\n",
        "\n",
        "plt.grid()\n",
        "plt.show()"
      ],
      "metadata": {
        "colab": {
          "base_uri": "https://localhost:8080/",
          "height": 265
        },
        "id": "G36eznCmfALs",
        "outputId": "9ddfa4f9-b8c7-4e0f-f512-8b756a21235d"
      },
      "execution_count": 2,
      "outputs": [
        {
          "output_type": "display_data",
          "data": {
            "text/plain": [
              "<Figure size 432x288 with 1 Axes>"
            ],
            "image/png": "[encoded data removed]"
          },
          "metadata": {
            "needs_background": "light"
          }
        }
      ]
    },
    {
      "cell_type": "markdown",
      "source": [
        "**Metodos de Rectangulos**"
      ],
      "metadata": {
        "id": "xCNR0dMYh4W-"
      }
    },
    {
      "cell_type": "code",
      "source": [
        "import numpy as np\n",
        "import matplotlib.pyplot as plt"
      ],
      "metadata": {
        "id": "_Ugosebph-WP"
      },
      "execution_count": 5,
      "outputs": []
    },
    {
      "cell_type": "code",
      "source": [
        "x = np.linspace(-1,1,20)                      #Donde incia; Donde acaba ; Cantidad de Rectangulos que tiene para excatitud\n",
        "y =x*np.sqrt(x**2+9)                         \n",
        "y1 = y[0:-1]\n",
        "dx = x[1] - x[0]                             # Ancho de cada rectángulo\n",
        "fArea = dx*np.sum(y1)                        # Rectángulo ancho * alto, luego suma\n",
        "print(\"Integral area:\",fArea)"
      ],
      "metadata": {
        "colab": {
          "base_uri": "https://localhost:8080/"
        },
        "id": "X2XUBKr3iFEv",
        "outputId": "831bac49-3d9d-49fb-f1db-f9c1db704231"
      },
      "execution_count": 26,
      "outputs": [
        {
          "output_type": "stream",
          "name": "stdout",
          "text": [
            "Integral area: -0.33287133264930346\n"
          ]
        }
      ]
    },
    {
      "cell_type": "markdown",
      "source": [
        "**Metodos Trapecios**"
      ],
      "metadata": {
        "id": "FyamWtwliZ2K"
      }
    },
    {
      "cell_type": "code",
      "source": [
        "import numpy as np\n",
        "import matplotlib.pyplot as plt"
      ],
      "metadata": {
        "id": "P9LZrsf8id-S"
      },
      "execution_count": 4,
      "outputs": []
    },
    {
      "cell_type": "code",
      "source": [
        "x = np.linspace(-1,1,20)                    #Donde inicia; Donde acaba ; Cantidad de Trapecios para exactitud\n",
        "y =  x*np.sqrt(x**2+9)                    \n",
        "y1 = y[1:-1]\n",
        "dx = x[1] - x[0]                            # Ancho de cada trapecio\n",
        "fsum1 = np.sum(2*y1)                        #Solo multiplica los internos y por eso agarra solo la parte de \"y1\"\n",
        "fsum = fsum1 + y[0] + y[-1]                 #Suman los valores de \"a\" y la imagen de \"f(b)\"\"\n",
        "fArea = (dx/2)*fsum                         # suma de areas del trapecio\n",
        "print(\"Integral Area:\" ,fArea)"
      ],
      "metadata": {
        "colab": {
          "base_uri": "https://localhost:8080/"
        },
        "id": "3EnYCaaBiiIa",
        "outputId": "75f06926-6331-4097-9cd3-f6522d1062ca"
      },
      "execution_count": 12,
      "outputs": [
        {
          "output_type": "stream",
          "name": "stdout",
          "text": [
            "Integral Area: -2.8047739569477637e-16\n"
          ]
        }
      ]
    },
    {
      "cell_type": "markdown",
      "source": [
        "**Error**"
      ],
      "metadata": {
        "id": "S-fUZFFZjBFn"
      }
    },
    {
      "cell_type": "code",
      "source": [
        "import scipy.integrate as integrate        #Importar la Libreria SPICY  / #Siempre primero hacer correr esto, osino sale error.\n",
        "                                           #Numpy = Maneja arreglos y vectores\n",
        "import   math                              #Importar Libreria MATH"
      ],
      "metadata": {
        "id": "pyJuFbzujGF9"
      },
      "execution_count": 7,
      "outputs": []
    },
    {
      "cell_type": "code",
      "source": [
        "#Integral por el Metodo QUAD                                        #Integrate = es la Libreria Spicy, que le hicimos el cambio de nombre.\n",
        "res = integrate.quad(lambda x: x*np.sqrt(x**2+9), -1, 1)             #quad = Es el metodo por el que vamos a resolver.\n",
        "                                                                    #lambda = significa o da a entender que es una Funcion.\n",
        "print(\"Resultado de la Integral es:\" ,res)                          #Muestra el resultado primero y a lado el error.\n",
        "\n",
        "#Cuando introducimos la funcion en la misma linea se pone la palabra \"LAMBDA\""
      ],
      "metadata": {
        "colab": {
          "base_uri": "https://localhost:8080/"
        },
        "id": "NtvnCtjkj-Id",
        "outputId": "17dd41de-56c9-4f0d-e547-681b6b1088aa"
      },
      "execution_count": 8,
      "outputs": [
        {
          "output_type": "stream",
          "name": "stdout",
          "text": [
            "Resultado de la Integral es: (0.0, 3.409126508521985e-14)\n"
          ]
        }
      ]
    },
    {
      "cell_type": "markdown",
      "source": [
        "#***Ejercicio 2***"
      ],
      "metadata": {
        "id": "w1NRf_6pknnN"
      }
    },
    {
      "cell_type": "markdown",
      "source": [
        "**Metodo de Monte Carlo**"
      ],
      "metadata": {
        "id": "TVmRb0uakutl"
      }
    },
    {
      "cell_type": "code",
      "source": [
        "import numpy as np\n",
        "import matplotlib.pyplot as plt"
      ],
      "metadata": {
        "id": "parXmnhKktf9"
      },
      "execution_count": 10,
      "outputs": []
    },
    {
      "cell_type": "code",
      "source": [
        "#Monte Carlos es un metodo computacional\n",
        "\n",
        "N = 7000000                                         #Este metodo necesita que uno ponga numeros grandes, para que tenga mas exactitud\n",
        "# limite inferior\n",
        "a = np.sqrt(3)                                       #\"Cambia el limite inferior de la Integral\"                   \n",
        "# limite superior\n",
        "b = 1                                               #\"Cambia el Limite superior de la Integral\"\n",
        "x = np.random.uniform(a, b, N)                      #El punto es aleatorio, en cualquier lugar / Es un elemento probabilistico \n",
        "                                                    #Saca una distribucion uniforme, como una campana de GAUSS\n",
        "y = 1/(1+x**2)                \n",
        "\n",
        "sumfx = np.sum(y)\n",
        "farea = ((b - a) / N) * sumfx\n",
        "print(\"El área es: \", farea)"
      ],
      "metadata": {
        "colab": {
          "base_uri": "https://localhost:8080/"
        },
        "id": "_EzmT2sKk1vV",
        "outputId": "49706d8f-e112-4d5f-9f29-d2f81528702c"
      },
      "execution_count": 14,
      "outputs": [
        {
          "output_type": "stream",
          "name": "stdout",
          "text": [
            "El área es:  -0.26178489788714593\n"
          ]
        }
      ]
    },
    {
      "cell_type": "markdown",
      "source": [
        "#***Ejercicio 3***"
      ],
      "metadata": {
        "id": "Ag4tnbCClp5l"
      }
    },
    {
      "cell_type": "code",
      "source": [
        "from numpy import array, zeros, diag, diagflat, dot"
      ],
      "metadata": {
        "id": "U3z-e62llvls"
      },
      "execution_count": 15,
      "outputs": []
    },
    {
      "cell_type": "code",
      "source": [
        "def jacobi(A,b,N=25,x=None):                                  #En JACOBI ya esta hecho esto y no se debe de cambiar nada de aqui....\n",
        "    \"\"\" AX=B - Jacobi Método Iterativo. \"\"\"\n",
        "    # Crear la conjetura (hipótesis, supuesto) inicial\n",
        "    # Si se necesita\n",
        "    if x is None:\n",
        "        x = zeros(len(A[0]))                                  #len=pide la longitud del vector / Genera una matriz de ceros [0. , 0. , 0., ]\n",
        "\n",
        "    # Crear una matriz diagonalizada de A\n",
        "    D = diag(A)                                              #diag = agarra los elementos de la diagonal\n",
        "    R = A - diagflat(D)                                      #diagdlat = genera una matriz diagonal con esos elmentos \n",
        "                                                             #Le resta A para que asi sea con zeros y seia la matriz R\n",
        "    # Iteración por N veces \n",
        "    for i in range(N):\n",
        "        x = (b - dot(R,x)) / D                                #dot = es el producto o la multiplicacion \n",
        "    return x"
      ],
      "metadata": {
        "id": "oAR3JS4llyp9"
      },
      "execution_count": 20,
      "outputs": []
    },
    {
      "cell_type": "code",
      "source": [
        "A = array([[3., -1., 1.], [2., 5., -2.], [1., -1., -3.]])                     #Tenemos que Ordenadar con la matriz dominante /#\"Se Cambia\"\n",
        "b = array([4., -6., 6.])                                                      #Lado derecho de lo que es igualado la matriz  /#\"Se Cambia\"\n",
        " \n",
        "sol = jacobi(A,b,N=30)    "
      ],
      "metadata": {
        "id": "xJxBIUxAl611"
      },
      "execution_count": 63,
      "outputs": []
    },
    {
      "cell_type": "code",
      "source": [
        "print(\"A:\")\n",
        "print(A)\n",
        "print(\"b:\")\n",
        "print(b)\n",
        "print(\"x:\")\n",
        "print(sol)\n",
        "print(\"Tolerancia\")\n",
        "print(1-np.absolute(sol-1/sol))"
      ],
      "metadata": {
        "colab": {
          "base_uri": "https://localhost:8080/"
        },
        "id": "DF4G0hGYmyH8",
        "outputId": "52a71cc0-61ae-4097-d8c0-884827705535"
      },
      "execution_count": 65,
      "outputs": [
        {
          "output_type": "stream",
          "name": "stdout",
          "text": [
            "A:\n",
            "[[ 3. -1.  1.]\n",
            " [ 2.  5. -2.]\n",
            " [ 1. -1. -3.]]\n",
            "b:\n",
            "[ 4. -6.  6.]\n",
            "x:\n",
            "[ 1.00000072 -2.00000064 -1.00000019]\n",
            "Tolerancia\n",
            "[ 0.99999855 -0.5000008   0.99999962]\n"
          ]
        }
      ]
    }
  ]
}