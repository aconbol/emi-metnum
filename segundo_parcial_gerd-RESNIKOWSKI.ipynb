{
  "nbformat": 4,
  "nbformat_minor": 0,
  "metadata": {
    "colab": {
      "provenance": []
    },
    "kernelspec": {
      "name": "python3",
      "display_name": "Python 3"
    },
    "language_info": {
      "name": "python"
    }
  },
  "cells": [
    {
      "cell_type": "markdown",
      "source": [
        "###*** 1 metodo rectangulo***\n"
      ],
      "metadata": {
        "id": "sR_WtSy_fv_-"
      }
    },
    {
      "cell_type": "code",
      "execution_count": 1,
      "metadata": {
        "id": "I1P6vPxKG7pG"
      },
      "outputs": [],
      "source": [
        "import numpy as np\n",
        "import matplotlib.pyplot as plt\n"
      ]
    },
    {
      "cell_type": "code",
      "source": [
        "x = np.linspace(-1,1,20)                    \n",
        "y = x*(((x**2) +9)**1/2)      \n",
        "y1 = y[0:-1]\n",
        "dx = x[1] - x[0]                            \n",
        "fArea = dx*np.sum(y1)                        \n",
        "print(\"Integral area:\",fArea)"
      ],
      "metadata": {
        "colab": {
          "base_uri": "https://localhost:8080/"
        },
        "id": "TOeMuyPkf7JF",
        "outputId": "d5fadb24-ebfe-4cee-a027-bf4a1d3babb4"
      },
      "execution_count": 8,
      "outputs": [
        {
          "output_type": "stream",
          "name": "stdout",
          "text": [
            "Integral area: -0.5263157894736848\n"
          ]
        }
      ]
    },
    {
      "cell_type": "markdown",
      "source": [
        "###***1 metodo trapecios***\n"
      ],
      "metadata": {
        "id": "x30wRUiRhX1N"
      }
    },
    {
      "cell_type": "markdown",
      "source": [],
      "metadata": {
        "id": "JZZqHxFYhCat"
      }
    },
    {
      "cell_type": "code",
      "source": [
        "import numpy as np\n",
        "import matplotlib.pyplot as plt"
      ],
      "metadata": {
        "id": "WSSgwJW_hxyt"
      },
      "execution_count": 16,
      "outputs": []
    },
    {
      "cell_type": "code",
      "source": [
        "x = np.linspace(-1,1,20)                  \n",
        "y = x*(((x**2) +9)**1/2)        \n",
        "y1 = y[1:-1]\n",
        "dx = x[1] - x[0]                           \n",
        "fsum1 = np.sum(2*y1)                       \n",
        "fsum = fsum1 + y[0] + y[-1]                 \n",
        "fArea = (dx/2)*fsum                        \n",
        "print(\"Integral Area:\" ,fArea)"
      ],
      "metadata": {
        "colab": {
          "base_uri": "https://localhost:8080/"
        },
        "id": "939omCaziQos",
        "outputId": "c345e0d5-d0d9-4cff-9cde-43ee34561be1"
      },
      "execution_count": 9,
      "outputs": [
        {
          "output_type": "stream",
          "name": "stdout",
          "text": [
            "Integral Area: -4.674623261579606e-16\n"
          ]
        }
      ]
    },
    {
      "cell_type": "markdown",
      "source": [
        "###***error***\n"
      ],
      "metadata": {
        "id": "zC6j0fLQjdKD"
      }
    },
    {
      "cell_type": "code",
      "source": [],
      "metadata": {
        "id": "sDdr7LqAjjzE"
      },
      "execution_count": null,
      "outputs": []
    },
    {
      "cell_type": "markdown",
      "source": [
        "###***2 monte carlo***\n"
      ],
      "metadata": {
        "id": "bb7xOtrXjlUU"
      }
    },
    {
      "cell_type": "code",
      "source": [
        "import numpy as np\n",
        "import matplotlib.pyplot as plt"
      ],
      "metadata": {
        "id": "jnXo5xFckPtD"
      },
      "execution_count": 17,
      "outputs": []
    },
    {
      "cell_type": "code",
      "source": [
        "N = 85758                                         \n",
        "a = 1                                                                 \n",
        "b = 3**1/2                                              \n",
        "x = np.random.uniform(a, b, N)                      \n",
        "                                                    \n",
        "y =1/(1+x**2)                 \n",
        "\n",
        "sumfx = np.sum(y)\n",
        "farea = ((b - a) / N) * sumfx\n",
        "print(\"El área es: \", farea)"
      ],
      "metadata": {
        "colab": {
          "base_uri": "https://localhost:8080/"
        },
        "id": "Q66Kqy-BkTND",
        "outputId": "ea24d224-8b13-4f6c-d370-cd292883e5fd"
      },
      "execution_count": 14,
      "outputs": [
        {
          "output_type": "stream",
          "name": "stdout",
          "text": [
            "El área es:  0.19734811761300922\n"
          ]
        }
      ]
    },
    {
      "cell_type": "markdown",
      "source": [
        "###***3jacobi***"
      ],
      "metadata": {
        "id": "guUmsnLqlSd9"
      }
    },
    {
      "cell_type": "code",
      "source": [
        "from numpy import array, zeros, diag, diagflat, dot"
      ],
      "metadata": {
        "id": "6xNJVGWgobAC"
      },
      "execution_count": 26,
      "outputs": []
    },
    {
      "cell_type": "code",
      "source": [
        "def jacobi(A,b,N=25,x=None):                                \n",
        "    \"\"\" AX=B - Jacobi Método Iterativo. \"\"\"\n",
        "    \n",
        "  \n",
        "    if x is None:\n",
        "        x = zeros(len(A[0]))                                 \n",
        "    \n",
        "    D = diag(A)                                            \n",
        "    R = A - diagflat(D)                                   \n",
        "                                                        \n",
        "    \n",
        "    for i in range(N):\n",
        "        x = (b - dot(R,x)) / D                              \n",
        "    return x"
      ],
      "metadata": {
        "id": "Bz0w6bAqmJ6a"
      },
      "execution_count": 31,
      "outputs": []
    },
    {
      "cell_type": "code",
      "source": [
        "A = array([[3, -1, 1], [2, 5, -2], [1, -1, -3]])                    \n",
        "b = array([4, -6, 6])                                                   \n",
        " \n",
        "sol = jacobi(A,b,N=3)"
      ],
      "metadata": {
        "id": "fsjACST7ovvy"
      },
      "execution_count": 35,
      "outputs": []
    },
    {
      "cell_type": "code",
      "source": [
        "print(\"A:\")\n",
        "print(A)\n",
        "print(\"b:\")\n",
        "print(b)\n",
        "print(\"x:\")\n",
        "print(sol)"
      ],
      "metadata": {
        "colab": {
          "base_uri": "https://localhost:8080/"
        },
        "id": "DLKCjaCKpfG6",
        "outputId": "0905ea14-606f-4f6b-9920-e3efe5a49c30"
      },
      "execution_count": 36,
      "outputs": [
        {
          "output_type": "stream",
          "name": "stdout",
          "text": [
            "A:\n",
            "[[ 3 -1  1]\n",
            " [ 2  5 -2]\n",
            " [ 1 -1 -3]]\n",
            "b:\n",
            "[ 4 -6  6]\n",
            "x:\n",
            "[ 0.87407407 -2.30222222 -0.62222222]\n"
          ]
        }
      ]
    }
  ]
}