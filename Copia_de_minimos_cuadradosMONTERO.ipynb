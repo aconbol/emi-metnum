{
  "nbformat": 4,
  "nbformat_minor": 0,
  "metadata": {
    "colab": {
      "provenance": [],
      "toc_visible": true
    },
    "kernelspec": {
      "name": "python3",
      "display_name": "Python 3"
    },
    "language_info": {
      "name": "python"
    }
  },
  "cells": [
    {
      "cell_type": "code",
      "execution_count": null,
      "metadata": {
        "id": "OJt0T27uBn0G"
      },
      "outputs": [],
      "source": [
        "import numpy as np\n",
        "from sklearn.linear_model import LinearRegression\n",
        "from sklearn.metrics import r2_score\n",
        "import mat"
      ]
    },
    {
      "cell_type": "code",
      "source": [],
      "metadata": {
        "id": "f8BlOlu1CzoU"
      },
      "execution_count": null,
      "outputs": []
    },
    {
      "cell_type": "code",
      "source": [
        "model = LinearRegression()\n",
        "model.fit(xi, yv1)\n",
        "interseccion = model.intercept\n",
        "print(\"coef_\", model.coef)\n",
        "pendiente=model.coef_[0]\n",
        "print(\"Ecuacion de la recta y = ´{0}x + {1}\".format(pendiente,interseccion) )"
      ],
      "metadata": {
        "id": "bRVAdQe7DAkk"
      },
      "execution_count": null,
      "outputs": []
    },
    {
      "cell_type": "code",
      "source": [
        "r_sc = model.score(xi, yv1)\n",
        "print(\"El r^2 es : \" r_sc)"
      ],
      "metadata": {
        "id": "0P-FtPrTFHC-"
      },
      "execution_count": null,
      "outputs": []
    },
    {
      "cell_type": "code",
      "source": [
        "y_p = pendiente*xi + interseccion\n",
        "print(y_p)\n",
        "print(yv1)"
      ],
      "metadata": {
        "id": "rmHKwvJRGI8e"
      },
      "execution_count": null,
      "outputs": []
    },
    {
      "cell_type": "code",
      "source": [
        "x_nuevo = np.array([[11.6]])\n",
        "model.predict(x_nuevo)"
      ],
      "metadata": {
        "id": "uW-Zk1yLG3U-"
      },
      "execution_count": null,
      "outputs": []
    },
    {
      "cell_type": "code",
      "source": [
        "plt.scatter(xv1, yv1, color=\"blue\")\n",
        "plt.plot(xv1,y_p,color=\"red\")\n",
        "plt.title(\"Regresion lineal\", fontsize=16)\n",
        "#lineas de error\n",
        "n = len(xv1)\n",
        "for i in range(0,n):\n",
        "  "
      ],
      "metadata": {
        "id": "RROVYT2lITI-"
      },
      "execution_count": null,
      "outputs": []
    }
  ]
}