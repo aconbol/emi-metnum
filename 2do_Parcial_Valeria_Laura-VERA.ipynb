{
  "nbformat": 4,
  "nbformat_minor": 0,
  "metadata": {
    "colab": {
      "provenance": []
    },
    "kernelspec": {
      "name": "python3",
      "display_name": "Python 3"
    },
    "language_info": {
      "name": "python"
    }
  },
  "cells": [
    {
      "cell_type": "markdown",
      "source": [
        "**PREGUNTA 1**"
      ],
      "metadata": {
        "id": "nBccUP9XfPpC"
      }
    },
    {
      "cell_type": "code",
      "source": [
        "import numpy as np\n",
        "import matplotlib.pyplot as plt"
      ],
      "metadata": {
        "id": "_nRLJ3V2flMS"
      },
      "execution_count": 1,
      "outputs": []
    },
    {
      "cell_type": "code",
      "source": [
        "plt.axvline(0, color='r')   # Eje de las ordenadas\n",
        "plt.axhline(0, color='r')   # Eje de las abscisas\n",
        "\n",
        "x = np.linspace(-0.5, 1.1, 600)      #Donde inicia, Donde termina, Cantidad de trapecios que tendra.\n",
        "y = x*np.sqrt(x**2+9)                     #*= Multiplicacion / **= Exponente.\n",
        "plt.plot(x, y)\n",
        "\n",
        "plt.grid()\n",
        "plt.show()"
      ],
      "metadata": {
        "colab": {
          "base_uri": "https://localhost:8080/",
          "height": 265
        },
        "id": "LqxXT7Ruh87D",
        "outputId": "d865b25a-bccf-4167-c61a-de1996f00950"
      },
      "execution_count": 23,
      "outputs": [
        {
          "output_type": "display_data",
          "data": {
            "text/plain": [
              "<Figure size 432x288 with 1 Axes>"
            ],
            "image/png": "[encoded data removed]"
          },
          "metadata": {
            "needs_background": "light"
          }
        }
      ]
    },
    {
      "cell_type": "markdown",
      "source": [
        "A) Metodo de rectangulo"
      ],
      "metadata": {
        "id": "wwcUgbC_fYiJ"
      }
    },
    {
      "cell_type": "code",
      "source": [
        "import numpy as np\n",
        "import matplotlib.pyplot as plt"
      ],
      "metadata": {
        "id": "WUZ3k22Ait87"
      },
      "execution_count": 7,
      "outputs": []
    },
    {
      "cell_type": "code",
      "source": [
        "x = np.linspace(-1,1,20)                     #Donde inicia, Donde termina, Cantidad de trapecios que tendra.\n",
        "y = x*np.sqrt(x**2+9)                       \n",
        "y1 = y[0:-1]\n",
        "dx = x[1] - x[0]                             # Ancho de cada rectángulo\n",
        "fArea = dx*np.sum(y1)                        # Rectángulo ancho * alto, luego suma\n",
        "print(\"Integral area:\",fArea)"
      ],
      "metadata": {
        "colab": {
          "base_uri": "https://localhost:8080/"
        },
        "id": "ZPJTDi9_iqdi",
        "outputId": "42c27f71-e9df-42c8-b836-bdb820a4424e"
      },
      "execution_count": 10,
      "outputs": [
        {
          "output_type": "stream",
          "name": "stdout",
          "text": [
            "Integral area: -0.33287133264930346\n"
          ]
        }
      ]
    },
    {
      "cell_type": "markdown",
      "source": [
        "B) METODO DEL TRAPECIO"
      ],
      "metadata": {
        "id": "PQV__x6pjK1x"
      }
    },
    {
      "cell_type": "code",
      "source": [
        "import numpy as np\n",
        "import matplotlib.pyplot as plt"
      ],
      "metadata": {
        "id": "vqhB9vE7jP7P"
      },
      "execution_count": 11,
      "outputs": []
    },
    {
      "cell_type": "code",
      "source": [
        "x = np.linspace(-1,1,20)                    #Donde inicia, Donde termina, Cantidad de trapecios que tendra.\n",
        "y = x*np.sqrt(x**2+9)                          \n",
        "y1 = y[1:-1]\n",
        "dx = x[1] - x[0]                            # Ancho de cada trapecio\n",
        "fsum1 = np.sum(2*y1)                        #Solo multiplica los internos y por eso agarra solo la parte de \"y1\"\n",
        "fsum = fsum1 + y[0] + y[-1]                 #Suman los valores de \"a\" y la imagen de \"f(b)\"\"\n",
        "fArea = (dx/2)*fsum                         # suma de areas del trapecio\n",
        "print(\"Integral Area:\" ,fArea)"
      ],
      "metadata": {
        "colab": {
          "base_uri": "https://localhost:8080/"
        },
        "id": "h36R5hHMjf1a",
        "outputId": "3a701c7c-1295-4906-bac4-f6ddccefc169"
      },
      "execution_count": 18,
      "outputs": [
        {
          "output_type": "stream",
          "name": "stdout",
          "text": [
            "Integral Area: -2.8047739569477637e-16\n"
          ]
        }
      ]
    },
    {
      "cell_type": "markdown",
      "source": [
        "c)Error"
      ],
      "metadata": {
        "id": "eiod_-UAkVWL"
      }
    },
    {
      "cell_type": "code",
      "source": [
        "import scipy.integrate as integrate        #Importar la Libreria SPICY  / #Siempre primero hacer correr esto, osino sale error.\n",
        "                                           #Numpy = Maneja arreglos y vectores\n",
        "import   math     "
      ],
      "metadata": {
        "id": "Y8dazcs0kmsR"
      },
      "execution_count": 13,
      "outputs": []
    },
    {
      "cell_type": "code",
      "source": [
        "#Integral por el Metodo QUAD                                        #Integrate = es la Libreria Spicy, que le hicimos el cambio de nombre.\n",
        "res = integrate.quad(lambda x: x*np.sqrt(x**2+9), -1, 1)                  #quad = Es el metodo por el que vamos a resolver.\n",
        "                                                                    #lambda = significa o da a entender que es una Funcion.\n",
        "print(\"Resultado de la Integral es:\" ,res)                          #Muestra el resultado primero y a lado el error."
      ],
      "metadata": {
        "colab": {
          "base_uri": "https://localhost:8080/"
        },
        "id": "Zy9fVFynk5gC",
        "outputId": "0a3c5d09-dc3c-4d9f-ca24-6222c557ffd8"
      },
      "execution_count": 14,
      "outputs": [
        {
          "output_type": "stream",
          "name": "stdout",
          "text": [
            "Resultado de la Integral es: (0.0, 3.409126508521985e-14)\n"
          ]
        }
      ]
    },
    {
      "cell_type": "markdown",
      "source": [
        "**PREGUNTA 2**"
      ],
      "metadata": {
        "id": "mnMRWRSolXYL"
      }
    },
    {
      "cell_type": "markdown",
      "source": [
        "Metodo de Monte carlo"
      ],
      "metadata": {
        "id": "Hx5Kbp7AlfbB"
      }
    },
    {
      "cell_type": "code",
      "source": [
        "import numpy as np\n",
        "import matplotlib.pyplot as plt"
      ],
      "metadata": {
        "id": "fGLV7nEflbMj"
      },
      "execution_count": 15,
      "outputs": []
    },
    {
      "cell_type": "code",
      "source": [
        "#Monte Carlos es un metodo computacional\n",
        "\n",
        "N = 50000000                                 #Este metodo necesita que uno ponga numeros grandes, para que tenga mas exactitud\n",
        "# limite inferior\n",
        "a = -1                                     \n",
        "# limite superior                            \n",
        "b = 1\n",
        "x = np.random.uniform(a, b, N)              #El punto es aleatorio, en cualquier lugar / Es un elemento probabilistico \n",
        "                                            #Saca una distribucion uniforme, como una campana de GAUSS\n",
        "y = x*np.sqrt(x**2+9)                            \n",
        "\n",
        "sumfx = np.sum(y)\n",
        "farea = ((b - a) / N) * sumfx\n",
        "print(\"El área es: \", farea)"
      ],
      "metadata": {
        "colab": {
          "base_uri": "https://localhost:8080/"
        },
        "id": "Bsgnwyg4l11j",
        "outputId": "11e85838-b437-456b-913b-dbc8953cc200"
      },
      "execution_count": 16,
      "outputs": [
        {
          "output_type": "stream",
          "name": "stdout",
          "text": [
            "El área es:  -0.0006786330231273677\n"
          ]
        }
      ]
    },
    {
      "cell_type": "markdown",
      "source": [
        "**PREGUNTA 3**"
      ],
      "metadata": {
        "id": "G0cFyc1Bm2ZS"
      }
    },
    {
      "cell_type": "code",
      "source": [
        "from numpy import array, zeros, diag, diagflat, dot"
      ],
      "metadata": {
        "id": "QlhRXA5pm-jJ"
      },
      "execution_count": 19,
      "outputs": []
    },
    {
      "cell_type": "code",
      "source": [
        "def jacobi(A,b,N=25,x=None):                                  #En JACOBI ya esta hecho esto y no se debe de cambiar nada de aqui....\n",
        "    \"\"\" AX=B - Jacobi Método Iterativo. \"\"\"\n",
        "    # Crear la conjetura (hipótesis, supuesto) inicial\n",
        "    # Si se necesita\n",
        "    if x is None:\n",
        "        x = zeros(len(A[0]))                                  #len=pide la longitud del vector / Genera una matriz de ceros [0. , 0. , 0., ]\n",
        "\n",
        "    # Crear una matriz diagonalizada de A\n",
        "    D = diag(A)                                              #diag = agarra los elementos de la diagonal\n",
        "    R = A - diagflat(D)                                      #diagdlat = genera una matriz diagonal con esos elmentos \n",
        "                                                             #Le resta A para que asi sea con zeros y seia la matriz R\n",
        "    # Iteración por N veces \n",
        "    for i in range(N):\n",
        "        x = (b - dot(R,x)) / D                                #dot = es el producto o la multiplicacion \n",
        "    return x"
      ],
      "metadata": {
        "id": "WB74gOeJnHPZ"
      },
      "execution_count": 20,
      "outputs": []
    },
    {
      "cell_type": "code",
      "source": [
        "# PRIMERO ORDENAR LA MATRIZ CON LOS DOMINANTES Y DESPUES LO COPIO AL PROGRAMA\n",
        "A = array([[3, -1, 1], [2, 5, -2], [1, -1, -3]])    #3x3  \n",
        "b = array([4, -6, 6])                                       \n",
        "\n",
        "sol = jacobi(A,b,N=20)                                                  # N= Es el numero de Interancciones \"TE LO DA EL PROBLEMA\""
      ],
      "metadata": {
        "id": "9J7_NDSTnLc6"
      },
      "execution_count": 28,
      "outputs": []
    },
    {
      "cell_type": "code",
      "source": [
        "#SE COPIA TAL CUAL\n",
        "print(\"A:\")\n",
        "print(A)\n",
        "print(\"b:\")\n",
        "print(b)\n",
        "print(\"x:\")\n",
        "print(sol)\n",
        "print(\"Tolerance\")\n",
        "print(sol)"
      ],
      "metadata": {
        "colab": {
          "base_uri": "https://localhost:8080/"
        },
        "id": "r2dUE3DznldB",
        "outputId": "b4ba03a7-6401-4548-88ba-c6bc844c1ef1"
      },
      "execution_count": 29,
      "outputs": [
        {
          "output_type": "stream",
          "name": "stdout",
          "text": [
            "A:\n",
            "[[ 3 -1  1]\n",
            " [ 2  5 -2]\n",
            " [ 1 -1 -3]]\n",
            "b:\n",
            "[ 4 -6  6]\n",
            "x:\n",
            "[ 0.99990597 -1.99991642 -0.99997562]\n",
            "Tolerance\n",
            "[ 0.99990597 -1.99991642 -0.99997562]\n"
          ]
        }
      ]
    }
  ]
}