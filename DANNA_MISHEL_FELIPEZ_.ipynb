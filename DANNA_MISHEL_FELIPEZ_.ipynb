{
  "nbformat": 4,
  "nbformat_minor": 0,
  "metadata": {
    "colab": {
      "provenance": []
    },
    "kernelspec": {
      "name": "python3",
      "display_name": "Python 3"
    },
    "language_info": {
      "name": "python"
    }
  },
  "cells": [
    {
      "cell_type": "markdown",
      "source": [
        "PREGUNTA 1"
      ],
      "metadata": {
        "id": "oyPQntgODmB8"
      }
    },
    {
      "cell_type": "markdown",
      "source": [
        ":$$\n",
        "\\int_-0.6^1.4 1+e^{x^2} dx = \n",
        "$$       "
      ],
      "metadata": {
        "id": "V2Jy1Yn0Feqx"
      }
    },
    {
      "cell_type": "code",
      "source": [
        "import numpy as np\n",
        "import matplotlib.pyplot as plt"
      ],
      "metadata": {
        "id": "nYs8Hj_CFqDH"
      },
      "execution_count": null,
      "outputs": []
    },
    {
      "cell_type": "markdown",
      "source": [
        "GRAFICO"
      ],
      "metadata": {
        "id": "i6W6Vrm1GtLE"
      }
    },
    {
      "cell_type": "code",
      "source": [
        "plt.axvline(0, color='r')   # Eje de las ordenadas\n",
        "plt.axhline(0, color='r')   # Eje de las abscisas\n",
        "\n",
        "x = np.linspace(-0.5, 1.5, 200)\n",
        "y = np.exp(x**2)\n",
        "plt.plot(x, y)\n",
        "\n",
        "plt.grid()\n",
        "plt.show()"
      ],
      "metadata": {
        "colab": {
          "base_uri": "https://localhost:8080/",
          "height": 265
        },
        "id": "qRyNkbxgGIw3",
        "outputId": "6088ded4-fbee-4a46-f03c-88831ac39dc0"
      },
      "execution_count": null,
      "outputs": [
        {
          "output_type": "display_data",
          "data": {
            "text/plain": [
              "<Figure size 432x288 with 1 Axes>"
            ],
            "image/png": "[encoded data removed]"
          },
          "metadata": {
            "needs_background": "light"
          }
        }
      ]
    },
    {
      "cell_type": "markdown",
      "source": [
        "METODO RECTAGULO"
      ],
      "metadata": {
        "id": "alNITPLDIWRe"
      }
    },
    {
      "cell_type": "code",
      "source": [
        "x = np.linspace(-0.6,1.4,200)\n",
        "y = 1+np.exp(-x) * np.cos(-3*x)\n",
        "y1 = y[0:-1]\n",
        "dx = x[1] - x[0]                        \n",
        "fArea = dx*np.sum(y1)                    \n",
        "print(\"Integral area:\",fArea)\n"
      ],
      "metadata": {
        "colab": {
          "base_uri": "https://localhost:8080/"
        },
        "id": "Uo4yBTr-H6sK",
        "outputId": "7bbf8d3d-6cf4-4e14-d158-abf64dd08ea6"
      },
      "execution_count": null,
      "outputs": [
        {
          "output_type": "stream",
          "name": "stdout",
          "text": [
            "Integral area: 2.4370375286167985\n"
          ]
        }
      ]
    },
    {
      "cell_type": "code",
      "source": [
        "x = np.linspace(-0.6,1.4,200)\n",
        "y = 1+np.exp(-x)*np.cos(-3*x)\n",
        "y1 = y[0:-1]\n",
        "dx = x[1] - x[0]                        # Ancho de cada rectángulo\n",
        "fArea = dx*np.sum(y1)                    # Rectángulo ancho * alto, luego suma\n",
        "print(\"Integral area:\",fArea)"
      ],
      "metadata": {
        "id": "15UfzJ4II-Dd",
        "colab": {
          "base_uri": "https://localhost:8080/"
        },
        "outputId": "f2e42fbc-bccf-47cf-b54b-17330393d265"
      },
      "execution_count": null,
      "outputs": [
        {
          "output_type": "stream",
          "name": "stdout",
          "text": [
            "Integral area: 2.4370375286167985\n"
          ]
        }
      ]
    },
    {
      "cell_type": "markdown",
      "source": [
        "METODO TRAPECIO"
      ],
      "metadata": {
        "id": "NZdzS9J6avVq"
      }
    },
    {
      "cell_type": "code",
      "source": [
        "x = np.linspace(-0.6,1.4,200 )\n",
        "y = 1+np.cos(3*x)*np.exp(-x)\n",
        "y1 = y[1:-1]\n",
        "dx = x[1] - x[0]        # Ancho de cada trapecio\n",
        "fsum1 = np.sum(2*y1)\n",
        "fsum = fsum1 + y[0] + y[-1]\n",
        "fArea = (dx/2)*fsum     # suma de areas del trapecio\n",
        "print(fArea)"
      ],
      "metadata": {
        "colab": {
          "base_uri": "https://localhost:8080/"
        },
        "id": "8NZt8rVPakAI",
        "outputId": "0cd628dc-3042-44f2-8524-7176f52ece95"
      },
      "execution_count": null,
      "outputs": [
        {
          "output_type": "stream",
          "name": "stdout",
          "text": [
            "2.438510354637633\n"
          ]
        }
      ]
    },
    {
      "cell_type": "markdown",
      "source": [
        "PREGUNTA 2"
      ],
      "metadata": {
        "id": "yZ2eYgIkc35a"
      }
    },
    {
      "cell_type": "markdown",
      "source": [
        "METODO DE MONTECARLO"
      ],
      "metadata": {
        "id": "8f4GeTQMeQR4"
      }
    },
    {
      "cell_type": "code",
      "source": [
        "N = 10000000\n",
        "# limite inferior\n",
        "a = -10000\n",
        "# limite superior\n",
        "b = 10000\n",
        "x = np.random.uniform(a, b, N)\n",
        "\n",
        "y = 1/(1+x**2)\n",
        "\n",
        "sumfx = np.sum(y)\n",
        "farea = ((b - a) / N) * sumfx\n",
        "print(\"El área es: \", farea)"
      ],
      "metadata": {
        "colab": {
          "base_uri": "https://localhost:8080/"
        },
        "id": "mqlSzgK0byNQ",
        "outputId": "68f0a5f7-793c-4cc0-d092-61973f269e0f"
      },
      "execution_count": null,
      "outputs": [
        {
          "output_type": "stream",
          "name": "stdout",
          "text": [
            "El área es:  3.0983387261829085\n"
          ]
        }
      ]
    },
    {
      "cell_type": "code",
      "source": [],
      "metadata": {
        "id": "-Pzn7TftlPc8"
      },
      "execution_count": null,
      "outputs": []
    },
    {
      "cell_type": "markdown",
      "source": [
        "PREGUNTA 3"
      ],
      "metadata": {
        "id": "5hQFOBTHhfH6"
      }
    },
    {
      "cell_type": "markdown",
      "source": [
        "metodo de jacobi"
      ],
      "metadata": {
        "id": "8LyFKEkAhj1A"
      }
    },
    {
      "cell_type": "code",
      "source": [
        "A = array([[3,-1,-1],[-1,3,1],[2,1,4]])\n",
        "b = array([1,3,7])\n",
        "\n",
        "\n",
        "sol = jacobi(A,b,N=20)"
      ],
      "metadata": {
        "colab": {
          "base_uri": "https://localhost:8080/",
          "height": 235
        },
        "id": "hlq7mzdhjqNE",
        "outputId": "9dd99157-7ec5-45be-f199-8deec95753ef"
      },
      "execution_count": null,
      "outputs": [
        {
          "output_type": "error",
          "ename": "NameError",
          "evalue": "ignored",
          "traceback": [
            "\u001b[0;31m---------------------------------------------------------------------------\u001b[0m",
            "\u001b[0;31mNameError\u001b[0m                                 Traceback (most recent call last)",
            "\u001b[0;32m<ipython-input-24-751f8620e8dd>\u001b[0m in \u001b[0;36m<module>\u001b[0;34m\u001b[0m\n\u001b[0;32m----> 1\u001b[0;31m \u001b[0mA\u001b[0m \u001b[0;34m=\u001b[0m \u001b[0marray\u001b[0m\u001b[0;34m(\u001b[0m\u001b[0;34m[\u001b[0m\u001b[0;34m[\u001b[0m\u001b[0;36m3\u001b[0m\u001b[0;34m,\u001b[0m\u001b[0;34m-\u001b[0m\u001b[0;36m1\u001b[0m\u001b[0;34m,\u001b[0m\u001b[0;34m-\u001b[0m\u001b[0;36m1\u001b[0m\u001b[0;34m]\u001b[0m\u001b[0;34m,\u001b[0m\u001b[0;34m[\u001b[0m\u001b[0;34m-\u001b[0m\u001b[0;36m1\u001b[0m\u001b[0;34m,\u001b[0m\u001b[0;36m3\u001b[0m\u001b[0;34m,\u001b[0m\u001b[0;36m1\u001b[0m\u001b[0;34m]\u001b[0m\u001b[0;34m,\u001b[0m\u001b[0;34m[\u001b[0m\u001b[0;36m2\u001b[0m\u001b[0;34m,\u001b[0m\u001b[0;36m1\u001b[0m\u001b[0;34m,\u001b[0m\u001b[0;36m4\u001b[0m\u001b[0;34m]\u001b[0m\u001b[0;34m]\u001b[0m\u001b[0;34m)\u001b[0m\u001b[0;34m\u001b[0m\u001b[0;34m\u001b[0m\u001b[0m\n\u001b[0m\u001b[1;32m      2\u001b[0m \u001b[0mb\u001b[0m \u001b[0;34m=\u001b[0m \u001b[0marray\u001b[0m\u001b[0;34m(\u001b[0m\u001b[0;34m[\u001b[0m\u001b[0;36m1\u001b[0m\u001b[0;34m,\u001b[0m\u001b[0;36m3\u001b[0m\u001b[0;34m,\u001b[0m\u001b[0;36m7\u001b[0m\u001b[0;34m]\u001b[0m\u001b[0;34m)\u001b[0m\u001b[0;34m\u001b[0m\u001b[0;34m\u001b[0m\u001b[0m\n\u001b[1;32m      3\u001b[0m \u001b[0;34m\u001b[0m\u001b[0m\n\u001b[1;32m      4\u001b[0m \u001b[0;34m\u001b[0m\u001b[0m\n\u001b[1;32m      5\u001b[0m \u001b[0msol\u001b[0m \u001b[0;34m=\u001b[0m \u001b[0mjacobi\u001b[0m\u001b[0;34m(\u001b[0m\u001b[0mA\u001b[0m\u001b[0;34m,\u001b[0m\u001b[0mb\u001b[0m\u001b[0;34m,\u001b[0m\u001b[0mN\u001b[0m\u001b[0;34m=\u001b[0m\u001b[0;36m20\u001b[0m\u001b[0;34m)\u001b[0m\u001b[0;34m\u001b[0m\u001b[0;34m\u001b[0m\u001b[0m\n",
            "\u001b[0;31mNameError\u001b[0m: name 'array' is not defined"
          ]
        }
      ]
    }
  ]
}