{
  "nbformat": 4,
  "nbformat_minor": 0,
  "metadata": {
    "colab": {
      "provenance": []
    },
    "kernelspec": {
      "name": "python3",
      "display_name": "Python 3"
    },
    "language_info": {
      "name": "python"
    }
  },
  "cells": [
    {
      "cell_type": "markdown",
      "source": [
        "PREGUNTA 1"
      ],
      "metadata": {
        "id": "LJDPOoZFgQOG"
      }
    },
    {
      "cell_type": "markdown",
      "source": [
        "Metodo rectangulos"
      ],
      "metadata": {
        "id": "et_5unphgS52"
      }
    },
    {
      "cell_type": "code",
      "source": [
        "import numpy as np\n",
        "import matplotlib.pyplot as plt"
      ],
      "metadata": {
        "id": "GyjxNVHhh2Oe"
      },
      "execution_count": 2,
      "outputs": []
    },
    {
      "cell_type": "code",
      "source": [
        "plt.axvline(0, color='r')   # Eje de las ordenadas\n",
        "plt.axhline(0, color='r')   # Eje de las abscisas\n",
        "\n",
        "x = np.linspace(-1.1, 1.1, 20)\n",
        "y = x*np.sqrt(x**2+9)\n",
        "plt.plot(x, y)\n",
        "\n",
        "plt.grid()\n",
        "plt.show()"
      ],
      "metadata": {
        "colab": {
          "base_uri": "https://localhost:8080/",
          "height": 265
        },
        "id": "HTAQkjfUkaN3",
        "outputId": "2ee14b7f-3f87-4048-8667-253a72a2ede1"
      },
      "execution_count": 7,
      "outputs": [
        {
          "output_type": "display_data",
          "data": {
            "text/plain": [
              "<Figure size 432x288 with 1 Axes>"
            ],
            "image/png": "[encoded data removed]"
          },
          "metadata": {
            "needs_background": "light"
          }
        }
      ]
    },
    {
      "cell_type": "code",
      "source": [
        "x = np.linspace(-1,1,20)\n",
        "y = x*np.sqrt(x**2+9)\n",
        "y1 = y[0:-1]\n",
        "dx = x[1] - x[0]                        \n",
        "fArea = dx*np.sum(y1)                    \n",
        "print(\"Integral area:\",fArea)"
      ],
      "metadata": {
        "colab": {
          "base_uri": "https://localhost:8080/"
        },
        "id": "o_wyCHc_gXyH",
        "outputId": "00e177a7-a09d-4011-f032-1c402259ace7"
      },
      "execution_count": 9,
      "outputs": [
        {
          "output_type": "stream",
          "name": "stdout",
          "text": [
            "Integral area: -0.33287133264930346\n"
          ]
        }
      ]
    },
    {
      "cell_type": "markdown",
      "source": [
        "Metodo trapecio"
      ],
      "metadata": {
        "id": "1tVjLsfqiSOI"
      }
    },
    {
      "cell_type": "code",
      "source": [
        "x = np.linspace(-1,1,20)\n",
        "y = x*np.sqrt(x**2+9)\n",
        "y1 = y[1:-1]\n",
        "dx = x[1] - x[0]        \n",
        "fsum1 = np.sum(2*y1)\n",
        "fsum = fsum1 + y[0] + y[-1]\n",
        "fArea = (dx/2)*fsum     \n",
        "print(fArea)"
      ],
      "metadata": {
        "colab": {
          "base_uri": "https://localhost:8080/"
        },
        "id": "qfNyv-u5iUxI",
        "outputId": "790b22dd-b8e2-4537-b21b-47b34c833ab5"
      },
      "execution_count": 12,
      "outputs": [
        {
          "output_type": "stream",
          "name": "stdout",
          "text": [
            "-2.8047739569477637e-16\n"
          ]
        }
      ]
    },
    {
      "cell_type": "markdown",
      "source": [
        "PREGUNTA 2"
      ],
      "metadata": {
        "id": "G-7tKh_AjAqB"
      }
    },
    {
      "cell_type": "markdown",
      "source": [
        "Metodo Monte Carlo"
      ],
      "metadata": {
        "id": "qpewQ6T7jDLA"
      }
    },
    {
      "cell_type": "code",
      "source": [
        "N = 86444\n",
        "# limite inferior\n",
        "a = 1\n",
        "# limite superior\n",
        "b = np.sqrt(3)\n",
        "x = np.random.uniform(a, b, N)\n",
        "\n",
        "y = 1/ (1+x**2)\n",
        "\n",
        "sumfx = np.sum(y)\n",
        "farea = ((b - a) / N) * sumfx\n",
        "print(\"El área es: \", farea)"
      ],
      "metadata": {
        "colab": {
          "base_uri": "https://localhost:8080/"
        },
        "id": "pOSoZCV8jHtZ",
        "outputId": "ac0212cc-724d-4989-9b2d-863028567314"
      },
      "execution_count": 11,
      "outputs": [
        {
          "output_type": "stream",
          "name": "stdout",
          "text": [
            "El área es:  0.2616104020080137\n"
          ]
        }
      ]
    },
    {
      "cell_type": "markdown",
      "source": [
        "PREGUNTA 3"
      ],
      "metadata": {
        "id": "DmjeqsmpmW-C"
      }
    },
    {
      "cell_type": "markdown",
      "source": [
        "Metodo Jacobi   tolerancia=0.001"
      ],
      "metadata": {
        "id": "Iobtj_TRmeky"
      }
    },
    {
      "cell_type": "code",
      "source": [
        "from numpy import array, zeros, diag, diagflat, dot"
      ],
      "metadata": {
        "id": "pvTLLKHqmpOS"
      },
      "execution_count": 23,
      "outputs": []
    },
    {
      "cell_type": "code",
      "source": [
        "A = array([[1, -1, -3], [3, -1, 1], [2, 5, -2]])\n",
        "b = array([6, 4, -6])\n",
        "\n",
        "sol = jacobi (A,b,N=3)"
      ],
      "metadata": {
        "colab": {
          "base_uri": "https://localhost:8080/",
          "height": 200
        },
        "id": "d2zM4o9anyJg",
        "outputId": "5f9fc6c4-afbf-4c84-bf29-ff20342107e4"
      },
      "execution_count": 26,
      "outputs": [
        {
          "output_type": "error",
          "ename": "NameError",
          "evalue": "ignored",
          "traceback": [
            "\u001b[0;31m---------------------------------------------------------------------------\u001b[0m",
            "\u001b[0;31mNameError\u001b[0m                                 Traceback (most recent call last)",
            "\u001b[0;32m<ipython-input-26-a3875af4eaea>\u001b[0m in \u001b[0;36m<module>\u001b[0;34m\u001b[0m\n\u001b[1;32m      2\u001b[0m \u001b[0mb\u001b[0m \u001b[0;34m=\u001b[0m \u001b[0marray\u001b[0m\u001b[0;34m(\u001b[0m\u001b[0;34m[\u001b[0m\u001b[0;36m6\u001b[0m\u001b[0;34m,\u001b[0m \u001b[0;36m4\u001b[0m\u001b[0;34m,\u001b[0m \u001b[0;34m-\u001b[0m\u001b[0;36m6\u001b[0m\u001b[0;34m]\u001b[0m\u001b[0;34m)\u001b[0m\u001b[0;34m\u001b[0m\u001b[0;34m\u001b[0m\u001b[0m\n\u001b[1;32m      3\u001b[0m \u001b[0;34m\u001b[0m\u001b[0m\n\u001b[0;32m----> 4\u001b[0;31m \u001b[0msol\u001b[0m \u001b[0;34m=\u001b[0m \u001b[0mjacobi\u001b[0m \u001b[0;34m(\u001b[0m\u001b[0mA\u001b[0m\u001b[0;34m,\u001b[0m\u001b[0mb\u001b[0m\u001b[0;34m,\u001b[0m\u001b[0mN\u001b[0m\u001b[0;34m=\u001b[0m\u001b[0;36m3\u001b[0m\u001b[0;34m)\u001b[0m\u001b[0;34m\u001b[0m\u001b[0;34m\u001b[0m\u001b[0m\n\u001b[0m",
            "\u001b[0;31mNameError\u001b[0m: name 'jacobi' is not defined"
          ]
        }
      ]
    },
    {
      "cell_type": "code",
      "source": [
        "print(\"A:\")\n",
        "print(A)\n",
        "print(\"b:\")\n",
        "print(b)\n",
        "print(\"x:\")\n",
        "print(sol)"
      ],
      "metadata": {
        "colab": {
          "base_uri": "https://localhost:8080/",
          "height": 321
        },
        "id": "6Q4RKqFwn88K",
        "outputId": "7958dab5-97e9-49dc-d561-4d5a2c7751d6"
      },
      "execution_count": 15,
      "outputs": [
        {
          "output_type": "stream",
          "name": "stdout",
          "text": [
            "A:\n",
            "[[25.  -0.9 -0.3]\n",
            " [ 3.7 -7.3 -0.1]\n",
            " [ 0.7  0.1 -8.2]]\n",
            "b:\n",
            "[ 20.2 -18.9 -56.4]\n",
            "x:\n"
          ]
        },
        {
          "output_type": "error",
          "ename": "NameError",
          "evalue": "ignored",
          "traceback": [
            "\u001b[0;31m---------------------------------------------------------------------------\u001b[0m",
            "\u001b[0;31mNameError\u001b[0m                                 Traceback (most recent call last)",
            "\u001b[0;32m<ipython-input-15-05e560b8daa0>\u001b[0m in \u001b[0;36m<module>\u001b[0;34m\u001b[0m\n\u001b[1;32m      4\u001b[0m \u001b[0mprint\u001b[0m\u001b[0;34m(\u001b[0m\u001b[0mb\u001b[0m\u001b[0;34m)\u001b[0m\u001b[0;34m\u001b[0m\u001b[0;34m\u001b[0m\u001b[0m\n\u001b[1;32m      5\u001b[0m \u001b[0mprint\u001b[0m\u001b[0;34m(\u001b[0m\u001b[0;34m\"x:\"\u001b[0m\u001b[0;34m)\u001b[0m\u001b[0;34m\u001b[0m\u001b[0;34m\u001b[0m\u001b[0m\n\u001b[0;32m----> 6\u001b[0;31m \u001b[0mprint\u001b[0m\u001b[0;34m(\u001b[0m\u001b[0msol\u001b[0m\u001b[0;34m)\u001b[0m\u001b[0;34m\u001b[0m\u001b[0;34m\u001b[0m\u001b[0m\n\u001b[0m",
            "\u001b[0;31mNameError\u001b[0m: name 'sol' is not defined"
          ]
        }
      ]
    }
  ]
}